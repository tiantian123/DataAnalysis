{
 "cells": [
  {
   "cell_type": "code",
   "execution_count": null,
   "metadata": {},
   "outputs": [],
   "source": [
    "'''\n",
    "【项目01】  商铺数据加载及存储\n",
    "\n",
    "作业要求：\n",
    "1、成功读取“商铺数据.csv”文件\n",
    "2、解析数据，存成列表字典格式：[{'var1':value1,'var2':value2,'var3':values,...},...,{}]\n",
    "3、数据清洗：\n",
    "① comment，price两个字段清洗成数字\n",
    "② 清除字段缺失的数据\n",
    "③ commentlist拆分成三个字段，并且清洗成数字\n",
    "4、结果存为.pkl文件\n",
    "\n",
    "'''"
   ]
  },
  {
   "cell_type": "code",
   "execution_count": 45,
   "metadata": {},
   "outputs": [
    {
     "name": "stdout",
     "output_type": "stream",
     "text": [
      "成功加载542条数据\n",
      "[{'classify': '美食', 'name': '汉蒸坊蒸汽海鲜主题餐厅(合生汇店)', 'comment_count': '830', 'star': '四星商户', 'price': '165', 'address': '翔殷路1099号合生汇5F', 'quality': 7.9, 'environment': 7.7, 'service': 7.9}, {'classify': '美食', 'name': '千里香馄饨面', 'comment_count': '15', 'star': '准四星商户', 'price': '14', 'address': '国定路125号', 'quality': 7.2, 'environment': 7.1, 'service': 7.1}, {'classify': '美食', 'name': '星巴克(又一城店)', 'comment_count': '1113', 'star': '四星商户', 'price': '36', 'address': '淞沪路8号', 'quality': 7.6, 'environment': 7.4, 'service': 7.4}, {'classify': '美食', 'name': '百武西茶饮(合生汇店)', 'comment_count': '33', 'star': '准四星商户', 'price': '18', 'address': '翔殷路1099号合生汇4层', 'quality': 6.9, 'environment': 7.2, 'service': 7.1}, {'classify': '休闲娱乐', 'name': '梦想空间Dream Space影吧(五角场店)', 'comment_count': '957', 'star': '五星商户', 'price': '106', 'address': '政旦东路36号4楼国济路口', 'quality': 9.3, 'environment': 9.2, 'service': 9.1}, {'classify': '休闲娱乐', 'name': '快乐菲莉HappyFeelingDIY烘焙(合生汇店)', 'comment_count': '174', 'star': '五星商户', 'price': '116', 'address': '五角场街道翔殷路1099号合生汇4楼25号', 'quality': 8.1, 'environment': 8.0, 'service': 7.8}, {'classify': '休闲娱乐', 'name': '网鱼网咖(东方商厦店)', 'comment_count': '126', 'star': '四星商户', 'price': '30', 'address': '四平路2500号东方商厦1楼', 'quality': 7.3, 'environment': 7.5, 'service': 8.0}, {'classify': '美食', 'name': '肯德基(万达店)', 'comment_count': '16114', 'star': '四星商户', 'price': '26', 'address': '邯郸路608弄50号', 'quality': 8.2, 'environment': 8.0, 'service': 7.9}, {'classify': '购物', 'name': '润re(百联又一城购物中心店)', 'comment_count': '61', 'star': '五星商户', 'price': '185', 'address': '淞沪路8号百联又一城购物中心B1层', 'quality': 9.3, 'environment': 9.3, 'service': 9.3}, {'classify': '购物', 'name': '名创优品(合生汇店)', 'comment_count': '96', 'star': '准四星商户', 'price': '45', 'address': '翔殷路1099号合生汇B2层', 'quality': 7.9, 'environment': 7.8, 'service': 7.1}]\n"
     ]
    }
   ],
   "source": [
    "# 【项目01】  商铺数据加载及存储\n",
    "# 方法一\n",
    "f = open(r'D:\\python_note\\DataPractice\\商铺数据.csv',encoding='utf8')\n",
    "\n",
    "data = f.readlines()\n",
    "#print(data[1:5])\n",
    "\n",
    "def fcm(strs):\n",
    "    if '条' in strs:\n",
    "        cm = strs.split(' ')[0]\n",
    "    else:\n",
    "        return 'None'\n",
    "    return cm\n",
    "\n",
    "def fpr(strs):\n",
    "    if '￥' in strs:\n",
    "        price = strs.split('￥')[-1]\n",
    "    else:\n",
    "        return 'None'\n",
    "    return price\n",
    "\n",
    "def fcl(clist):\n",
    "    if len(clist) == 3:\n",
    "        quali = float(clist[0][2:])\n",
    "        envir = float(clist[1][2:])\n",
    "        servi = float(clist[2][2:])\n",
    "        return [quali, envir, servi]\n",
    "    else:\n",
    "        return 'None'\n",
    "datalst =[]\n",
    "data_lst2=[]\n",
    "n = 0\n",
    "\n",
    "for i in data[25:]:\n",
    "    Info = i.split(',')\n",
    "    classify = Info[0]\n",
    "    name = Info[1]\n",
    "    cm = fcm(Info[2])\n",
    "    star = Info[3]\n",
    "    price = fpr(Info[4])\n",
    "    add = Info[5]\n",
    "    qual = fcl(Info[-1].split('                                '))[0]\n",
    "    envir = fcl(Info[-1].split('                                '))[1]\n",
    "    serv = fcl(Info[-1].split('                                '))[2]\n",
    "    #qual, envir, serv = fcl(Info[-1].split('                                ')) 当多值返回时，遇到None会报错，'NoneType' object is not iterable\n",
    "    #print(classify, name, cm, star, price, add,qual, envir, serv)\n",
    "    if 'None' not in (classify, name, cm, star, price, add,qual, envir, serv):\n",
    "        n += 1\n",
    "        data_lst2 = [['classify',classify],\n",
    "                     ['name',name], \n",
    "                     ['comment_count',cm], \n",
    "                     ['star',star], \n",
    "                     ['price',price], \n",
    "                     ['address',add],\n",
    "                     ['quality',qual],\n",
    "                     ['environment',envir],\n",
    "                     ['service',serv]]\n",
    "        datalst.append(dict(data_lst2))\n",
    "        #print('成功加载第%i条数据' % n)\n",
    "print('成功加载%i条数据' % n)\n",
    "print(datalst[:10])\n",
    "import pickle\n",
    "\n",
    "with open(r'D:\\python_note\\DataPractice\\data.pkl','wb') as pic:\n",
    "    pickle.dump(datalst,pic)"
   ]
  },
  {
   "cell_type": "code",
   "execution_count": null,
   "metadata": {},
   "outputs": [],
   "source": []
  }
 ],
 "metadata": {
  "kernelspec": {
   "display_name": "Python 3",
   "language": "python",
   "name": "python3"
  },
  "language_info": {
   "codemirror_mode": {
    "name": "ipython",
    "version": 3
   },
   "file_extension": ".py",
   "mimetype": "text/x-python",
   "name": "python",
   "nbconvert_exporter": "python",
   "pygments_lexer": "ipython3",
   "version": "3.6.4"
  }
 },
 "nbformat": 4,
 "nbformat_minor": 2
}
