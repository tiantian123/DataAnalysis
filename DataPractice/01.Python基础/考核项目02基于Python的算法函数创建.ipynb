{
 "cells": [
  {
   "cell_type": "code",
   "execution_count": 1,
   "metadata": {},
   "outputs": [
    {
     "data": {
      "text/plain": [
       "'\\n【项目02】  基于Python的算法函数创建\\n\\n作业要求：\\n根据不同题目，完成代码书写并成功运行\\n\\n'"
      ]
     },
     "execution_count": 1,
     "metadata": {},
     "output_type": "execute_result"
    }
   ],
   "source": [
    "'''\n",
    "【项目02】  基于Python的算法函数创建\n",
    "\n",
    "作业要求：\n",
    "根据不同题目，完成代码书写并成功运行\n",
    "\n",
    "'''"
   ]
  },
  {
   "cell_type": "code",
   "execution_count": 2,
   "metadata": {},
   "outputs": [
    {
     "name": "stdout",
     "output_type": "stream",
     "text": [
      "1、2、3、4个数字，能组成12个互不相同且无重复数字的两位数,分别如下:\n",
      "{32, 34, 41, 42, 43, 12, 13, 14, 21, 23, 24, 31}\n"
     ]
    }
   ],
   "source": [
    "# 题目1：有1、2、3、4个数字，能组成多少个互不相同且无重复数字的两位数？都是多少？\n",
    "# 该题目不用创建函数\n",
    "n = 4\n",
    "nums = [i for i in range(1,n+1)]\n",
    "double_digit = set()\n",
    "\n",
    "for i in range(n):\n",
    "    for j in range(i+1,n):\n",
    "        if nums[i] != nums[j]:\n",
    "            n1 = nums[i]*10 + nums[j]\n",
    "            n2 = nums[j]*10 + nums[i]\n",
    "            double_digit.add(n1)\n",
    "            double_digit.add(n2)\n",
    "print(\"1、2、3、4个数字，能组成%d个互不相同且无重复数字的两位数,分别如下:\" % len(double_digit))\n",
    "print(double_digit)"
   ]
  },
  {
   "cell_type": "code",
   "execution_count": 7,
   "metadata": {},
   "outputs": [
    {
     "name": "stdout",
     "output_type": "stream",
     "text": [
      "请输入第1个数：90\n",
      "请输入第2个数：30\n",
      "请输入第3个数：45\n",
      "输入结果由小到大输出为\n",
      " [30, 45, 90]\n"
     ]
    }
   ],
   "source": [
    "# 题目2：输入三个整数x,y,z，请把这三个数由小到大输出，可调用input()。（需要加判断：判断输入数据是否为数字）\n",
    "# 提示：判断是否为数字：.isdigit()\n",
    "# 该题目需要创建函数\n",
    "#lst = list(input(\"请输入3个整数：\"))\n",
    "\n",
    "def f(n):\n",
    "    lst = []\n",
    "    for i in range(1,n+1):\n",
    "        num = input(\"请输入第%d个数：\" % i)\n",
    "        while not num.isdigit():\n",
    "            num = input(\"输入为非数字，请重新输入第%d个数字\" % i)          \n",
    "        lst.append(int(num))\n",
    "    return sorted(lst)\n",
    "\n",
    "lst = f(3)\n",
    "print(\"输入结果由小到大输出为:\\n\",lst) \n"
   ]
  },
  {
   "cell_type": "code",
   "execution_count": 18,
   "metadata": {},
   "outputs": [
    {
     "name": "stdout",
     "output_type": "stream",
     "text": [
      "请输入一行字符：陈恬早上好！  Today is wed 2019/6/26\n",
      "输入包含15个中英文字母\n",
      "输入包含5个空格\n",
      "输入包含7个数字\n",
      "输入包含3个其他字符\n"
     ]
    }
   ],
   "source": [
    "# 题目3：输入一行字符，分别统计出其中英文字母、空格、数字和其它字符的个数。\n",
    "# 提示：利用while语句,条件为输入的字符不为'\\n'.\n",
    "# 该题目不需要创建函数\n",
    "s = input(\"请输入一行字符：\")\n",
    "\n",
    "alpa = 0\n",
    "nun = 0\n",
    "nums =0\n",
    "others = 0\n",
    "\n",
    "while '\\\\n' in s:\n",
    "    s = input(\"输入包含换行符，请再次输入一行字符：\")\n",
    "else:\n",
    "    for i in s:\n",
    "        if i.isdigit():\n",
    "            nums += 1\n",
    "        elif i.isalpha():\n",
    "            alpa += 1\n",
    "        elif i.isspace():\n",
    "            nun += 1\n",
    "        else:\n",
    "            others += 1\n",
    "\n",
    "print(\"输入包含%d个中英文字母\" % alpa)\n",
    "print(\"输入包含%d个空格\" % nun)\n",
    "print(\"输入包含%d个数字\" % nums)\n",
    "print(\"输入包含%d个其他字符\" % others)\n",
    "\n",
    "    "
   ]
  },
  {
   "cell_type": "code",
   "execution_count": 33,
   "metadata": {},
   "outputs": [
    {
     "name": "stdout",
     "output_type": "stream",
     "text": [
      "第一天一共摘了1534个桃子\n"
     ]
    }
   ],
   "source": [
    "## 题目4：猴子吃桃问题\n",
    "# 猴子第一天摘下若干个桃子，当即吃了一半，还不瘾，又多吃了一个,\n",
    "# 第二天早上又将剩下的桃子吃掉一半，又多吃了一个。\n",
    "# 以后每天早上都吃了前一天剩下的一半零一个。到第10天早上想再吃时，见只剩下一个桃子了。求第一天共摘了多少?\n",
    "# 提示：采取逆向思维的方法，从后往前推断。\n",
    "# 该题目不需要创建函数\n",
    "\n",
    "a1 = 1\n",
    "d = 2\n",
    "a2  = a1 + 2*a1 + 1 #第9天4个桃子，吃了3个\n",
    "a3 = a1 + 2*a2 + 1  # 第8天10个桃子，吃了6个\n",
    "a4 = a1 + 2*a3 + 1 #第7天22个桃子，吃了12个，第6天46个桃子，吃了24个。。。第1天吃了an = 2*an-1\n",
    "\n",
    "a1 = 1\n",
    "an = 3\n",
    "\n",
    "s = a1+an\n",
    "for i in range(2,10):\n",
    "    an *= 2\n",
    "    s += an\n",
    "    \n",
    "print(\"第一天一共摘了%d个桃子\"%s)"
   ]
  },
  {
   "cell_type": "code",
   "execution_count": 39,
   "metadata": {},
   "outputs": [
    {
     "name": "stdout",
     "output_type": "stream",
     "text": [
      "21\n",
      "请输入一个整数：99\n",
      "猜大了，请再输入一个整数：29\n",
      "猜大了，请再输入一个整数：10\n",
      "猜小了，请再输入一个整数：`5\n"
     ]
    },
    {
     "ename": "ValueError",
     "evalue": "invalid literal for int() with base 10: '`5'",
     "output_type": "error",
     "traceback": [
      "\u001b[1;31m---------------------------------------------------------------------------\u001b[0m",
      "\u001b[1;31mValueError\u001b[0m                                Traceback (most recent call last)",
      "\u001b[1;32m<ipython-input-39-164d3c35b16b>\u001b[0m in \u001b[0;36m<module>\u001b[1;34m()\u001b[0m\n\u001b[0;32m     17\u001b[0m \u001b[1;32mwhile\u001b[0m \u001b[0ms\u001b[0m \u001b[1;33m!=\u001b[0m \u001b[0mn\u001b[0m \u001b[1;33m:\u001b[0m\u001b[1;33m\u001b[0m\u001b[0m\n\u001b[0;32m     18\u001b[0m     \u001b[1;32mif\u001b[0m \u001b[0ms\u001b[0m\u001b[1;33m<\u001b[0m\u001b[0mn\u001b[0m\u001b[1;33m:\u001b[0m\u001b[1;33m\u001b[0m\u001b[0m\n\u001b[1;32m---> 19\u001b[1;33m         \u001b[0ms\u001b[0m \u001b[1;33m=\u001b[0m \u001b[0mint\u001b[0m\u001b[1;33m(\u001b[0m\u001b[0minput\u001b[0m\u001b[1;33m(\u001b[0m\u001b[1;34m\"猜小了，请再输入一个整数：\"\u001b[0m\u001b[1;33m)\u001b[0m\u001b[1;33m)\u001b[0m\u001b[1;33m\u001b[0m\u001b[0m\n\u001b[0m\u001b[0;32m     20\u001b[0m     \u001b[1;32melse\u001b[0m\u001b[1;33m:\u001b[0m\u001b[1;33m\u001b[0m\u001b[0m\n\u001b[0;32m     21\u001b[0m         \u001b[0ms\u001b[0m \u001b[1;33m=\u001b[0m \u001b[0mint\u001b[0m\u001b[1;33m(\u001b[0m\u001b[0minput\u001b[0m\u001b[1;33m(\u001b[0m\u001b[1;34m\"猜大了，请再输入一个整数：\"\u001b[0m\u001b[1;33m)\u001b[0m\u001b[1;33m)\u001b[0m\u001b[1;33m\u001b[0m\u001b[0m\n",
      "\u001b[1;31mValueError\u001b[0m: invalid literal for int() with base 10: '`5'"
     ]
    }
   ],
   "source": [
    "# 题目5：猜数字问题，要求如下：\n",
    "# ① 随机生成一个整数\n",
    "# ② 猜一个数字并输入\n",
    "# ③ 判断是大是小，直到猜正确\n",
    "# ④ 判断时间\n",
    "# 提示：需要用time模块、random模块\n",
    "# 该题目不需要创建函数\n",
    "\n",
    "import time\n",
    "import random\n",
    "\n",
    "n = random.randint(0,100)\n",
    "print(n)\n",
    "s = int(input(\"请输入一个整数：\"))\n",
    "start = time.time()\n",
    "\n",
    "while s != n :\n",
    "    if s<n:\n",
    "        s = int(input(\"猜小了，请再输入一个整数：\"))\n",
    "    else:\n",
    "        s = int(input(\"猜大了，请再输入一个整数：\"))\n",
    "else:\n",
    "    end = time.time()\n",
    "    t = end - start\n",
    "    print(\"恭喜你，才对了！共耗时：%.2f s\" % t)"
   ]
  },
  {
   "cell_type": "code",
   "execution_count": null,
   "metadata": {},
   "outputs": [],
   "source": []
  }
 ],
 "metadata": {
  "kernelspec": {
   "display_name": "Python 3",
   "language": "python",
   "name": "python3"
  },
  "language_info": {
   "codemirror_mode": {
    "name": "ipython",
    "version": 3
   },
   "file_extension": ".py",
   "mimetype": "text/x-python",
   "name": "python",
   "nbconvert_exporter": "python",
   "pygments_lexer": "ipython3",
   "version": "3.6.4"
  }
 },
 "nbformat": 4,
 "nbformat_minor": 2
}
