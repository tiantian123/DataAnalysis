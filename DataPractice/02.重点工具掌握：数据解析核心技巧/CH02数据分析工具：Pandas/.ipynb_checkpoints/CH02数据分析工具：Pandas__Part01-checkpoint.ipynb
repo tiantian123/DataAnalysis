{
 "cells": [
  {
   "cell_type": "code",
   "execution_count": 1,
   "metadata": {},
   "outputs": [
    {
     "data": {
      "text/plain": [
       "'\\n【课程2.2】 Pandas数据结构Series：基本概念\\n一维数组：Series\\n'"
      ]
     },
     "execution_count": 1,
     "metadata": {},
     "output_type": "execute_result"
    }
   ],
   "source": [
    "'''\n",
    "【课程2.2】 Pandas数据结构Series：基本概念\n",
    "一维数组：Series\n",
    "'''"
   ]
  },
  {
   "cell_type": "code",
   "execution_count": 4,
   "metadata": {},
   "outputs": [
    {
     "name": "stdout",
     "output_type": "stream",
     "text": [
      "0    0.281887\n",
      "1    0.517176\n",
      "2    0.756315\n",
      "3    0.503433\n",
      "4    0.632146\n",
      "dtype: float64\n",
      "<class 'pandas.core.series.Series'>\n",
      "RangeIndex(start=0, stop=5, step=1) <class 'pandas.core.indexes.range.RangeIndex'>\n",
      "[0.28188668 0.51717604 0.75631526 0.50343311 0.63214598] <class 'numpy.ndarray'>\n"
     ]
    }
   ],
   "source": [
    "# Series 数据结构\n",
    "# Series 是带有标签的一维数组，可以保存任何数据类型（整数，字符串，浮点数，Python对象等）,轴标签统称为索引\n",
    "import numpy as np\n",
    "import pandas as pd\n",
    "\n",
    "s = pd.Series(np.random.rand(5))\n",
    "print(s)\n",
    "print(type(s))\n",
    "\n",
    "print(s.index,type(s.index))\n",
    "print(s.values,type(s.values))\n",
    "# .index查看series索引，类型为rangindex\n",
    "# .values查看series值，类型为ndarray\n",
    "\n",
    "# 核心：series相比于ndarray，是一个自带索引index的数组 → 一维数组 + 对应索引\n",
    "# 所以当只看series的值的时候，就是一个ndarray\n",
    "# series和ndarray较相似，索引切片功能差别不大\n",
    "# series和dict相比，series更像一个有顺序的字典（dict本身不存在顺序），其索引原理与字典相似（一个用key，一个用index）"
   ]
  },
  {
   "cell_type": "code",
   "execution_count": 5,
   "metadata": {},
   "outputs": [
    {
     "name": "stdout",
     "output_type": "stream",
     "text": [
      "5    5\n",
      "a    1\n",
      "b    2\n",
      "c    3\n",
      "d    4\n",
      "dtype: int64\n",
      "4         4\n",
      "5         5\n",
      "a         1\n",
      "b     hello\n",
      "c    [3, 4]\n",
      "dtype: object\n"
     ]
    }
   ],
   "source": [
    "# Series 创建方法一：由字典创建，字典的key就是index，values就是values\n",
    "\n",
    "dic = {'a':1,'b':2,'c':3,'d':4,'5':5}\n",
    "s = pd.Series(dic)\n",
    "print(s)\n",
    "# 注意：key肯定是字符串，假如values类型不止一个会怎么样？ → dic = {'a':1 ,'b':'hello' , 'c':3, '4':4, '5':5}\n",
    "dic2 = {'a':1 ,'b':'hello' , 'c':[3,4], '4':4, '5':5}\n",
    "s2 = pd.Series(dic2)\n",
    "print(s2)\n"
   ]
  },
  {
   "cell_type": "code",
   "execution_count": 9,
   "metadata": {},
   "outputs": [
    {
     "name": "stdout",
     "output_type": "stream",
     "text": [
      "0    0.282509\n",
      "1    0.644130\n",
      "2    1.154738\n",
      "3   -0.510406\n",
      "4    0.321929\n",
      "dtype: float64\n",
      "a    0.282509\n",
      "b     0.64413\n",
      "c     1.15474\n",
      "d   -0.510406\n",
      "e    0.321929\n",
      "dtype: object\n"
     ]
    }
   ],
   "source": [
    "# Series 创建方法二：由数组创建(一维数组)\n",
    "lst = np.random.randn(5) # 生成5个0-1的浮点数\n",
    "s = pd.Series(lst)\n",
    "print(s)\n",
    "s = pd.Series(lst, index=['a','b','c','d','e'],dtype=np.object)\n",
    "print(s)\n",
    "# index参数：设置index，长度保持一致\n",
    "# dtype参数：设置数值类型"
   ]
  },
  {
   "cell_type": "code",
   "execution_count": 10,
   "metadata": {},
   "outputs": [
    {
     "name": "stdout",
     "output_type": "stream",
     "text": [
      "0    10\n",
      "1    10\n",
      "2    10\n",
      "3    10\n",
      "dtype: int64\n"
     ]
    }
   ],
   "source": [
    "# Series 创建方法三：由标量创建\n",
    "s = pd.Series(10, index = range(4))\n",
    "print(s)\n",
    "# 如果data是标量值，则必须提供索引。该值会重复，来匹配索引的长度"
   ]
  },
  {
   "cell_type": "code",
   "execution_count": 14,
   "metadata": {},
   "outputs": [
    {
     "name": "stdout",
     "output_type": "stream",
     "text": [
      "0   -0.914108\n",
      "1   -0.478982\n",
      "2   -0.192574\n",
      "3    1.676605\n",
      "4   -0.317027\n",
      "dtype: float64\n",
      "****************************************\n",
      "0   -0.132058\n",
      "1    2.156802\n",
      "2   -1.677431\n",
      "3    1.616288\n",
      "4   -0.655714\n",
      "Name: test, dtype: float64\n",
      "None test <class 'str'>\n",
      "0   -0.132058\n",
      "1    2.156802\n",
      "2   -1.677431\n",
      "3    1.616288\n",
      "4   -0.655714\n",
      "Name: kk, dtype: float64\n",
      "kk test\n"
     ]
    }
   ],
   "source": [
    "# Series 名称属性： name\n",
    "s1 = pd.Series(np.random.randn(5))\n",
    "print(s1)\n",
    "print('**'*20)\n",
    "s2 = pd.Series(np.random.randn(5),name='test')\n",
    "print(s2)\n",
    "print(s1.name,s2.name,type(s2.name))\n",
    "# name为Series的一个参数，创建一个数组的 名称\n",
    "# .name方法：输出数组的名称，输出格式为str，如果没用定义输出名称，输出为None\n",
    "\n",
    "s3 = s2.rename('kk')\n",
    "print(s3)\n",
    "print(s3.name,s2.name)\n",
    "# .rename()重命名一个数组的名称，并且新指向一个数组，原数组不变"
   ]
  },
  {
   "cell_type": "code",
   "execution_count": 15,
   "metadata": {},
   "outputs": [
    {
     "data": {
      "text/plain": [
       "'\\n【课程2.3】  Pandas数据结构Series：索引\\n\\n位置下标 / 标签索引 / 切片索引 / 布尔型索引\\n\\n'"
      ]
     },
     "execution_count": 15,
     "metadata": {},
     "output_type": "execute_result"
    }
   ],
   "source": [
    "'''\n",
    "【课程2.3】  Pandas数据结构Series：索引\n",
    "\n",
    "位置下标 / 标签索引 / 切片索引 / 布尔型索引\n",
    "\n",
    "'''"
   ]
  },
  {
   "cell_type": "code",
   "execution_count": 19,
   "metadata": {},
   "outputs": [
    {
     "name": "stdout",
     "output_type": "stream",
     "text": [
      "0    0.739584\n",
      "1    0.411755\n",
      "2    0.202290\n",
      "3    0.574432\n",
      "4    0.839930\n",
      "dtype: float64\n",
      "0.739584387698748 <class 'numpy.float64'> float64\n",
      "0.739584387698748 <class 'float'>\n"
     ]
    }
   ],
   "source": [
    "# 位置下标，类似序列\n",
    "s = pd.Series(np.random.rand(5))\n",
    "print(s)\n",
    "print(s[0],type(s[0]),s[0].dtype) #.dtype 是属性不是方法？\n",
    "print(float(s[0]),type(float(s[0])))\n",
    "#print(s[-1]) 不可行\n",
    "# 位置下标从0开始\n",
    "# 输出结果为numpy.float格式，\n",
    "# 可以通过float()函数转换为python float格式\n",
    "# numpy.float与float占用字节不同\n",
    "# s[-1]结果如何？"
   ]
  },
  {
   "cell_type": "code",
   "execution_count": 21,
   "metadata": {},
   "outputs": [
    {
     "name": "stdout",
     "output_type": "stream",
     "text": [
      "a    0.453897\n",
      "b    0.186553\n",
      "c    0.576238\n",
      "d    0.511351\n",
      "e    0.488370\n",
      "dtype: float64\n",
      "0.1865530983684679 <class 'numpy.float64'> float64\n",
      "a    0.453897\n",
      "b    0.186553\n",
      "c    0.576238\n",
      "dtype: float64 <class 'pandas.core.series.Series'>\n"
     ]
    }
   ],
   "source": [
    "#标签索引\n",
    "s = pd.Series(np.random.rand(5),index=['a','b','c','d','e'])\n",
    "print(s)\n",
    "print(s['b'],type(s['b']),s['b'].dtype)\n",
    "# 方法类似下标索引，用[]表示，内写上index，注意index是字符串\n",
    "\n",
    "sci = s[['a','b','c']]\n",
    "print(sci,type(sci))\n",
    "# 如果需要选择多个标签的值，用[[]]来表示（相当于[]中包含一个列表）\n",
    "# 多标签索引结果是新的数组"
   ]
  },
  {
   "cell_type": "code",
   "execution_count": 23,
   "metadata": {},
   "outputs": [
    {
     "name": "stdout",
     "output_type": "stream",
     "text": [
      "1    0.618059\n",
      "2    0.500409\n",
      "3    0.497344\n",
      "dtype: float64 0.03113559331487048\n",
      "a    0.122995\n",
      "b    0.900623\n",
      "c    0.497436\n",
      "dtype: float64 0.4974355408696063\n",
      "a    0.122995\n",
      "b    0.900623\n",
      "c    0.497436\n",
      "dtype: float64 0.8795314679202872\n",
      "-----\n",
      "a    0.122995\n",
      "b    0.900623\n",
      "c    0.497436\n",
      "d    0.879531\n",
      "dtype: float64\n",
      "a    0.122995\n",
      "c    0.497436\n",
      "e    0.946557\n",
      "dtype: float64\n"
     ]
    }
   ],
   "source": [
    "# 切片索引\n",
    "s1 = pd.Series(np.random.rand(5))\n",
    "s2 = pd.Series(np.random.rand(5),index=['a','b','c','d','e'])\n",
    "print(s1[1:4],s1[4]) #左闭右开\n",
    "print(s2['a':'c'],s2['c']) #index/标签 为闭区间\n",
    "print(s2[0:3],s2[3]) #下标为左闭右开\n",
    "print('-----')\n",
    "# 注意：用index做切片是末端包含\n",
    "\n",
    "print(s2[:-1])\n",
    "print(s2[::2]) #步长为2\n",
    "# 下标索引做切片，和list写法一样"
   ]
  },
  {
   "cell_type": "code",
   "execution_count": 27,
   "metadata": {},
   "outputs": [
    {
     "name": "stdout",
     "output_type": "stream",
     "text": [
      "0    19.2699\n",
      "1    87.6403\n",
      "2    42.7927\n",
      "4       None\n",
      "dtype: object\n",
      "0    False\n",
      "1     True\n",
      "2    False\n",
      "4    False\n",
      "dtype: bool <class 'pandas.core.series.Series'> bool\n",
      "0    False\n",
      "1    False\n",
      "2    False\n",
      "4     True\n",
      "dtype: bool <class 'pandas.core.series.Series'> bool\n",
      "0     True\n",
      "1     True\n",
      "2     True\n",
      "4    False\n",
      "dtype: bool <class 'pandas.core.series.Series'> bool\n",
      "1    87.6403\n",
      "2    42.7927\n",
      "dtype: object\n",
      "0    19.2699\n",
      "1    87.6403\n",
      "2    42.7927\n",
      "dtype: object\n"
     ]
    }
   ],
   "source": [
    "# 布尔型索引\n",
    "s = pd.Series(np.random.rand(3)*100)\n",
    "s[4] = None\n",
    "print(s)\n",
    "bs1 = s>50\n",
    "bs2  = s.isnull()\n",
    "bs3 = s.notnull()\n",
    "print(bs1,type(bs1),bs1.dtype)\n",
    "print(bs2,type(bs2),bs2.dtype)\n",
    "print(bs3,type(bs3),bs3.dtype)\n",
    "# 数组做判断之后，返回的是一个由布尔值组成的新的数组\n",
    "# .isnull() / .notnull() 判断是否为空值 (None代表空值，NaN代表有问题的数值，两个都会识别为空值)\n",
    "\n",
    "print(s[s>30])\n",
    "print(s[bs3])\n",
    "# 布尔型索引方法：用[判断条件]表示，其中判断条件可以是 一个语句，或者是 一个布尔型数组！"
   ]
  },
  {
   "cell_type": "code",
   "execution_count": 28,
   "metadata": {},
   "outputs": [
    {
     "data": {
      "text/plain": [
       "'\\n【课程2.4】  Pandas数据结构Series：基本技巧\\n\\n数据查看 / 重新索引 / 对齐 / 添加、修改、删除值\\n\\n'"
      ]
     },
     "execution_count": 28,
     "metadata": {},
     "output_type": "execute_result"
    }
   ],
   "source": [
    "'''\n",
    "【课程2.4】  Pandas数据结构Series：基本技巧\n",
    "\n",
    "数据查看 / 重新索引 / 对齐 / 添加、修改、删除值\n",
    "\n",
    "'''"
   ]
  },
  {
   "cell_type": "code",
   "execution_count": 29,
   "metadata": {},
   "outputs": [
    {
     "name": "stdout",
     "output_type": "stream",
     "text": [
      "0    0.696404\n",
      "1    0.304092\n",
      "2    0.254399\n",
      "3    0.570432\n",
      "4    0.566425\n",
      "5    0.093768\n",
      "6    0.322169\n",
      "7    0.298394\n",
      "8    0.135787\n",
      "9    0.855758\n",
      "dtype: float64\n",
      "45    0.913485\n",
      "46    0.757550\n",
      "47    0.105611\n",
      "48    0.142382\n",
      "49    0.341843\n",
      "dtype: float64\n"
     ]
    }
   ],
   "source": [
    "# 数据查看\n",
    "\n",
    "s = pd.Series(np.random.rand(50))\n",
    "print(s.head(10))\n",
    "print(s.tail())\n",
    "# .head()查看头部数据\n",
    "# .tail()查看尾部数据\n",
    "# 默认查看5条"
   ]
  },
  {
   "cell_type": "code",
   "execution_count": 32,
   "metadata": {},
   "outputs": [
    {
     "name": "stdout",
     "output_type": "stream",
     "text": [
      "a    0.277177\n",
      "b    0.857038\n",
      "c    0.096259\n",
      "dtype: float64\n",
      "a    0.277177\n",
      "b    0.857038\n",
      "c    0.096259\n",
      "d         NaN\n",
      "dtype: float64\n",
      "c    0.096259\n",
      "b    0.857038\n",
      "a    0.277177\n",
      "d    0.000000\n",
      "dtype: float64\n"
     ]
    }
   ],
   "source": [
    "# 重新索引reindex\n",
    "# .reindex将会根据索引重新排序，如果当前索引不存在，则引入缺失值\n",
    "s = pd.Series(np.random.rand(3),index=['a','b','c'])\n",
    "print(s)\n",
    "s1 = s.reindex(['a','b','c','d'])\n",
    "print(s1)\n",
    "# .reindex()中也是写列表\n",
    "# 这里'd'索引不存在，所以值为NaN\n",
    "\n",
    "s2 = s.reindex(['c','b','a','d'],fill_value = 0)\n",
    "print(s2)\n",
    "# fill_value参数：填充缺失值的值,按照.reindex重新排序，缺失补0"
   ]
  },
  {
   "cell_type": "code",
   "execution_count": 34,
   "metadata": {},
   "outputs": [
    {
     "name": "stdout",
     "output_type": "stream",
     "text": [
      "Jack     0.764259\n",
      "Marry    0.856439\n",
      "Tom      0.791067\n",
      "dtype: float64\n",
      "Wang     0.416826\n",
      "Jack     0.388395\n",
      "Marry    0.594240\n",
      "dtype: float64\n",
      "Jack     1.152654\n",
      "Marry    1.450679\n",
      "Tom           NaN\n",
      "Wang          NaN\n",
      "dtype: float64\n"
     ]
    }
   ],
   "source": [
    "# Series 对齐\n",
    "s1 = pd.Series(np.random.rand(3), index = ['Jack','Marry','Tom'])\n",
    "s2 = pd.Series(np.random.rand(3), index = ['Wang','Jack','Marry'])\n",
    "print(s1)\n",
    "print(s2)\n",
    "print(s1+s2)\n",
    "# Series 和 ndarray 之间的主要区别是，Series 上的操作会根据标签自动对齐\n",
    "# index顺序不会影响数值计算，以标签来计算\n",
    "# 空值和任何值计算结果扔为空值"
   ]
  },
  {
   "cell_type": "code",
   "execution_count": 35,
   "metadata": {},
   "outputs": [
    {
     "name": "stdout",
     "output_type": "stream",
     "text": [
      "n    0.634430\n",
      "g    0.957494\n",
      "j    0.840166\n",
      "u    0.333807\n",
      "r    0.715621\n",
      "dtype: float64\n",
      "g    0.957494\n",
      "j    0.840166\n",
      "u    0.333807\n",
      "r    0.715621\n",
      "dtype: float64\n",
      "n    0.634430\n",
      "u    0.333807\n",
      "r    0.715621\n",
      "dtype: float64\n",
      "n    0.634430\n",
      "g    0.957494\n",
      "j    0.840166\n",
      "u    0.333807\n",
      "r    0.715621\n",
      "dtype: float64\n"
     ]
    }
   ],
   "source": [
    "# 删除：drop\n",
    "s = pd.Series(np.random.rand(5), index = list('ngjur'))\n",
    "print(s)\n",
    "s1 = s.drop('n')\n",
    "s2 = s.drop(['g','j'])\n",
    "print(s1)\n",
    "print(s2)\n",
    "print(s)\n",
    "# drop 删除元素之后返回副本(inplace=False)"
   ]
  },
  {
   "cell_type": "code",
   "execution_count": 37,
   "metadata": {},
   "outputs": [
    {
     "name": "stdout",
     "output_type": "stream",
     "text": [
      "0    0.522020\n",
      "1    0.901055\n",
      "2    0.393745\n",
      "3    0.119362\n",
      "4    0.474597\n",
      "dtype: float64\n",
      "n    0.679968\n",
      "g    0.884592\n",
      "j    0.124746\n",
      "u    0.154954\n",
      "r    0.570999\n",
      "dtype: float64\n",
      "0      0.522020\n",
      "1      0.901055\n",
      "2      0.393745\n",
      "3      0.119362\n",
      "4      0.474597\n",
      "5    100.000000\n",
      "dtype: float64\n",
      "n      0.679968\n",
      "g      0.884592\n",
      "j      0.124746\n",
      "u      0.154954\n",
      "r      0.570999\n",
      "a    100.000000\n",
      "dtype: float64\n",
      "------------------------------------------------------------\n",
      "0      0.522020\n",
      "1      0.901055\n",
      "2      0.393745\n",
      "3      0.119362\n",
      "4      0.474597\n",
      "5    100.000000\n",
      "n      0.679968\n",
      "g      0.884592\n",
      "j      0.124746\n",
      "u      0.154954\n",
      "r      0.570999\n",
      "a    100.000000\n",
      "dtype: float64\n",
      "0      0.522020\n",
      "1      0.901055\n",
      "2      0.393745\n",
      "3      0.119362\n",
      "4      0.474597\n",
      "5    100.000000\n",
      "dtype: float64\n"
     ]
    }
   ],
   "source": [
    "# 添加\n",
    "s1 = pd.Series(np.random.rand(5))\n",
    "s2 = pd.Series(np.random.rand(5), index = list('ngjur'))\n",
    "print(s1)\n",
    "print(s2)\n",
    "s1[5] = 100\n",
    "s2['a'] = 100\n",
    "print(s1)\n",
    "print(s2)\n",
    "print('--'*30)\n",
    "# 直接通过下标索引/标签index添加值\n",
    "\n",
    "s3 = s1.append(s2)\n",
    "print(s3)\n",
    "print(s1)\n",
    "# 通过.append方法，直接添加一个数组\n",
    "# .append方法生成一个新的数组，不改变之前的数组"
   ]
  },
  {
   "cell_type": "code",
   "execution_count": 6,
   "metadata": {},
   "outputs": [
    {
     "name": "stdout",
     "output_type": "stream",
     "text": [
      "a    0.812449\n",
      "b    0.858592\n",
      "c    0.930952\n",
      "dtype: float64\n",
      "a    100.0\n",
      "b    200.0\n",
      "c      1.0\n",
      "dtype: float64\n"
     ]
    }
   ],
   "source": [
    "# 修改\n",
    "s = pd.Series(np.random.rand(3), index = ['a','b','c'])\n",
    "print(s)\n",
    "s['a'] = 100\n",
    "s[['b','c']] = 200\n",
    "s[2] = 1\n",
    "print(s)\n",
    "# 通过索引直接修改，类似序列"
   ]
  },
  {
   "cell_type": "code",
   "execution_count": 7,
   "metadata": {},
   "outputs": [
    {
     "data": {
      "text/plain": [
       "'\\n【课程2.5】  Pandas数据结构Dataframe：基本概念及创建\\n\\n\"二维数组\"Dataframe：是一个表格型的数据结构，包含一组有序的列，其列的值类型可以是数值、字符串、布尔值等。\\n\\nDataframe中的数据以一个或多个二维块存放，不是列表、字典或一维数组结构。\\n\\n'"
      ]
     },
     "execution_count": 7,
     "metadata": {},
     "output_type": "execute_result"
    }
   ],
   "source": [
    "'''\n",
    "【课程2.5】  Pandas数据结构Dataframe：基本概念及创建\n",
    "\n",
    "\"二维数组\"Dataframe：是一个表格型的数据结构，包含一组有序的列，其列的值类型可以是数值、字符串、布尔值等。\n",
    "\n",
    "Dataframe中的数据以一个或多个二维块存放，不是列表、字典或一维数组结构。\n",
    "\n",
    "'''"
   ]
  },
  {
   "cell_type": "code",
   "execution_count": 11,
   "metadata": {},
   "outputs": [
    {
     "name": "stdout",
     "output_type": "stream",
     "text": [
      "   age gender  name\n",
      "0   18      m  Jack\n",
      "1   19      m   Tom\n",
      "2   20      w  Mary\n",
      "<class 'pandas.core.frame.DataFrame'>\n",
      "RangeIndex(start=0, stop=3, step=1) \n",
      "该数据类型为： <class 'pandas.core.indexes.range.RangeIndex'>\n",
      "Index(['age', 'gender', 'name'], dtype='object') \n",
      "该数据类型为： <class 'pandas.core.indexes.base.Index'>\n",
      "[[18 'm' 'Jack']\n",
      " [19 'm' 'Tom']\n",
      " [20 'w' 'Mary']] \n",
      "该数据类型为： <class 'numpy.ndarray'>\n"
     ]
    }
   ],
   "source": [
    "# DataFrame 数据结构\n",
    "# DataFrame 是一个表格型的数据结构，带有标签的二维数组\n",
    "# DataFrame 带有index(行标签)和colums(行标签)\n",
    "\n",
    "data = {'name':['Jack','Tom','Mary'],\n",
    "        'age':[18,19,20],\n",
    "       'gender':['m','m','w']   \n",
    "}\n",
    "frame = pd.DataFrame(data)\n",
    "print(frame)\n",
    "print(type(frame))\n",
    "print(frame.index,'\\n该数据类型为：', type(frame.index))\n",
    "print(frame.columns,'\\n该数据类型为：', type(frame.columns))\n",
    "print(frame.values,'\\n该数据类型为：', type(frame.values))\n",
    "# 查看数据，数据类型为dataframe\n",
    "# .index查看行标签\n",
    "# .columns查看列标签\n",
    "# .values查看值，数据类型为ndarray"
   ]
  },
  {
   "cell_type": "code",
   "execution_count": 14,
   "metadata": {},
   "outputs": [
    {
     "name": "stdout",
     "output_type": "stream",
     "text": [
      "{'a': [1, 2, 3], 'b': [3, 4, 5], 'c': [5, 6, 7]}\n",
      "{'one': array([0.48611093, 0.5366118 , 0.68209244]), 'two': array([0.47411044, 0.10821967, 0.91075635])}\n",
      "   a  b  c\n",
      "0  1  3  5\n",
      "1  2  4  6\n",
      "2  3  5  7\n",
      "        one       two\n",
      "0  0.486111  0.474110\n",
      "1  0.536612  0.108220\n",
      "2  0.682092  0.910756\n",
      "   b  c  a    d\n",
      "0  3  5  1  NaN\n",
      "1  4  6  2  NaN\n",
      "2  5  7  3  NaN\n",
      "   b  c\n",
      "0  3  5\n",
      "1  4  6\n",
      "2  5  7\n",
      "         one       two\n",
      "f1  0.486111  0.474110\n",
      "f2  0.536612  0.108220\n",
      "f3  0.682092  0.910756\n"
     ]
    }
   ],
   "source": [
    "# Dataframe 创建方法一：由数组/list组成的字典\n",
    "# 创建方法：pandas.DataFrame()\n",
    "data1 = {'a':[1,2,3],\n",
    "        'b':[3,4,5],\n",
    "        'c':[5,6,7]}\n",
    "data2 = {'one':np.random.rand(3),\n",
    "        'two':np.random.rand(3)}\n",
    "print(data1)\n",
    "print(data2)\n",
    "df1 =  pd.DataFrame(data1)\n",
    "df2 = pd.DataFrame(data2)\n",
    "print(df1)\n",
    "print(df2)\n",
    "# 由数组/list组成的字典 创建Dataframe，columns为字典key，index为默认数字标签\n",
    "# 字典的值的长度必须保持一致！\n",
    "\n",
    "df1 = pd.DataFrame(data1,columns=['b','c','a','d'])\n",
    "print(df1)\n",
    "df1 = pd.DataFrame(data1,columns=['b','c'])\n",
    "print(df1)\n",
    "# columns参数：可以重新指定列的顺序，格式为list，如果现有数据中没有该列（比如'd'），则产生NaN值\n",
    "# 如果columns重新指定时候，列的数量可以少于原数据\n",
    "\n",
    "df2 = pd.DataFrame(data2,index=['f1','f2','f3'])\n",
    "print(df2)\n",
    "# index参数：重新定义index，格式为list，长度必须保持一致"
   ]
  },
  {
   "cell_type": "code",
   "execution_count": 16,
   "metadata": {},
   "outputs": [
    {
     "name": "stdout",
     "output_type": "stream",
     "text": [
      "{'one': 0    0.335534\n",
      "1    0.729707\n",
      "dtype: float64, 'two': 0    0.571486\n",
      "1    0.263200\n",
      "2    0.455938\n",
      "dtype: float64}\n",
      "{'one': a    0.150264\n",
      "b    0.113622\n",
      "dtype: float64, 'two': a    0.869292\n",
      "b    0.895985\n",
      "c    0.375692\n",
      "dtype: float64}\n",
      "        one       two\n",
      "0  0.335534  0.571486\n",
      "1  0.729707  0.263200\n",
      "2       NaN  0.455938\n",
      "        one       two\n",
      "a  0.150264  0.869292\n",
      "b  0.113622  0.895985\n",
      "c       NaN  0.375692\n"
     ]
    }
   ],
   "source": [
    "# DataFrame 创建方法二：由Series组成的字典\n",
    "data1 = {'one':pd.Series(np.random.rand(2)),\n",
    "        'two':pd.Series(np.random.rand(3))}  # 没有设置index的Series\n",
    "data2 = {'one':pd.Series(np.random.rand(2), index = ['a','b']),\n",
    "        'two':pd.Series(np.random.rand(3),index = ['a','b','c'])}  # 设置了index的Series\n",
    "print(data1)\n",
    "print(data2)\n",
    "df1 = pd.DataFrame(data1)\n",
    "df2 = pd.DataFrame(data2)\n",
    "print(df1)\n",
    "print(df2)"
   ]
  },
  {
   "cell_type": "code",
   "execution_count": 17,
   "metadata": {},
   "outputs": [
    {
     "name": "stdout",
     "output_type": "stream",
     "text": [
      "[[0.83417205 0.38979853 0.09042241]\n",
      " [0.31944703 0.66886964 0.00567616]\n",
      " [0.31507082 0.65108444 0.63168792]]\n",
      "          0         1         2\n",
      "0  0.834172  0.389799  0.090422\n",
      "1  0.319447  0.668870  0.005676\n",
      "2  0.315071  0.651084  0.631688\n",
      "        one       two    threee\n",
      "a  0.834172  0.389799  0.090422\n",
      "b  0.319447  0.668870  0.005676\n",
      "c  0.315071  0.651084  0.631688\n"
     ]
    }
   ],
   "source": [
    "# DataFrame 创建方法三： 通过二维数组直接创建\n",
    "ar = np.random.rand(9).reshape(3,3)\n",
    "print(ar)\n",
    "df1 = pd.DataFrame(ar)\n",
    "df2 = pd.DataFrame(ar,index=list('abc'),columns=['one','two','threee'])\n",
    "print(df1)\n",
    "print(df2)\n",
    "# 通过二维数组直接创建Dataframe，得到一样形状的结果数据，如果不指定index和columns，两者均返回默认数字格式\n",
    "# index和colunms指定长度与原数组保持一致"
   ]
  },
  {
   "cell_type": "code",
   "execution_count": 20,
   "metadata": {},
   "outputs": [
    {
     "name": "stdout",
     "output_type": "stream",
     "text": [
      "[{'one': 1, 'two': 2}, {'one': 5, 'two': 10, 'three': 20}]\n",
      "   one  three  two\n",
      "0    1    NaN    2\n",
      "1    5   20.0   10\n",
      "   one  three  two\n",
      "a    1    NaN    2\n",
      "b    5   20.0   10\n",
      "   one  two\n",
      "0    1    2\n",
      "1    5   10\n"
     ]
    }
   ],
   "source": [
    "# DataFrame 创建方法四：由字典组成的列表\n",
    "data = [{'one': 1, 'two': 2}, {'one': 5, 'two': 10, 'three': 20}]\n",
    "print(data)\n",
    "df1 = pd.DataFrame(data)\n",
    "print(df1)\n",
    "df2 = pd.DataFrame(data,index = ['a','b'])\n",
    "print(df2)\n",
    "df3 = pd.DataFrame(data, columns=['one','two'])\n",
    "print(df3)\n",
    "# 由字典组成的列表创建Dataframe，columns为字典的key，index不做指定则为默认数组标签\n",
    "# colunms和index参数分别重新指定相应列及行标签"
   ]
  },
  {
   "cell_type": "code",
   "execution_count": 23,
   "metadata": {},
   "outputs": [
    {
     "name": "stdout",
     "output_type": "stream",
     "text": [
      "         Jack  Marry   Tom\n",
      "art        78     92   NaN\n",
      "english    89     95  67.0\n",
      "math       90     82  78.0\n",
      "         Jack   Tom  Bob\n",
      "art        78   NaN  NaN\n",
      "english    89  67.0  NaN\n",
      "math       90  78.0  NaN\n",
      "   Jack  Marry  Tom\n",
      "a   NaN    NaN  NaN\n",
      "b   NaN    NaN  NaN\n",
      "c   NaN    NaN  NaN\n"
     ]
    }
   ],
   "source": [
    "# DataFrame 创建方法五：由字典组成的字典\n",
    "data = {'Jack':{'math':90,'english':89,'art':78},\n",
    "       'Marry':{'math':82,'english':95,'art':92},\n",
    "       'Tom':{'math':78,'english':67}}\n",
    "df1 = pd.DataFrame(data)\n",
    "print(df1)\n",
    "# 由字典组成的字典创建Dataframe，columns为字典的key，index为子字典的key\n",
    "\n",
    "df2 = pd.DataFrame(data, columns = ['Jack','Tom','Bob'])\n",
    "df3 = pd.DataFrame(data, index = ['a','b','c'])\n",
    "print(df2)\n",
    "print(df3)\n",
    "# columns参数可以增加和减少现有列，如出现新的列，值为NaN\n",
    "# index在这里和之前不同，并不能改变原有index，如果指向新的标签，值为NaN （非常重要！）"
   ]
  },
  {
   "cell_type": "code",
   "execution_count": 24,
   "metadata": {},
   "outputs": [
    {
     "data": {
      "text/plain": [
       "'\\n【课程2.6】  Pandas数据结构Dataframe：索引\\n\\nDataframe既有行索引也有列索引，可以被看做由Series组成的字典（共用一个索引）\\n\\n选择列 / 选择行 / 切片 / 布尔判断\\n\\n'"
      ]
     },
     "execution_count": 24,
     "metadata": {},
     "output_type": "execute_result"
    }
   ],
   "source": [
    "'''\n",
    "【课程2.6】  Pandas数据结构Dataframe：索引\n",
    "\n",
    "Dataframe既有行索引也有列索引，可以被看做由Series组成的字典（共用一个索引）\n",
    "\n",
    "选择列 / 选择行 / 切片 / 布尔判断\n",
    "\n",
    "'''"
   ]
  },
  {
   "cell_type": "code",
   "execution_count": 26,
   "metadata": {},
   "outputs": [
    {
     "name": "stdout",
     "output_type": "stream",
     "text": [
      "                a          b          c          d\n",
      "one     25.602147  12.284930  27.962150  39.849790\n",
      "two     38.319481  77.151854  13.177953  42.541528\n",
      "threee  88.501715  70.958444  50.200228  55.346005\n",
      "one       25.602147\n",
      "two       38.319481\n",
      "threee    88.501715\n",
      "Name: a, dtype: float64 <class 'pandas.core.series.Series'>\n",
      "                a          c\n",
      "one     25.602147  27.962150\n",
      "two     38.319481  13.177953\n",
      "threee  88.501715  50.200228 <class 'pandas.core.frame.DataFrame'>\n",
      "------------------------------------------------------------\n",
      "a    25.602147\n",
      "b    12.284930\n",
      "c    27.962150\n",
      "d    39.849790\n",
      "Name: one, dtype: float64 <class 'pandas.core.series.Series'>\n",
      "             a          b          c          d\n",
      "one  25.602147  12.284930  27.962150  39.849790\n",
      "two  38.319481  77.151854  13.177953  42.541528 <class 'pandas.core.frame.DataFrame'>\n"
     ]
    }
   ],
   "source": [
    "# 选择行与列\n",
    "\n",
    "df = pd.DataFrame(np.random.rand(12).reshape(3,4)*100,\n",
    "                  index = ['one','two','threee'],\n",
    "                 columns = ['a','b','c','d'])\n",
    "\n",
    "print(df)\n",
    "\n",
    "data1 = df['a']\n",
    "data2 = df[['a','c']]\n",
    "print(data1,type(data1))\n",
    "print(data2,type(data2))\n",
    "print('--'*30)\n",
    "# 按照列名选择列，只选择一列输出Series, 选择多列输出DataFrame\n",
    "\n",
    "data3 = df.loc['one']\n",
    "data4 = df.loc[['one','two']]\n",
    "print(data3,type(data3))\n",
    "print(data4,type(data4))\n",
    "# 按照index选择行，只选择一行输出Series，选择多行输出Dataframe"
   ]
  },
  {
   "cell_type": "code",
   "execution_count": 27,
   "metadata": {},
   "outputs": [
    {
     "name": "stdout",
     "output_type": "stream",
     "text": [
      "               a          b          c          d\n",
      "one    43.201591  64.494929  87.921403  35.723294\n",
      "two    31.597857  72.746263  39.930697  52.959048\n",
      "three  97.933888  66.516481  59.926988  17.879571\n",
      "-----\n",
      "one      43.201591\n",
      "two      31.597857\n",
      "three    97.933888\n",
      "Name: a, dtype: float64\n",
      "               b          c\n",
      "one    64.494929  87.921403\n",
      "two    72.746263  39.930697\n",
      "three  66.516481  59.926988\n",
      "             a          b          c          d\n",
      "one  43.201591  64.494929  87.921403  35.723294 <class 'pandas.core.frame.DataFrame'>\n"
     ]
    }
   ],
   "source": [
    "# df[] -选择列\n",
    "#一般用于选择列，也可以用于选择行\n",
    "\n",
    "df = pd.DataFrame(np.random.rand(12).reshape(3,4)*100,\n",
    "                   index = ['one','two','three'],\n",
    "                   columns = ['a','b','c','d'])\n",
    "print(df)\n",
    "print('-----')\n",
    "\n",
    "data1 = df['a']\n",
    "data2 = df[['b','c']]  # 尝试输入 data2 = df[['b','c','e']]\n",
    "print(data1)\n",
    "print(data2)\n",
    "# df[]默认选择列，[]中写列名（所以一般数据colunms都会单独制定，不会用默认数字列名，以免和index冲突）\n",
    "# 单选列为Series，print结果为Series格式\n",
    "# 多选列为Dataframe，print结果为Dataframe格式\n",
    "\n",
    "data3 = df[:1]\n",
    "#data3 = df[0]\n",
    "#data3 = df['one']\n",
    "print(data3,type(data3))\n",
    "# df[]中为数字时，默认选择行，且只能进行切片的选择，不能单独选择（df[0]）\n",
    "# 输出结果为Dataframe，即便只选择一行\n",
    "# df[]不能通过索引标签名来选择行(df['one'])\n",
    "\n",
    "# 核心笔记：df[col]一般用于选择列，[]中写列名"
   ]
  },
  {
   "cell_type": "code",
   "execution_count": 31,
   "metadata": {},
   "outputs": [
    {
     "name": "stdout",
     "output_type": "stream",
     "text": [
      "               a          b          c          d\n",
      "one    46.878915  31.871602  41.388628  67.727304\n",
      "two    60.355266  60.896330   3.576304  91.011626\n",
      "three  71.058331  49.282609  93.377421  12.513066\n",
      "four   58.006767   5.201217  23.821358  33.904870\n",
      "           a          b          c          d\n",
      "0   0.490546  75.831007  91.804461  69.998120\n",
      "1  57.203633  79.390709  68.728980  45.233881\n",
      "2  29.052309  74.408161  12.233215  76.950889\n",
      "3  16.633151  88.838126  20.625620  88.940506\n",
      "************************************************************\n",
      "a    46.878915\n",
      "b    31.871602\n",
      "c    41.388628\n",
      "d    67.727304\n",
      "Name: one, dtype: float64\n",
      "a    57.203633\n",
      "b    79.390709\n",
      "c    68.728980\n",
      "d    45.233881\n",
      "Name: 1, dtype: float64\n",
      "单标签索引\n",
      "-----\n",
      "               a          b          c          d\n",
      "two    60.355266  60.896330   3.576304  91.011626\n",
      "three  71.058331  49.282609  93.377421  12.513066\n",
      "five         NaN        NaN        NaN        NaN\n",
      "           a          b          c          d\n",
      "3  16.633151  88.838126  20.625620  88.940506\n",
      "2  29.052309  74.408161  12.233215  76.950889\n",
      "1  57.203633  79.390709  68.728980  45.233881\n",
      "多标签索引\n",
      "-----\n",
      "               a          b          c          d\n",
      "one    46.878915  31.871602  41.388628  67.727304\n",
      "two    60.355266  60.896330   3.576304  91.011626\n",
      "three  71.058331  49.282609  93.377421  12.513066\n",
      "           a          b          c          d\n",
      "1  57.203633  79.390709  68.728980  45.233881\n",
      "2  29.052309  74.408161  12.233215  76.950889\n",
      "3  16.633151  88.838126  20.625620  88.940506\n",
      "切片索引\n"
     ]
    },
    {
     "name": "stderr",
     "output_type": "stream",
     "text": [
      "C:\\Users\\22943\\Anaconda3\\lib\\site-packages\\ipykernel_launcher.py:18: FutureWarning: \n",
      "Passing list-likes to .loc or [] with any missing label will raise\n",
      "KeyError in the future, you can use .reindex() as an alternative.\n",
      "\n",
      "See the documentation here:\n",
      "http://pandas.pydata.org/pandas-docs/stable/indexing.html#deprecate-loc-reindex-listlike\n"
     ]
    }
   ],
   "source": [
    "# df.loc[] --按照index选择行\n",
    "\n",
    "df1 = pd.DataFrame(np.random.rand(16).reshape(4,4)*100,\n",
    "                   index = ['one','two','three','four'],\n",
    "                   columns = ['a','b','c','d'])\n",
    "df2 = pd.DataFrame(np.random.rand(16).reshape(4,4)*100,\n",
    "                   columns = ['a','b','c','d'])\n",
    "print(df1)\n",
    "print(df2)\n",
    "print('**'*30)\n",
    "data1 = df1.loc['one']\n",
    "data2 = df2.loc[1]\n",
    "print(data1)\n",
    "print(data2)\n",
    "print('单标签索引\\n-----')\n",
    "# 单个标签索引，返回Series\n",
    "\n",
    "data3 = df1.loc[['two','three','five']]\n",
    "data4 = df2.loc[[3,2,1]]\n",
    "print(data3)\n",
    "print(data4)\n",
    "print('多标签索引\\n-----')\n",
    "# 多个标签索引，如果标签不存在，则返回NaN\n",
    "# 顺序可变\n",
    "\n",
    "data5 = df1.loc['one':'three']\n",
    "data6 = df2.loc[1:3]\n",
    "print(data5)\n",
    "print(data6)\n",
    "print('切片索引')\n",
    "\n",
    "# 可以做切片对象\n",
    "# 末端包含\n",
    "# 核心笔记：df.loc[label]主要针对index选择行，同时支持指定index，及默认数字index"
   ]
  },
  {
   "cell_type": "code",
   "execution_count": 5,
   "metadata": {},
   "outputs": [
    {
     "name": "stdout",
     "output_type": "stream",
     "text": [
      "               a          b          c          d\n",
      "one    48.436760  17.842508  23.163742  90.862901\n",
      "two    98.312759  79.936428  27.197025  44.381293\n",
      "three  52.114632  48.699933  96.915941  60.969770\n",
      "four    9.544332   6.494752  17.068613  15.930126\n",
      "------------------------------------------------------------\n",
      "           a      b      c      d\n",
      "one    False   True  False  False\n",
      "two    False  False  False  False\n",
      "three  False  False  False  False\n",
      "four    True   True   True   True <class 'pandas.core.frame.DataFrame'>\n",
      "              a          b          c          d\n",
      "one         NaN  17.842508        NaN        NaN\n",
      "two         NaN        NaN        NaN        NaN\n",
      "three       NaN        NaN        NaN        NaN\n",
      "four   9.544332   6.494752  17.068613  15.930126\n",
      "------------------------------------------------------------\n",
      "one      False\n",
      "two       True\n",
      "three     True\n",
      "four     False\n",
      "Name: a, dtype: bool <class 'pandas.core.series.Series'>\n",
      "               a          b          c          d\n",
      "two    98.312759  79.936428  27.197025  44.381293\n",
      "three  52.114632  48.699933  96.915941  60.969770\n",
      "------\n",
      "           a      b\n",
      "one    False  False\n",
      "two     True   True\n",
      "three   True  False\n",
      "four   False  False <class 'pandas.core.frame.DataFrame'>\n",
      "               a          b   c   d\n",
      "one          NaN        NaN NaN NaN\n",
      "two    98.312759  79.936428 NaN NaN\n",
      "three  52.114632        NaN NaN NaN\n",
      "four         NaN        NaN NaN NaN\n",
      "------\n",
      "           a     b      c      d\n",
      "one     True  True   True  False\n",
      "three  False  True  False  False <class 'pandas.core.frame.DataFrame'>\n",
      "              a          b          c   d\n",
      "one    48.43676  17.842508  23.163742 NaN\n",
      "two         NaN        NaN        NaN NaN\n",
      "three       NaN  48.699933        NaN NaN\n",
      "four        NaN        NaN        NaN NaN\n",
      "------\n"
     ]
    }
   ],
   "source": [
    "# 布尔型索引\n",
    "# 和Series原理相同\n",
    "\n",
    "df = pd.DataFrame(np.random.rand(16).reshape(4,4)*100,\n",
    "                 index=['one','two','three','four'],\n",
    "                 columns = ['a','b','c','d'])\n",
    "print(df)\n",
    "print('--'*30)\n",
    "b1 = df <20\n",
    "print(b1,type(b1))# 也可以书写为 df[df < 20]\n",
    "print(df[b1])\n",
    "print('--'*30)\n",
    "# 不做索引则会对数据每个值进行判断\n",
    "# 索引结果保留 所有数据：True返回原数据，False返回值为NaN\n",
    "\n",
    "b2 = df['a'] > 50\n",
    "print(b2,type(b2))\n",
    "print(df[b2])  # 也可以书写为 df[df['a'] > 50]\n",
    "print('------')\n",
    "# 单列做判断\n",
    "# 索引结果保留 单列判断为True的行数据，包括其他列\n",
    "\n",
    "b3 = df[['a','b']] > 50\n",
    "print(b3,type(b3))\n",
    "print(df[b3])  # 也可以书写为 df[df[['a','b']] > 50]\n",
    "print('------')\n",
    "# 多列做判断\n",
    "# 索引结果保留 所有数据：True返回原数据，False返回值为NaN\n",
    "\n",
    "b4 = df.loc[['one','three']] < 50\n",
    "print(b4,type(b4))\n",
    "print(df[b4])  # 也可以书写为 df[df.loc[['one','three']] < 50]\n",
    "print('------')\n",
    "# 多行做判断\n",
    "# 索引结果保留 所有数据：True返回原数据，False返回值为NaN\n"
   ]
  },
  {
   "cell_type": "code",
   "execution_count": 8,
   "metadata": {},
   "outputs": [
    {
     "name": "stdout",
     "output_type": "stream",
     "text": [
      "               a          b          c          d\n",
      "one    60.291090  83.262237  57.438592  72.417264\n",
      "two    55.837665  74.939103  90.617037  47.514902\n",
      "three  66.538176   5.781376  79.632744  93.792015\n",
      "four   42.660870  63.624943   3.764129  16.048422\n",
      "------\n",
      "one      60.291090\n",
      "three    66.538176\n",
      "Name: a, dtype: float64\n",
      "               b          c          d\n",
      "one    83.262237  57.438592  72.417264\n",
      "three   5.781376  79.632744  93.792015\n",
      "             a          b         c          d\n",
      "four  42.66087  63.624943  3.764129  16.048422\n"
     ]
    }
   ],
   "source": [
    "# 多重索引：比如同时索引行和列\n",
    "# 先选择列再选择行 —— 相当于对于一个数据，先选择字段，再选择数据量\n",
    "\n",
    "df = pd.DataFrame(np.random.rand(16).reshape(4,4)*100,\n",
    "                   index = ['one','two','three','four'],\n",
    "                   columns = ['a','b','c','d'])\n",
    "print(df)\n",
    "print('------')\n",
    "\n",
    "print(df['a'].loc[['one','three']])   # 选择a列的one，three行\n",
    "print(df[['b','c','d']].iloc[::2])   # 选择b，c，d列的one，three行\n",
    "print(df[df['a'] < 50].iloc[:2])   # 选择满足判断索引的前两行数据"
   ]
  },
  {
   "cell_type": "code",
   "execution_count": 9,
   "metadata": {},
   "outputs": [
    {
     "data": {
      "text/plain": [
       "'\\n【课程2.7】  Pandas数据结构Dataframe：基本技巧\\n\\n数据查看、转置 / 添加、修改、删除值 / 对齐 / 排序\\n\\n'"
      ]
     },
     "execution_count": 9,
     "metadata": {},
     "output_type": "execute_result"
    }
   ],
   "source": [
    "'''\n",
    "【课程2.7】  Pandas数据结构Dataframe：基本技巧\n",
    "\n",
    "数据查看、转置 / 添加、修改、删除值 / 对齐 / 排序\n",
    "\n",
    "'''"
   ]
  },
  {
   "cell_type": "code",
   "execution_count": 11,
   "metadata": {},
   "outputs": [
    {
     "name": "stdout",
     "output_type": "stream",
     "text": [
      "           a          b\n",
      "0  70.362484   7.059899\n",
      "1  68.799593  40.835829\n",
      "           a          b\n",
      "3  58.405959  54.773626\n",
      "4  42.377023  50.765036\n",
      "5  67.008176  70.756446\n",
      "6   3.275574  93.838546\n",
      "7  21.633493  89.853304\n",
      "           0          1          2          3          4          5  \\\n",
      "a  70.362484  68.799593  92.220051  58.405959  42.377023  67.008176   \n",
      "b   7.059899  40.835829  62.474359  54.773626  50.765036  70.756446   \n",
      "\n",
      "           6          7  \n",
      "a   3.275574  21.633493  \n",
      "b  93.838546  89.853304  \n"
     ]
    }
   ],
   "source": [
    "# 数据查看、转置\n",
    "df = pd.DataFrame(np.random.rand(16).reshape(8,2)*100,\n",
    "                 columns=['a','b'])\n",
    "print(df.head(2))\n",
    "print(df.tail())\n",
    "# .head()查看头部数据\n",
    "# .tail()查看尾部数据\n",
    "# 默认查看5条\n",
    "\n",
    "print(df.T)\n",
    "# .T 转置"
   ]
  },
  {
   "cell_type": "code",
   "execution_count": 13,
   "metadata": {},
   "outputs": [
    {
     "name": "stdout",
     "output_type": "stream",
     "text": [
      "           a          b          c          d\n",
      "0  52.388447  56.518294  78.073443  45.317792\n",
      "1  77.806445  76.572894  58.561057  20.149005\n",
      "2  59.874301  24.517923  63.275538  29.882448\n",
      "3  30.556879   9.077452  33.650900  71.006372\n",
      "           a          b          c          d   e\n",
      "0  52.388447  56.518294  78.073443  45.317792  10\n",
      "1  77.806445  76.572894  58.561057  20.149005  10\n",
      "2  59.874301  24.517923  63.275538  29.882448  10\n",
      "3  30.556879   9.077452  33.650900  71.006372  10\n",
      "4  20.000000  20.000000  20.000000  20.000000  20\n",
      "     a          b    c          d   e\n",
      "0  100  56.518294  100  45.317792  20\n",
      "1  100  76.572894  100  20.149005  20\n",
      "2  100  24.517923  100  29.882448  20\n",
      "3  100   9.077452  100  71.006372  20\n",
      "4  100  20.000000  100  20.000000  20\n"
     ]
    }
   ],
   "source": [
    "# 添加修改\n",
    "df = pd.DataFrame(np.random.rand(16).reshape(4,4)*100,\n",
    "                   columns = ['a','b','c','d'])\n",
    "print(df)\n",
    "\n",
    "df['e'] = 10\n",
    "df.loc[4] = 20\n",
    "print(df)\n",
    "# 新增列/行并赋值\n",
    "\n",
    "df['e'] = 20\n",
    "df[['a','c']] = 100\n",
    "print(df)\n",
    "# 索引后直接修改值"
   ]
  },
  {
   "cell_type": "code",
   "execution_count": 17,
   "metadata": {},
   "outputs": [
    {
     "name": "stdout",
     "output_type": "stream",
     "text": [
      "           a          b          c          d\n",
      "0  31.537343  12.619709  34.163280  59.428643\n",
      "1  51.027382   2.126041   7.322967  51.331149\n",
      "2  16.093242   5.068747  95.303744  66.622110\n",
      "3  71.957888  26.230631   7.218806  16.245973\n",
      "           b          c          d\n",
      "0  12.619709  34.163280  59.428643\n",
      "1   2.126041   7.322967  51.331149\n",
      "2   5.068747  95.303744  66.622110\n",
      "3  26.230631   7.218806  16.245973\n",
      "-----\n",
      "           b          c          d\n",
      "1   2.126041   7.322967  51.331149\n",
      "2   5.068747  95.303744  66.622110\n",
      "3  26.230631   7.218806  16.245973\n",
      "           b          c          d\n",
      "0  12.619709  34.163280  59.428643\n",
      "3  26.230631   7.218806  16.245973\n",
      "           b          c          d\n",
      "0  12.619709  34.163280  59.428643\n",
      "1   2.126041   7.322967  51.331149\n",
      "2   5.068747  95.303744  66.622110\n",
      "3  26.230631   7.218806  16.245973\n",
      "-----\n",
      "           b          c\n",
      "0  12.619709  34.163280\n",
      "1   2.126041   7.322967\n",
      "2   5.068747  95.303744\n",
      "3  26.230631   7.218806\n",
      "           b          c          d\n",
      "0  12.619709  34.163280  59.428643\n",
      "1   2.126041   7.322967  51.331149\n",
      "2   5.068747  95.303744  66.622110\n",
      "3  26.230631   7.218806  16.245973\n"
     ]
    }
   ],
   "source": [
    "# 删除 del/drop\n",
    "df = pd.DataFrame(np.random.rand(16).reshape(4,4)*100,\n",
    "                   columns = ['a','b','c','d'])\n",
    "print(df)\n",
    "\n",
    "del df['a']\n",
    "print(df)\n",
    "print('-----')\n",
    "# del语句 - 删除列\n",
    "\n",
    "print(df.drop(0))\n",
    "print(df.drop([1,2]))\n",
    "print(df)\n",
    "print('-----')\n",
    "# drop()删除行，inplace=False → 删除后生成新的数据，不改变原数据\n",
    "\n",
    "print(df.drop(['d'], axis = 1))\n",
    "print(df)\n",
    "# drop()删除列，需要加上axis = 1，inplace=False → 删除后生成新的数据，不改变原数据"
   ]
  },
  {
   "cell_type": "code",
   "execution_count": 18,
   "metadata": {},
   "outputs": [
    {
     "name": "stdout",
     "output_type": "stream",
     "text": [
      "          A         B         C   D\n",
      "0 -0.374710  1.440504 -1.921264 NaN\n",
      "1  1.102108  0.897865 -1.168296 NaN\n",
      "2  0.499892 -1.072350 -2.203528 NaN\n",
      "3  0.461840  1.135640 -0.943620 NaN\n",
      "4 -0.454788 -0.023582  0.310516 NaN\n",
      "5  0.774824 -0.680335  1.488387 NaN\n",
      "6  0.383499  1.881301 -1.537358 NaN\n",
      "7       NaN       NaN       NaN NaN\n",
      "8       NaN       NaN       NaN NaN\n",
      "9       NaN       NaN       NaN NaN\n"
     ]
    }
   ],
   "source": [
    "# 对齐\n",
    "df1 = pd.DataFrame(np.random.randn(10, 4), columns=['A', 'B', 'C', 'D'])\n",
    "df2 = pd.DataFrame(np.random.randn(7, 3), columns=['A', 'B', 'C'])\n",
    "print(df1 + df2)\n",
    "# DataFrame对象之间的数据自动按照列和索引（行标签）对齐"
   ]
  },
  {
   "cell_type": "code",
   "execution_count": 19,
   "metadata": {},
   "outputs": [
    {
     "name": "stdout",
     "output_type": "stream",
     "text": [
      "           a          b          c          d\n",
      "0  38.926020  86.131802  35.419868  17.367948\n",
      "1  27.084517  90.945111  21.874951  95.775320\n",
      "2  35.905072  27.359613  43.928790  13.200274\n",
      "3  16.708068  12.352840  22.641885  15.739811\n",
      "           a          b          c          d\n",
      "3  16.708068  12.352840  22.641885  15.739811\n",
      "1  27.084517  90.945111  21.874951  95.775320\n",
      "2  35.905072  27.359613  43.928790  13.200274\n",
      "0  38.926020  86.131802  35.419868  17.367948\n",
      "           a          b          c          d\n",
      "0  38.926020  86.131802  35.419868  17.367948\n",
      "2  35.905072  27.359613  43.928790  13.200274\n",
      "1  27.084517  90.945111  21.874951  95.775320\n",
      "3  16.708068  12.352840  22.641885  15.739811\n",
      "------\n",
      "   a  b  c\n",
      "0  1  0  8\n",
      "1  1  1  7\n",
      "2  1  2  6\n",
      "3  1  3  5\n",
      "4  2  4  4\n",
      "5  2  5  3\n",
      "6  2  6  2\n",
      "7  2  7  1\n",
      "   a  b  c\n",
      "3  1  3  5\n",
      "2  1  2  6\n",
      "1  1  1  7\n",
      "0  1  0  8\n",
      "7  2  7  1\n",
      "6  2  6  2\n",
      "5  2  5  3\n",
      "4  2  4  4\n"
     ]
    }
   ],
   "source": [
    "# 排序1 - 按值排序 .sort_values\n",
    "# 同样适用于Series\n",
    "\n",
    "df1 = pd.DataFrame(np.random.rand(16).reshape(4,4)*100,\n",
    "                   columns = ['a','b','c','d'])\n",
    "print(df1)\n",
    "print(df1.sort_values(['a'], ascending = True))  # 升序\n",
    "print(df1.sort_values(['a'], ascending = False))  # 降序\n",
    "print('------')\n",
    "# ascending参数：设置升序降序，默认升序\n",
    "# 单列排序\n",
    "\n",
    "df2 = pd.DataFrame({'a':[1,1,1,1,2,2,2,2],\n",
    "                  'b':list(range(8)),\n",
    "                  'c':list(range(8,0,-1))})\n",
    "print(df2)\n",
    "print(df2.sort_values(['a','c']))\n",
    "# 多列排序，按列顺序排序"
   ]
  },
  {
   "cell_type": "code",
   "execution_count": null,
   "metadata": {},
   "outputs": [],
   "source": []
  },
  {
   "cell_type": "code",
   "execution_count": null,
   "metadata": {},
   "outputs": [],
   "source": []
  },
  {
   "cell_type": "code",
   "execution_count": null,
   "metadata": {},
   "outputs": [],
   "source": []
  },
  {
   "cell_type": "code",
   "execution_count": null,
   "metadata": {},
   "outputs": [],
   "source": []
  },
  {
   "cell_type": "code",
   "execution_count": null,
   "metadata": {},
   "outputs": [],
   "source": []
  },
  {
   "cell_type": "code",
   "execution_count": null,
   "metadata": {},
   "outputs": [],
   "source": []
  }
 ],
 "metadata": {
  "kernelspec": {
   "display_name": "Python 3",
   "language": "python",
   "name": "python3"
  },
  "language_info": {
   "codemirror_mode": {
    "name": "ipython",
    "version": 3
   },
   "file_extension": ".py",
   "mimetype": "text/x-python",
   "name": "python",
   "nbconvert_exporter": "python",
   "pygments_lexer": "ipython3",
   "version": "3.6.4"
  }
 },
 "nbformat": 4,
 "nbformat_minor": 2
}
