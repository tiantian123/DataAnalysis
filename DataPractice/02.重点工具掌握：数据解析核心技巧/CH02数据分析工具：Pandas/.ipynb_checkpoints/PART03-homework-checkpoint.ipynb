{
 "cells": [
  {
   "cell_type": "code",
   "execution_count": 3,
   "metadata": {},
   "outputs": [],
   "source": [
    "'''\n",
    "【课程2.14  数值计算和统计基础】 课程作业\n",
    "'''"
   ]
  },
  {
   "cell_type": "code",
   "execution_count": 7,
   "metadata": {},
   "outputs": [
    {
     "name": "stdout",
     "output_type": "stream",
     "text": [
      "创建Dataframe为：\n",
      "         key1       key2\n",
      "0   0.939303  41.652014\n",
      "1  50.279099  20.441123\n",
      "2   0.267344   2.400804\n",
      "3  82.273952  61.054034\n",
      "4  12.148126  46.923326\n",
      "key1的均值为:\n",
      " 29.181564703006906\n",
      "key1的中位数为：\n",
      " 12.148126083715638\n",
      "key1的累积和为:\n",
      " 0      0.939303\n",
      "1     51.218402\n",
      "2     51.485745\n",
      "3    133.759697\n",
      "4    145.907824\n",
      "Name: key1, dtype: float64\n",
      "************************************************************\n",
      "key2的均值为:\n",
      " 34.49426006997864\n",
      "key2的中位数为：\n",
      " 41.65201351594262\n",
      "df的累积和为:\n",
      "         key1       key2    key1_sum    key2_sum\n",
      "0   0.939303  41.652014    0.939303   41.652014\n",
      "1  50.279099  20.441123   51.218402   62.093136\n",
      "2   0.267344   2.400804   51.485745   64.493940\n",
      "3  82.273952  61.054034  133.759697  125.547974\n",
      "4  12.148126  46.923326  145.907824  172.471300\n"
     ]
    }
   ],
   "source": [
    "# 作业1：如图创建一个Dataframe（5*2，值为0-100的随机值），并分别计算key1和key2的均值、中位数、累积和\n",
    "import numpy as np\n",
    "import pandas as pd\n",
    "\n",
    "df = pd.DataFrame(np.random.rand(10).reshape(5,2)*100,\n",
    "                 columns = ['key1','key2'])\n",
    "print('创建Dataframe为：\\n', df)\n",
    "\n",
    "print('key1的均值为:\\n',df['key1'].mean())\n",
    "print('key1的中位数为：\\n', df['key1'].median())\n",
    "print('key1的累积和为:\\n', df['key1'].cumsum())\n",
    "print('**'*30)\n",
    "print('key2的均值为:\\n',df['key2'].mean())\n",
    "print('key2的中位数为：\\n', df['key2'].median())\n",
    "df['key1_sum'] = df['key1'].cumsum()\n",
    "df['key2_sum'] = df['key2'].cumsum()\n",
    "print('df的累积和为:\\n', df)"
   ]
  },
  {
   "cell_type": "code",
   "execution_count": 16,
   "metadata": {},
   "outputs": [
    {
     "name": "stdout",
     "output_type": "stream",
     "text": [
      "请随机输入一组元素，用逗号(英文符号)隔开:\n",
      "12,3,sr,f\n",
      "该数组是唯一值数组.\n"
     ]
    }
   ],
   "source": [
    "#作业2：写出一个输入元素直接生成数组的代码块，然后创建一个函数，该函数功能用于判断一个Series是否是唯一值数组，返回“是”和“不是”\n",
    "\n",
    "def uniq_array(lst):\n",
    "    s = pd.Series(lst).unique()\n",
    "    if len(s) == len(lst):\n",
    "        return '是'\n",
    "    else:\n",
    "        return '不是'\n",
    "lst = list(input('请随机输入一组元素，用逗号(英文符号)隔开:\\n').split(','))\n",
    "#print(lst) \n",
    "print('该数组%s唯一值数组.' % uniq_array(lst))"
   ]
  },
  {
   "cell_type": "code",
   "execution_count": 18,
   "metadata": {},
   "outputs": [
    {
     "data": {
      "text/plain": [
       "'\\n【课程2.15  文本数据】 课程作业\\n'"
      ]
     },
     "execution_count": 18,
     "metadata": {},
     "output_type": "execute_result"
    }
   ],
   "source": [
    "'''\n",
    "【课程2.15  文本数据】 课程作业\n",
    "'''"
   ]
  },
  {
   "cell_type": "code",
   "execution_count": 35,
   "metadata": {},
   "outputs": [
    {
     "name": "stdout",
     "output_type": "stream",
     "text": [
      "创建DataFrame为：\n",
      "   gender    name math english art\n",
      "0     M     jack   90      92  89\n",
      "1      M     tom   89      78  88\n",
      "2      F   Marry   90      92  95\n",
      "3     M     zack   78      88  76\n",
      "4      F  heheda   60      60  67\n",
      "修改DataFrame后为：\n",
      "   gender    name math english art\n",
      "0      M    Jack   90      92  89\n",
      "1      M     Tom   89      78  88\n",
      "2      F   Marry   90      92  95\n",
      "3      M    Zack   78      88  76\n",
      "4      F  Heheda   60      60  67\n"
     ]
    }
   ],
   "source": [
    "'''\n",
    "作业1：如图创建一个Dataframe，并分别通过字符串常用方法得到3个Series或得到新的Dataframe：\n",
    "① name字段首字母全部大写\n",
    "② gender字段去除所有空格\n",
    "③ score字段按照-拆分，分别是math，english，art三个学分\n",
    "\n",
    "''' \n",
    "df1 = pd.DataFrame({'name':['jack','tom','Marry','zack','heheda'],\n",
    "                  'gender':['M ','M','   F','  M ','  F'],\n",
    "                  'score':['90-92-89','89-78-88','90-92-95','78-88-76','60-60-67']})\n",
    "df1['math'] = df1['score'].str.split('-',expand=True)[0]\n",
    "df1['english'] = df1['score'].str.split('-',expand=True)[1]\n",
    "df1['art'] = df1['score'].str.split('-',expand=True)[2]\n",
    "del df1['score']\n",
    "print('创建DataFrame为：\\n',df1)\n",
    "#df1['gender'] =df1['gender'].str.replace(' ','')\n",
    "df1['gender'] = df1['gender'].str.strip()\n",
    "df1['name'] = df1['name'].str.capitalize()\n",
    "print('修改DataFrame后为：\\n',df1)"
   ]
  },
  {
   "cell_type": "code",
   "execution_count": 36,
   "metadata": {},
   "outputs": [
    {
     "data": {
      "text/plain": [
       "'\\n【课程2.16  合并 merge、join】 课程作业\\n'"
      ]
     },
     "execution_count": 36,
     "metadata": {},
     "output_type": "execute_result"
    }
   ],
   "source": [
    "'''\n",
    "【课程2.16  合并 merge、join】 课程作业\n",
    "'''"
   ]
  },
  {
   "cell_type": "code",
   "execution_count": 41,
   "metadata": {},
   "outputs": [
    {
     "name": "stdout",
     "output_type": "stream",
     "text": [
      "创建df1为：\n",
      "   key   values1\n",
      "0   a  0.219676\n",
      "1   b  0.293728\n",
      "2   c  0.533564\n",
      "创建df2为：\n",
      "   key   values2\n",
      "0   b  0.979936\n",
      "1   c  0.500499\n",
      "2   d  0.785875\n",
      "合并df3为：\n",
      "   key   values1   values2\n",
      "0   a  0.219676       NaN\n",
      "1   b  0.293728  0.979936\n",
      "2   c  0.533564  0.500499\n",
      "3   d       NaN  0.785875\n"
     ]
    }
   ],
   "source": [
    "# \t作业1：按要求创建Dataframe df1、df2，并合并成df3\n",
    "df1 = pd.DataFrame({'key':list('abc'),\n",
    "                   'values1':np.random.rand(3)})\n",
    "print('创建df1为：\\n',df1)\n",
    "df2 = pd.DataFrame({'key':list('bcd'),\n",
    "                   'values2':np.random.rand(3)})\n",
    "print('创建df2为：\\n',df2)\n",
    "\n",
    "print('合并df3为：\\n',pd.merge(df1,df2,how='outer',on='key'))"
   ]
  },
  {
   "cell_type": "code",
   "execution_count": 60,
   "metadata": {},
   "outputs": [
    {
     "name": "stdout",
     "output_type": "stream",
     "text": [
      "创建df1为：\n",
      "   lkey   values1\n",
      "0    a  0.663535\n",
      "1    b  0.271350\n",
      "2    c  0.353376\n",
      "创建df2为：\n",
      "   rkey   values2\n",
      "0    b  0.941902\n",
      "1    c  0.316924\n",
      "2    d  0.364131\n",
      "合并df3为：\n",
      "   lkey   values1 rkey   values2\n",
      "0    a  0.663535  NaN       NaN\n",
      "1    b  0.271350    b  0.941902\n",
      "2    c  0.353376    c  0.316924 \n",
      "------\n"
     ]
    }
   ],
   "source": [
    "# \t作业2：按要求创建Dataframe df1、df2，并合并成df3\n",
    "df1 = pd.DataFrame({'lkey':list('abc'),\n",
    "                   'values1':np.random.rand(3)})\n",
    "print('创建df1为：\\n',df1)\n",
    "df2 = pd.DataFrame({'rkey':list('bcd'),\n",
    "                   'values2':np.random.rand(3)})\n",
    "print('创建df2为：\\n',df2)\n",
    "df3 = pd.merge(df1,df2,left_on='lkey',right_on='rkey',how='left')\n",
    "print('合并df3为：\\n',df3)"
   ]
  },
  {
   "cell_type": "code",
   "execution_count": 63,
   "metadata": {},
   "outputs": [
    {
     "name": "stdout",
     "output_type": "stream",
     "text": [
      "创建df1为：\n",
      "   key   values1\n",
      "0   a  0.449897\n",
      "1   b  0.750892\n",
      "2   c  0.891035\n",
      "创建df2为：\n",
      "     values2  values3\n",
      "b  0.669143        5\n",
      "c  0.486463        6\n",
      "d  0.110079        7\n",
      "创建df3为：\n",
      "   key   values1   values2  values3\n",
      "1   b  0.750892  0.669143        5\n",
      "2   c  0.891035  0.486463        6\n"
     ]
    }
   ],
   "source": [
    "# \t作业3：按要求创建Dataframe df1、df2，并合并成df3\n",
    "df1 = pd.DataFrame({'key':list('abc'),\n",
    "                   'values1':np.random.rand(3)})\n",
    "print('创建df1为：\\n', df1)\n",
    "\n",
    "df2 = pd.DataFrame({'values2':np.random.rand(3),\n",
    "                   'values3':[5,6,7]},\n",
    "                  index=list('bcd'))\n",
    "print('创建df2为：\\n',df2)\n",
    "df3 = pd.merge(df1,df2,how ='inner', left_on = 'key', right_index = True)\n",
    "print('创建df3为：\\n',df3)"
   ]
  },
  {
   "cell_type": "code",
   "execution_count": 64,
   "metadata": {},
   "outputs": [
    {
     "data": {
      "text/plain": [
       "'\\n【课程2.17  连接与修补 concat、combine_first】 课程作业\\n'"
      ]
     },
     "execution_count": 64,
     "metadata": {},
     "output_type": "execute_result"
    }
   ],
   "source": [
    "'''\n",
    "【课程2.17  连接与修补 concat、combine_first】 课程作业\n",
    "'''"
   ]
  },
  {
   "cell_type": "code",
   "execution_count": 68,
   "metadata": {},
   "outputs": [
    {
     "name": "stdout",
     "output_type": "stream",
     "text": [
      "创建df1为：\n",
      "     values1   values2\n",
      "a  0.673950  0.068073\n",
      "b  0.572093  0.657756\n",
      "c  0.758156  0.231130\n",
      "d  0.284316  0.141473\n",
      "创建df2为：\n",
      "     values1   values2\n",
      "e  0.342572  0.034717\n",
      "f  0.119142  0.941161\n",
      "g  0.067065  0.493087\n",
      "h  0.316445  0.774092\n",
      "连接df3为：\n",
      "     values1   values2\n",
      "a  0.673950  0.068073\n",
      "b  0.572093  0.657756\n",
      "c  0.758156  0.231130\n",
      "d  0.284316  0.141473\n",
      "e  0.342572  0.034717\n",
      "f  0.119142  0.941161\n",
      "g  0.067065  0.493087\n",
      "h  0.316445  0.774092\n"
     ]
    }
   ],
   "source": [
    "# \t作业1：按要求创建Dataframe df1、df2，并连接成df3\n",
    "df1 = pd.DataFrame(np.random.rand(8).reshape(4,2),\n",
    "                  columns = ['values1','values2'],\n",
    "                  index=list('abcd'))\n",
    "print('创建df1为：\\n', df1)\n",
    "df2 = pd.DataFrame(np.random.rand(8).reshape(4,2),\n",
    "                  columns = ['values1','values2'],\n",
    "                  index=list('efgh'))\n",
    "print('创建df2为：\\n',df2)\n",
    "df3 = pd.concat([df1,df2])\n",
    "print('连接df3为：\\n', df3)"
   ]
  },
  {
   "cell_type": "code",
   "execution_count": 73,
   "metadata": {},
   "outputs": [
    {
     "name": "stdout",
     "output_type": "stream",
     "text": [
      "创建df1为：\n",
      "     values1   values2\n",
      "a  0.603711  0.099043\n",
      "b       NaN  0.382243\n",
      "c       NaN  0.184725\n",
      "d  0.496179  0.559078\n",
      "创建df2为：\n",
      "    values1  values2\n",
      "a        0        1\n",
      "b        2        3\n",
      "c        4        5\n",
      "d        6        7\n",
      "df1修补后为：\n",
      "     values1   values2\n",
      "a  0.603711  0.099043\n",
      "b  2.000000  0.382243\n",
      "c  4.000000  0.184725\n",
      "d  0.496179  0.559078\n"
     ]
    }
   ],
   "source": [
    "# 作业2：按要求创建Dataframe df1、df2，并用df2的值修补df1，生成df3\n",
    "\n",
    "df1 = pd.DataFrame(np.random.rand(8).reshape(4,2),\n",
    "                  columns = ['values1','values2'],\n",
    "                  index=list('abcd'))\n",
    "df1.loc['b'][0] = np.nan\n",
    "df1.loc['c'][0] = np.nan\n",
    "print('创建df1为：\\n', df1)\n",
    "df2 = pd.DataFrame(np.arange(8).reshape(4,2),\n",
    "                  columns = ['values1','values2'],\n",
    "                  index=list('abcd'))\n",
    "print('创建df2为：\\n',df2)\n",
    "\n",
    "df1.combine_first(df2)\n",
    "print('df1修补后为：\\n',df1.combine_first(df2))"
   ]
  },
  {
   "cell_type": "code",
   "execution_count": 74,
   "metadata": {},
   "outputs": [
    {
     "data": {
      "text/plain": [
       "'\\n【课程2.19  数据分组】 课程作业\\n'"
      ]
     },
     "execution_count": 74,
     "metadata": {},
     "output_type": "execute_result"
    }
   ],
   "source": [
    "'''\n",
    "【课程2.19  数据分组】 课程作业\n",
    "'''"
   ]
  },
  {
   "cell_type": "code",
   "execution_count": 96,
   "metadata": {},
   "outputs": [
    {
     "name": "stdout",
     "output_type": "stream",
     "text": [
      "创建df为：\n",
      "        A  B   C         D         E\n",
      "0    one  h  10 -0.700760  0.074592\n",
      "1    two  h  12 -0.561174  0.505547\n",
      "2  three  h  14 -0.539177  0.653506\n",
      "3    one  h  16  0.355972  0.017968\n",
      "4    two  f  18  1.082353  0.874215\n",
      "5  three  f  20  1.832208  0.029677\n",
      "6    one  f  22 -0.192228  0.876148\n",
      "7    two  f  24  0.476906  0.295070\n",
      "************************************************************\n",
      "以A分组，求出C，D的分组平均值：\n",
      "         C         D\n",
      "A                  \n",
      "one    16 -0.179005\n",
      "three  17  0.646516\n",
      "two    18  0.332695\n",
      "************************************************************\n",
      "以A，B分组，求出D,E的分组求和：\n",
      "                 D         E\n",
      "A     B                    \n",
      "one   f -0.192228  0.876148\n",
      "      h -0.344788  0.092560\n",
      "three f  1.832208  0.029677\n",
      "      h -0.539177  0.653506\n",
      "two   f  1.559259  1.169285\n",
      "      h -0.561174  0.505547\n",
      "************************************************************\n",
      "以A分组，得到所有分组，以字典显示：\n",
      " {'one': Int64Index([0, 3, 6], dtype='int64'), 'three': Int64Index([2, 5], dtype='int64'), 'two': Int64Index([1, 4, 7], dtype='int64')}\n",
      "************************************************************\n",
      "按照数值类型分组，求和:\n",
      "    int32   float64  object\n",
      "0     10 -0.626168    oneh\n",
      "1     12 -0.055627    twoh\n",
      "2     14  0.114329  threeh\n",
      "3     16  0.373940    oneh\n",
      "4     18  1.956568    twof\n",
      "5     20  1.861885  threef\n",
      "6     22  0.683920    onef\n",
      "7     24  0.771976    twof\n",
      "************************************************************\n",
      "将C,D作为一组分出来，并计算求和：\n",
      "            r\n",
      "0   9.299240\n",
      "1  11.438826\n",
      "2  13.460823\n",
      "3  16.355972\n",
      "4  19.082353\n",
      "5  21.832208\n",
      "6  21.807772\n",
      "7  24.476906\n",
      "************************************************************\n",
      "以B分组，求出每组的均值，求和，最大值，最小值：\n",
      "      C                       D                                       E  \\\n",
      "  mean sum amax amin      mean       sum      amax      amin      mean   \n",
      "B                                                                        \n",
      "f   21  84   24   18  0.799810  3.199239  1.832208 -0.192228  0.518777   \n",
      "h   13  52   16   10 -0.361285 -1.445139  0.355972 -0.700760  0.312903   \n",
      "\n",
      "                                 \n",
      "        sum      amax      amin  \n",
      "B                                \n",
      "f  2.075110  0.876148  0.029677  \n",
      "h  1.251613  0.653506  0.017968  \n"
     ]
    }
   ],
   "source": [
    "'''\n",
    "\t作业1：按要求创建Dataframe df，并通过分组得到以下结果\n",
    "① 以A分组，求出C,D的分组平均值\n",
    "② 以A,B分组，求出D,E的分组求和\n",
    "③ 以A分组，得到所有分组，以字典显示\n",
    "④ 按照数值类型分组，求和\n",
    "⑤ 将C,D作为一组分出来，并计算求和\n",
    "⑥ 以B分组，求出每组的均值，求和，最大值，最小值\n",
    "\n",
    "'''\n",
    "df = pd.DataFrame({'A':['one','two','three','one','two','three','one','two'],\n",
    "                  'B':['h','h','h','h','f','f','f','f'],\n",
    "                  'C':np.arange(10,26,2),\n",
    "                  'D':np.random.randn(8),\n",
    "                  'E':np.random.rand(8)})\n",
    "print('创建df为：\\n',df)\n",
    "print('**'*30)\n",
    "print('以A分组，求出C，D的分组平均值：\\n',df.groupby('A')['C','D'].mean())\n",
    "print('**'*30)\n",
    "print('以A，B分组，求出D,E的分组求和：\\n',df.groupby(['A','B'])['D','E'].sum())\n",
    "print('**'*30)\n",
    "print('以A分组，得到所有分组，以字典显示：\\n', df.groupby('A').groups)\n",
    "print('**'*30)\n",
    "print('按照数值类型分组，求和:\\n', df.groupby(df.dtypes,axis=1).sum())\n",
    "print('**'*30)\n",
    "print('将C,D作为一组分出来，并计算求和：\\n', df.groupby({'C':'r','D':'r'},axis=1).sum())\n",
    "print('**'*30)\n",
    "print('以B分组，求出每组的均值，求和，最大值，最小值：\\n',df.groupby('B').agg([np.mean, np.sum, np.max, np.min]))\n"
   ]
  },
  {
   "cell_type": "code",
   "execution_count": 97,
   "metadata": {},
   "outputs": [
    {
     "data": {
      "text/plain": [
       "'\\n【课程2.20  分组转换及一般性“拆分-应用-合并”】 课程作业\\n'"
      ]
     },
     "execution_count": 97,
     "metadata": {},
     "output_type": "execute_result"
    }
   ],
   "source": [
    "'''\n",
    "【课程2.20  分组转换及一般性“拆分-应用-合并”】 课程作业\n",
    "'''"
   ]
  },
  {
   "cell_type": "code",
   "execution_count": 112,
   "metadata": {},
   "outputs": [
    {
     "name": "stdout",
     "output_type": "stream",
     "text": [
      "创建df为:\n",
      "       data1     data2 key\n",
      "0  0.802951  0.129469   a\n",
      "1  0.043494  0.679854   a\n",
      "2  0.698618  0.948725   b\n",
      "3  0.179142  0.884266   b\n",
      "4  0.975779  0.547525   a\n",
      "5  0.735152  0.534981   b\n",
      "6  0.786382  0.085955   a\n",
      "7  0.373124  0.849164   b\n",
      "求均值且合并之后结果为：\n",
      "       data1     data2 key  data1_mean  data2_mean\n",
      "0  0.802951  0.129469   a    0.652151    0.360701\n",
      "1  0.043494  0.679854   a    0.652151    0.360701\n",
      "2  0.698618  0.948725   b    0.496509    0.804284\n",
      "3  0.179142  0.884266   b    0.496509    0.804284\n",
      "4  0.975779  0.547525   a    0.652151    0.360701\n",
      "5  0.735152  0.534981   b    0.496509    0.804284\n",
      "6  0.786382  0.085955   a    0.652151    0.360701\n",
      "7  0.373124  0.849164   b    0.496509    0.804284\n",
      "************************************************************\n",
      "求和且合并之后结果为：\n",
      "       data1     data2 key  data1_sum  data2_sum\n",
      "0  0.802951  0.129469   a   2.608606   1.442802\n",
      "1  0.043494  0.679854   a   2.608606   1.442802\n",
      "2  0.698618  0.948725   b   1.986036   3.217136\n",
      "3  0.179142  0.884266   b   1.986036   3.217136\n",
      "4  0.975779  0.547525   a   2.608606   1.442802\n",
      "5  0.735152  0.534981   b   1.986036   3.217136\n",
      "6  0.786382  0.085955   a   2.608606   1.442802\n",
      "7  0.373124  0.849164   b   1.986036   3.217136\n"
     ]
    }
   ],
   "source": [
    "# 作业1：按要求创建Dataframe df，通过key分组求和，并将求和结果并在原df中\n",
    "\n",
    "df = pd.DataFrame({'data1':np.random.rand(8),\n",
    "                  'data2':np.random.rand(8),\n",
    "                  'key': ['a','a','b','b','a','b','a','b']})\n",
    "print('创建df为:\\n',df)\n",
    "k_sum = df.groupby('key').transform(np.sum)\n",
    "k_mean = df.groupby('key').transform(np.mean)\n",
    "#print('求和且合并之后结果为：\\n',pd.merge(df,k_sum,left_on='key',right_index=True).add_suffix('_sum'))\n",
    "print('求均值且合并之后结果为：\\n',df.join(k_mean,rsuffix='_mean'))\n",
    "print('**'*30)\n",
    "print('求和且合并之后结果为：\\n',df.join(k_sum,rsuffix='_sum'))"
   ]
  },
  {
   "cell_type": "code",
   "execution_count": 113,
   "metadata": {},
   "outputs": [
    {
     "data": {
      "text/plain": [
       "'\\n【课程2.21  透视表及交叉表】 课程作业\\n'"
      ]
     },
     "execution_count": 113,
     "metadata": {},
     "output_type": "execute_result"
    }
   ],
   "source": [
    "'''\n",
    "【课程2.21  透视表及交叉表】 课程作业\n",
    "'''"
   ]
  },
  {
   "cell_type": "code",
   "execution_count": 8,
   "metadata": {},
   "outputs": [
    {
     "name": "stdout",
     "output_type": "stream",
     "text": [
      "创建df为：\n",
      "        A  B   C         D         E\n",
      "0    one  h  10 -1.122063  0.253705\n",
      "1    two  h  12  1.957798  0.680415\n",
      "2  three  h  14 -0.905734  0.024046\n",
      "3    one  h  16  0.088365  0.941500\n",
      "4    two  f  18 -1.049366  0.751780\n",
      "5  three  f  20 -1.978912  0.752496\n",
      "6    one  f  22  1.178894  0.195348\n",
      "7    two  f  24 -0.524843  0.233057\n",
      "************************************************************\n",
      "以A列聚合，求出C,D的平均值：\n",
      "         C         D\n",
      "A                  \n",
      "one    16  0.048399\n",
      "three  17 -1.442323\n",
      "two    18  0.127863\n",
      "************************************************************\n",
      "以A,B列聚合，求出D,E的均值、求和\n",
      "              mean                 sum          \n",
      "                D         E         D         E\n",
      "A     B                                        \n",
      "one   f  1.178894  0.195348  1.178894  0.195348\n",
      "      h -0.516849  0.597602 -1.033698  1.195205\n",
      "three f -1.978912  0.752496 -1.978912  0.752496\n",
      "      h -0.905734  0.024046 -0.905734  0.024046\n",
      "two   f -0.787104  0.492419 -1.574209  0.984838\n",
      "      h  1.957798  0.680415  1.957798  0.680415\n",
      "************************************************************\n",
      "以B聚合，计算A列的元素频率：\n",
      " A  one  three  two\n",
      "B                 \n",
      "f    1      1    2\n",
      "h    2      1    1\n"
     ]
    }
   ],
   "source": [
    "'''\n",
    "作业1：按要求创建Dataframe df，并通过数据透视表或交叉表得到以下结果\n",
    "① 以A列聚合，求出C,D的平均值\n",
    "② 以A,B列聚合，求出D,E的均值、求和\n",
    "③ 以B聚合，计算A列的元素频率\n",
    "'''\n",
    "import numpy as np\n",
    "import pandas as pd\n",
    "\n",
    "df = pd.DataFrame({'A':['one','two','three','one','two','three','one','two'],\n",
    "                  'B':['h','h','h','h','f','f','f','f'],\n",
    "                  'C':np.arange(10,26,2),\n",
    "                  'D':np.random.randn(8),\n",
    "                  'E':np.random.rand(8)})\n",
    "print('创建df为：\\n',df)\n",
    "print('**'*30)\n",
    "print('以A列聚合，求出C,D的平均值：\\n',pd.pivot_table(df,index='A',values=['C','D' ]))\n",
    "print('**'*30)\n",
    "print('以A,B列聚合，求出D,E的均值、求和\\n', pd.pivot_table(df,index=['A','B'],values=['D','E'],aggfunc=[np.mean,np.sum]))\n",
    "print('**'*30)\n",
    "print('以B聚合，计算A列的元素频率：\\n',pd.crosstab(df['B'],df['A']))"
   ]
  }
 ],
 "metadata": {
  "kernelspec": {
   "display_name": "Python 3",
   "language": "python",
   "name": "python3"
  },
  "language_info": {
   "codemirror_mode": {
    "name": "ipython",
    "version": 3
   },
   "file_extension": ".py",
   "mimetype": "text/x-python",
   "name": "python",
   "nbconvert_exporter": "python",
   "pygments_lexer": "ipython3",
   "version": "3.6.4"
  }
 },
 "nbformat": 4,
 "nbformat_minor": 2
}
