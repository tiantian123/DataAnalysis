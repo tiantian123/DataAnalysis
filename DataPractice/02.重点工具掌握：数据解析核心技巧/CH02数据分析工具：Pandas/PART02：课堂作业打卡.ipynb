{
 "cells": [
  {
   "cell_type": "code",
   "execution_count": 1,
   "metadata": {
    "scrolled": true
   },
   "outputs": [
    {
     "data": {
      "text/plain": [
       "'\\n【课程2.8  时间模块：datetime】 课程作业\\n'"
      ]
     },
     "execution_count": 1,
     "metadata": {},
     "output_type": "execute_result"
    }
   ],
   "source": [
    "'''\n",
    "【课程2.8  时间模块：datetime】 课程作业\n",
    "'''"
   ]
  },
  {
   "cell_type": "code",
   "execution_count": 7,
   "metadata": {
    "scrolled": true
   },
   "outputs": [
    {
     "name": "stdout",
     "output_type": "stream",
     "text": [
      "1.当前时间为： 2019-07-05 00:09:33.616404\n",
      "2.输出时间： 2017-05-01 12:30:00\n",
      "3.输出时间： 2000-12-01 00:00:00\n"
     ]
    }
   ],
   "source": [
    "#作业1：请调用datetime模块，输出以下时间信息 \n",
    "import datetime\n",
    "\n",
    "now = datetime.datetime.now()\n",
    "print('1.当前时间为：',now)\n",
    "t1 = datetime.datetime(2017,5,1,12,30,0)\n",
    "print('2.输出时间：',t1)\n",
    "t2 = datetime.datetime(2000,12,1)\n",
    "print('3.输出时间：',t2)"
   ]
  },
  {
   "cell_type": "code",
   "execution_count": 9,
   "metadata": {},
   "outputs": [
    {
     "name": "stdout",
     "output_type": "stream",
     "text": [
      "1000天之后是： 2003-01-26 00:00:00\n"
     ]
    }
   ],
   "source": [
    "#\t作业2：请创建时间变量‘2000年5月1日’，求出1000天之后是哪年哪月哪日？\n",
    "t = datetime.datetime(2000,5,1)\n",
    "future = t + datetime.timedelta(1000)\n",
    "print('1000天之后是：',future)"
   ]
  },
  {
   "cell_type": "code",
   "execution_count": 1,
   "metadata": {},
   "outputs": [
    {
     "data": {
      "text/plain": [
       "'\\n【课程2.9  Pandas时刻数据：Timestamp】 课程作业\\n'"
      ]
     },
     "execution_count": 1,
     "metadata": {},
     "output_type": "execute_result"
    }
   ],
   "source": [
    "'''\n",
    "【课程2.9  Pandas时刻数据：Timestamp】 课程作业\n",
    "'''"
   ]
  },
  {
   "cell_type": "code",
   "execution_count": 9,
   "metadata": {},
   "outputs": [
    {
     "name": "stdout",
     "output_type": "stream",
     "text": [
      "创建时间列表为：\n",
      " ['2019-12-1', '2019-12-2', '2019-12-3', '2019-12-4', '2019-12-5', '2019-12-6', '2019-12-7', '2019-12-8', '2019-12-9', '2019-12-10', '2019-12-11', '2019-12-12', '2019-12-13', '2019-12-14', '2019-12-15', '2019-12-16', '2019-12-17', '2019-12-18', '2019-12-19', '2019-12-20', '2019-12-21', '2019-12-22', '2019-12-23', '2019-12-24', '2019-12-25', '2019-12-26', '2019-12-27', '2019-12-28', '2019-12-29', '2019-12-30', '2019-12-31']\n",
      "转换成DatetimeIndex为：\n",
      " DatetimeIndex(['2019-12-01', '2019-12-02', '2019-12-03', '2019-12-04',\n",
      "               '2019-12-05', '2019-12-06', '2019-12-07', '2019-12-08',\n",
      "               '2019-12-09', '2019-12-10', '2019-12-11', '2019-12-12',\n",
      "               '2019-12-13', '2019-12-14', '2019-12-15', '2019-12-16',\n",
      "               '2019-12-17', '2019-12-18', '2019-12-19', '2019-12-20',\n",
      "               '2019-12-21', '2019-12-22', '2019-12-23', '2019-12-24',\n",
      "               '2019-12-25', '2019-12-26', '2019-12-27', '2019-12-28',\n",
      "               '2019-12-29', '2019-12-30', '2019-12-31'],\n",
      "              dtype='datetime64[ns]', freq=None)\n",
      "月中为：\n",
      " 2019-12-16 00:00:00\n"
     ]
    }
   ],
   "source": [
    "#\t作业1：请通过迭代创建一个时间列表（如图，时间区间为任意一个月，这里可以用for语句），然后转化成DatetimeIndex，并print月中是多少号 \n",
    "import datetime\n",
    "import pandas as pd\n",
    "\n",
    "lst = []\n",
    "for i in range(1,32):\n",
    "    lst.append('2019-12-'+str(i))\n",
    "print('创建时间列表为：\\n',lst)\n",
    "t1 = pd.to_datetime(lst) \n",
    "print('转换成DatetimeIndex为：\\n',t1)\n",
    "mid = int((len(t1)+1)/2 -1)\n",
    "print('月中为：\\n',t1[mid]) # 没有.iloc属性"
   ]
  },
  {
   "cell_type": "code",
   "execution_count": 5,
   "metadata": {},
   "outputs": [
    {
     "name": "stdout",
     "output_type": "stream",
     "text": [
      "读取txt文件为：\n",
      " ['20150101', '20150102', '20150103', '20150104', '20150105', '20150106', '20150107', '20150107']\n",
      "************************************************************\n",
      "转化为DatetimeIndex为：\n",
      " DatetimeIndex(['2015-01-01', '2015-01-02', '2015-01-03', '2015-01-04',\n",
      "               '2015-01-05', '2015-01-06', '2015-01-07', '2015-01-07'],\n",
      "              dtype='datetime64[ns]', freq=None)\n"
     ]
    }
   ],
   "source": [
    "# 作业2：请如图创建一个包含时间日期的txt文件，通过open语句读取后转化成DatetimeIndex\n",
    "import numpy as np\n",
    "import pandas as pd\n",
    "\n",
    "try:\n",
    "    with open('date.txt','w') as f:\n",
    "        for i in range(1,8):\n",
    "            f.write('2015010'+str(i)+',')\n",
    "        f.write('2015010'+str(i))\n",
    "except:\n",
    "    print(\"can't create the file!\\n\")\n",
    "\n",
    "with open('date.txt','r') as f:\n",
    "    line = f.readline().split(',')\n",
    "print('读取txt文件为：\\n',line )\n",
    "print('**'*30)\n",
    "\n",
    "t = pd.DatetimeIndex(line)\n",
    "print('转化为DatetimeIndex为：\\n',t)"
   ]
  },
  {
   "cell_type": "code",
   "execution_count": 6,
   "metadata": {},
   "outputs": [
    {
     "data": {
      "text/plain": [
       "'\\n【课程2.10  Pandas时间戳索引：DatetimeIndex】 课程作业\\n'"
      ]
     },
     "execution_count": 6,
     "metadata": {},
     "output_type": "execute_result"
    }
   ],
   "source": [
    "'''\n",
    "【课程2.10  Pandas时间戳索引：DatetimeIndex】 课程作业\n",
    "'''"
   ]
  },
  {
   "cell_type": "code",
   "execution_count": 13,
   "metadata": {},
   "outputs": [
    {
     "name": "stdout",
     "output_type": "stream",
     "text": [
      "时间序列1：\n",
      " 2017-01-01    0.611635\n",
      "2017-01-02    0.458556\n",
      "2017-01-03    0.113190\n",
      "2017-01-04    0.282488\n",
      "2017-01-05    0.648045\n",
      "Freq: D, dtype: float64\n",
      "************************************************************\n",
      "时间序列2:\n",
      " 2017-01-31    0.127070\n",
      "2017-04-30    0.551279\n",
      "2017-07-31    0.587447\n",
      "2017-10-31    0.238404\n",
      "Freq: Q-JAN, dtype: float64\n",
      "************************************************************\n",
      "时间序列3:\n",
      "                        value1    value2    value3    value4\n",
      "2017-12-01 00:00:00  0.356777  0.131222  0.295332  0.776461\n",
      "2017-12-01 00:10:00  0.829500  0.373282  0.948670  0.863143\n",
      "2017-12-01 00:20:00  0.164414  0.893845  0.668108  0.700916\n",
      "2017-12-01 00:30:00  0.018579  0.312039  0.300081  0.228220\n"
     ]
    }
   ],
   "source": [
    "# \t作业1：请输出以下时间序列\n",
    "t1 = pd.Series(np.random.rand(5),\n",
    "             index=pd.date_range('20170101','20170105',freq='D'))\n",
    "print('时间序列1：\\n',t1)\n",
    "print('**'*30)\n",
    "t2 = pd.Series(np.random.rand(4),\n",
    "              index = pd.date_range('2017','2018',freq='Q-JAN'))\n",
    "print('时间序列2:\\n',t2)\n",
    "print('**'*30)\n",
    "t3 = pd.DataFrame(np.random.rand(16).reshape(4,4),\n",
    "                  columns=['value1','value2','value3','value4'],\n",
    "                 index = pd.date_range('2017-12-01 00:00','2017-12-01 00:30', freq ='10Min'))\n",
    "print('时间序列3:\\n',t3)"
   ]
  },
  {
   "cell_type": "code",
   "execution_count": 18,
   "metadata": {},
   "outputs": [
    {
     "name": "stdout",
     "output_type": "stream",
     "text": [
      "创建时间序列ts1：\n",
      " 2017-05-01 12:00:00    0.991882\n",
      "2017-05-01 12:10:00    0.804340\n",
      "2017-05-01 12:20:00    0.545707\n",
      "2017-05-01 12:30:00    0.940601\n",
      "2017-05-01 12:40:00    0.031733\n",
      "Freq: 10T, dtype: float64\n",
      "转换成ts2:\n",
      " 2017-05-01 12:00:00    0.991882\n",
      "2017-05-01 12:05:00    0.991882\n",
      "2017-05-01 12:10:00    0.804340\n",
      "2017-05-01 12:15:00    0.804340\n",
      "2017-05-01 12:20:00    0.545707\n",
      "2017-05-01 12:25:00    0.545707\n",
      "2017-05-01 12:30:00    0.940601\n",
      "2017-05-01 12:35:00    0.940601\n",
      "2017-05-01 12:40:00    0.031733\n",
      "Freq: 5T, dtype: float64\n"
     ]
    }
   ],
   "source": [
    "# \t作业2：按要求创建时间序列ts1，并转换成ts2\n",
    "ts1 = pd.Series(np.random.rand(5),\n",
    "               index = pd.date_range('2017-05-01 12:00:00',periods=5,freq='10T'))\n",
    "ts2 = ts1.asfreq('5T','ffill')\n",
    "print('创建时间序列ts1：\\n',ts1)\n",
    "print('转换成ts2:\\n',ts2)"
   ]
  },
  {
   "cell_type": "code",
   "execution_count": 19,
   "metadata": {},
   "outputs": [
    {
     "data": {
      "text/plain": [
       "'\\n【课程2.11  Pandas时期：Period】 课程作业\\n'"
      ]
     },
     "execution_count": 19,
     "metadata": {},
     "output_type": "execute_result"
    }
   ],
   "source": [
    "'''\n",
    "【课程2.11  Pandas时期：Period】 课程作业\n",
    "'''"
   ]
  },
  {
   "cell_type": "code",
   "execution_count": 23,
   "metadata": {},
   "outputs": [
    {
     "name": "stdout",
     "output_type": "stream",
     "text": [
      "时间序列ts1：\n",
      " 2017-01    0.863386\n",
      "2017-02    0.600392\n",
      "2017-03    0.816753\n",
      "2017-04    0.036094\n",
      "2017-05    0.364342\n",
      "Freq: M, dtype: float64\n",
      "************************************************************\n",
      "时间序列ts1：\n",
      " 2017-01-01 00:00    0.385836\n",
      "2017-01-01 02:00    0.795882\n",
      "2017-01-01 04:00    0.573236\n",
      "2017-01-01 06:00    0.562098\n",
      "2017-01-01 08:00    0.583647\n",
      "Freq: 2H, dtype: float64\n"
     ]
    }
   ],
   "source": [
    "# \t作业1：请输出以下时间序列，使用pd.period_range()\n",
    "\n",
    "ts1 = pd.Series(np.random.rand(5),\n",
    "               index=pd.period_range('2017-01',periods=5,freq='M'))\n",
    "print('时间序列ts1：\\n', ts1)\n",
    "print('**'*30)\n",
    "\n",
    "ts2 = pd.Series(np.random.rand(5),\n",
    "               index=pd.period_range('2017-01-01 00:00',periods=5,freq='2H'))\n",
    "print('时间序列ts2：\\n', ts2)"
   ]
  },
  {
   "cell_type": "code",
   "execution_count": 24,
   "metadata": {},
   "outputs": [
    {
     "data": {
      "text/plain": [
       "'\\n【课程2.12  时间序列 - 索引及切片】 课程作业\\n\\n'"
      ]
     },
     "execution_count": 24,
     "metadata": {},
     "output_type": "execute_result"
    }
   ],
   "source": [
    "'''\n",
    "【课程2.12  时间序列 - 索引及切片】 课程作业\n",
    "\n",
    "'''"
   ]
  },
  {
   "cell_type": "code",
   "execution_count": 32,
   "metadata": {},
   "outputs": [
    {
     "name": "stdout",
     "output_type": "stream",
     "text": [
      "创建时间序列为：\n",
      "                         value1     value2     value3\n",
      "2017-12-01 00:00:00  48.535380  21.970432   2.146587\n",
      "2017-12-01 12:00:00  42.398860  30.558403  96.173852\n",
      "2017-12-02 00:00:00  81.030696  98.438820  84.582315\n",
      "2017-12-02 12:00:00  79.440555  85.539816  26.290226\n",
      "2017-12-03 00:00:00  20.808962  84.525147  11.620693\n",
      "2017-12-03 12:00:00  94.487010  19.952497  89.880993\n",
      "2017-12-04 00:00:00   3.976816  27.041887  85.534310\n",
      "2017-12-04 12:00:00  75.339098  10.689980  24.136989\n",
      "2017-12-05 00:00:00   2.039088  33.374510  12.451423\n",
      "2017-12-05 12:00:00  77.019818   0.418026  23.600446\n",
      "前4行得所有值为：\n",
      "                         value1     value2     value3\n",
      "2017-12-01 00:00:00  48.535380  21.970432   2.146587\n",
      "2017-12-01 12:00:00  42.398860  30.558403  96.173852\n",
      "2017-12-02 00:00:00  81.030696  98.438820  84.582315\n",
      "2017-12-4 12:00:00的数据为：\n",
      " value1    75.339098\n",
      "value2    10.689980\n",
      "value3    24.136989\n",
      "Name: 2017-12-04 12:00:00, dtype: float64\n",
      "2017-12-4 - 2017-12-5的数据为:\n",
      "                         value1     value2     value3\n",
      "2017-12-04 00:00:00   3.976816  27.041887  85.534310\n",
      "2017-12-04 12:00:00  75.339098  10.689980  24.136989\n",
      "2017-12-05 00:00:00   2.039088  33.374510  12.451423\n",
      "2017-12-05 12:00:00  77.019818   0.418026  23.600446\n"
     ]
    }
   ],
   "source": [
    "# \t作业1：如图创建时间序列(10*3，值为0-100的随机数)，通过索引得到以下值\n",
    "# ① 索引得到前4行的所有值\n",
    "# ② 索引得到2017-12-4 12:00:00的数据\n",
    "# ③ 索引得到2017-12-4 - 2017-12-5的数据\n",
    "\n",
    "ts = pd.DataFrame(np.random.rand(30).reshape(10,3)*100,\n",
    "                  columns=['value1','value2','value3'],\n",
    "                  index = pd.date_range('2017-12-01 00:00:00',periods=10,freq='12H'))\n",
    "print('创建时间序列为：\\n',ts)\n",
    "print('前4行得所有值为：\\n',ts[:3])\n",
    "print('2017-12-4 12:00:00的数据为：\\n', ts.loc['2017-12-4 12:00:00'])\n",
    "print('2017-12-4 - 2017-12-5的数据为:\\n', ts.loc['2017-12-4':'2017-12-5'])"
   ]
  },
  {
   "cell_type": "code",
   "execution_count": 33,
   "metadata": {},
   "outputs": [
    {
     "data": {
      "text/plain": [
       "'\\n【课程2.13  时间序列 - 重采样】 课程作业\\n'"
      ]
     },
     "execution_count": 33,
     "metadata": {},
     "output_type": "execute_result"
    }
   ],
   "source": [
    "'''\n",
    "【课程2.13  时间序列 - 重采样】 课程作业\n",
    "'''"
   ]
  },
  {
   "cell_type": "code",
   "execution_count": 36,
   "metadata": {},
   "outputs": [
    {
     "name": "stdout",
     "output_type": "stream",
     "text": [
      "创建时间序列ts1:\n",
      " 2017-01-01    0.153984\n",
      "2017-01-02    0.306115\n",
      "2017-01-03    0.172917\n",
      "2017-01-04    0.183393\n",
      "2017-01-05    0.345965\n",
      "2017-01-06    0.213893\n",
      "2017-01-07    0.672656\n",
      "2017-01-08    0.652485\n",
      "2017-01-09    0.110221\n",
      "2017-01-10    0.601982\n",
      "Freq: D, dtype: float64\n",
      "转换成ts2:\n",
      " 2017-01-01    0.633017\n",
      "2017-01-04    0.743251\n",
      "2017-01-07    1.435362\n",
      "2017-01-10    0.601982\n",
      "Freq: 3D, dtype: float64\n",
      "转换成ts3:\n",
      " 2017-01-01 00:00:00    0.153984\n",
      "2017-01-01 12:00:00    0.153984\n",
      "2017-01-02 00:00:00    0.306115\n",
      "2017-01-02 12:00:00    0.306115\n",
      "2017-01-03 00:00:00    0.172917\n",
      "2017-01-03 12:00:00    0.172917\n",
      "2017-01-04 00:00:00    0.183393\n",
      "2017-01-04 12:00:00    0.183393\n",
      "2017-01-05 00:00:00    0.345965\n",
      "2017-01-05 12:00:00    0.345965\n",
      "2017-01-06 00:00:00    0.213893\n",
      "2017-01-06 12:00:00    0.213893\n",
      "2017-01-07 00:00:00    0.672656\n",
      "2017-01-07 12:00:00    0.672656\n",
      "2017-01-08 00:00:00    0.652485\n",
      "2017-01-08 12:00:00    0.652485\n",
      "2017-01-09 00:00:00    0.110221\n",
      "2017-01-09 12:00:00    0.110221\n",
      "2017-01-10 00:00:00    0.601982\n",
      "Freq: 12H, dtype: float64\n"
     ]
    }
   ],
   "source": [
    "# \t作业1：按要求创建时间序列ts1，通过降采样和升采样，转换成ts2，ts3\n",
    "ts1 = pd.Series(np.random.rand(10),\n",
    "               index = pd.date_range('2017-01-01',periods=10,freq='D'))\n",
    "print('创建时间序列ts1:\\n', ts1)\n",
    "print('转换成ts2:\\n', ts1.resample('3D').sum()) #降采样\n",
    "print('转换成ts3:\\n', ts1.resample('12H').ffill()) # 上采样"
   ]
  },
  {
   "cell_type": "code",
   "execution_count": null,
   "metadata": {},
   "outputs": [],
   "source": []
  }
 ],
 "metadata": {
  "kernelspec": {
   "display_name": "Python 3",
   "language": "python",
   "name": "python3"
  },
  "language_info": {
   "codemirror_mode": {
    "name": "ipython",
    "version": 3
   },
   "file_extension": ".py",
   "mimetype": "text/x-python",
   "name": "python",
   "nbconvert_exporter": "python",
   "pygments_lexer": "ipython3",
   "version": "3.6.4"
  }
 },
 "nbformat": 4,
 "nbformat_minor": 2
}
