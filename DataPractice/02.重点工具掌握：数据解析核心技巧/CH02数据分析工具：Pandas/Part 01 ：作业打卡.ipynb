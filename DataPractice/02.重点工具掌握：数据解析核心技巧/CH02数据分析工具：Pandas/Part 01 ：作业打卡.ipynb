{
 "cells": [
  {
   "cell_type": "code",
   "execution_count": 1,
   "metadata": {},
   "outputs": [
    {
     "data": {
      "text/plain": [
       "'\\n【课程2.2】 Pandas数据结构Series：基本改建及创建，课堂作业\\n'"
      ]
     },
     "execution_count": 1,
     "metadata": {},
     "output_type": "execute_result"
    }
   ],
   "source": [
    "'''\n",
    "【课程2.2】 Pandas数据结构Series：基本改建及创建，课堂作业\n",
    "'''"
   ]
  },
  {
   "cell_type": "code",
   "execution_count": 1,
   "metadata": {},
   "outputs": [
    {
     "name": "stdout",
     "output_type": "stream",
     "text": [
      "Jack     90.0\n",
      "Marry    92.0\n",
      "Tom      89.0\n",
      "Zack     65.0\n",
      "Name: 作业1, dtype: float64\n",
      "****************************************\n",
      "Jack     90.0\n",
      "Marry    92.0\n",
      "Tom      89.0\n",
      "Zack     65.0\n",
      "Name: 作业1, dtype: float64\n"
     ]
    }
   ],
   "source": [
    "# 作业1：分别由字典、数组的方式，创建以下要求的Series\n",
    "import numpy as np\n",
    "import pandas as pd\n",
    "\n",
    "# 字典创建\n",
    "dic = {'Jack': 90.0, 'Marry':92.0, 'Tom': 89.0, 'Zack':65.0}\n",
    "s = pd.Series(dic,name='作业1')\n",
    "print(s)\n",
    "\n",
    "# 数组创建\n",
    "print('**'*20)\n",
    "lst = [90.0,92.0,89.0,65.0]\n",
    "s2 = pd.Series(lst, index=['Jack','Marry','Tom','Zack'],name='作业1')\n",
    "print(s2)"
   ]
  },
  {
   "cell_type": "code",
   "execution_count": null,
   "metadata": {},
   "outputs": [],
   "source": [
    "'''\n",
    "【课程2.3】 Pandas数据结构Series：索引，课堂作业\n",
    "'''"
   ]
  },
  {
   "cell_type": "code",
   "execution_count": 7,
   "metadata": {},
   "outputs": [
    {
     "name": "stdout",
     "output_type": "stream",
     "text": [
      "创建Series为：\n",
      " a    43.709090\n",
      "b    31.099398\n",
      "c     4.375543\n",
      "d     6.993336\n",
      "e    84.090407\n",
      "f    74.256353\n",
      "g    30.705242\n",
      "h    44.149084\n",
      "i    95.996354\n",
      "j    73.156731\n",
      "dtype: float64 \n",
      " ------------------------------------------------------------\n",
      "标签为b，c的值为:\n",
      " 31.09939841290601 4.375542640853213 \n",
      " ------------------------------------------------------------\n",
      "Series中第4到6个值是：\n",
      " d     6.993336\n",
      "e    84.090407\n",
      "f    74.256353\n",
      "dtype: float64 \n",
      " ------------------------------------------------------------\n",
      "Series中大于50的值是：\n",
      " e    84.090407\n",
      "f    74.256353\n",
      "i    95.996354\n",
      "j    73.156731\n",
      "dtype: float64\n"
     ]
    }
   ],
   "source": [
    "'''\n",
    "作业1：创建一个Series，包含10个元素，且每个值为0-100的均匀分布随机值，index为a-j，请分别筛选出：\n",
    "① 标签为b，c的值为多少\n",
    "② Series中第4到6个值是哪些？\n",
    "③ Series中大于50的值有哪些？\n",
    "''' \n",
    "s = pd.Series(np.random.rand(10)*100,index=list('abcdefghij'))\n",
    "print('创建Series为：\\n', s,'\\n','--'*30)\n",
    "print('标签为b，c的值为:\\n',s['b'],s['c'],'\\n','--'*30)\n",
    "print('Series中第4到6个值是：\\n',s[3:6],'\\n','--'*30)\n",
    "print('Series中大于50的值是：\\n',s[s>50])"
   ]
  },
  {
   "cell_type": "code",
   "execution_count": 8,
   "metadata": {},
   "outputs": [
    {
     "data": {
      "text/plain": [
       "'\\n【课程2.4  Pandas数据结构Series：基本技巧】 课程作业\\n\\n'"
      ]
     },
     "execution_count": 8,
     "metadata": {},
     "output_type": "execute_result"
    }
   ],
   "source": [
    "'''\n",
    "【课程2.4  Pandas数据结构Series：基本技巧】 课程作业\n",
    "\n",
    "'''"
   ]
  },
  {
   "cell_type": "code",
   "execution_count": 4,
   "metadata": {},
   "outputs": [
    {
     "name": "stdout",
     "output_type": "stream",
     "text": [
      "创建s：\n",
      " a    0\n",
      "b    1\n",
      "c    2\n",
      "d    3\n",
      "e    4\n",
      "f    5\n",
      "g    6\n",
      "h    7\n",
      "i    8\n",
      "j    9\n",
      "dtype: int32\n",
      "修改后s：\n",
      " a    100\n",
      "b      1\n",
      "c      2\n",
      "d      3\n",
      "e    100\n",
      "f    100\n",
      "g      6\n",
      "h      7\n",
      "i      8\n",
      "j      9\n",
      "dtype: int32\n"
     ]
    }
   ],
   "source": [
    "# 作业1：如图创建Series，并按照要求修改得到结果\n",
    "s = pd.Series(np.arange(10),index=list('abcdefghij'))\n",
    "print('创建s：\\n',s)\n",
    "s['a'] = 100\n",
    "s['e':'f'] = 100\n",
    "print('修改后s：\\n',s)"
   ]
  },
  {
   "cell_type": "code",
   "execution_count": 2,
   "metadata": {},
   "outputs": [
    {
     "name": "stdout",
     "output_type": "stream",
     "text": [
      "创建s1为：\n",
      " a    6.576688\n",
      "b    9.547936\n",
      "c    3.859073\n",
      "d    3.067435\n",
      "e    6.097613\n",
      "dtype: float64\n",
      "创建s2为：\n",
      " c    4.408662\n",
      "d    2.168923\n",
      "e    4.430587\n",
      "f    6.014679\n",
      "g    5.136977\n",
      "dtype: float64\n",
      "s1+s2为：\n",
      " a          NaN\n",
      "b          NaN\n",
      "c     8.267734\n",
      "d     5.236358\n",
      "e    10.528200\n",
      "f          NaN\n",
      "g          NaN\n",
      "dtype: float64\n"
     ]
    }
   ],
   "source": [
    "# 作业2：已有s1，s2（值为0-10的随机数），请求出s1+s2的值\n",
    "s1 = pd.Series(np.random.rand(5)*10,index=list('abcde'))\n",
    "print('创建s1为：\\n', s1)\n",
    "s2 = pd.Series(np.random.rand(5)*10,index=list('cdefg'))\n",
    "print('创建s2为：\\n', s2)\n",
    "print('s1+s2为：\\n',s1+s2)"
   ]
  },
  {
   "cell_type": "code",
   "execution_count": 3,
   "metadata": {},
   "outputs": [
    {
     "data": {
      "text/plain": [
       "'\\n【课程2.5  Pandas数据结构Dataframe：基本概念及创建】 课程作业\\n\\n'"
      ]
     },
     "execution_count": 3,
     "metadata": {},
     "output_type": "execute_result"
    }
   ],
   "source": [
    "'''\n",
    "【课程2.5  Pandas数据结构Dataframe：基本概念及创建】 课程作业\n",
    "\n",
    "'''"
   ]
  },
  {
   "cell_type": "code",
   "execution_count": 11,
   "metadata": {},
   "outputs": [
    {
     "name": "stdout",
     "output_type": "stream",
     "text": [
      "   four  one  three  two\n",
      "a     5    8      3    0\n",
      "b     7    1      2    6\n",
      "c     9    4      2    6\n",
      "d     0    5      3    0\n",
      "e     4    9      4    6\n",
      "   four  one  three  two\n",
      "a     2    2      2    2\n",
      "b     3    3      3    3\n",
      "c     3    3      3    3\n",
      "d     5    5      5    5\n",
      "e     4    4      4    4\n",
      "   four  one  three  two\n",
      "a     6    5      3    0\n",
      "b     6    7      5    7\n",
      "c     3    3      0    0\n",
      "d     9    8      4    5\n",
      "e     3    1      7    3\n",
      "   four  one  three  two\n",
      "a     4    1      3    2\n",
      "b     4    1      3    2\n",
      "c     4    1      3    2\n",
      "d     4    1      3    2\n",
      "e     4    1      3    2\n"
     ]
    }
   ],
   "source": [
    "# 作业1：用四种不同的方法，创建以下Dataframe（保证columns和index一致，值不做要求）\n",
    "\n",
    "# 方法一：由Series组成的字典\n",
    "dic1 = {'one':pd.Series(np.random.randint(0,10,5),index=list('abcde')),\n",
    "      'two':pd.Series(np.random.randint(0,10,5),index=list('abcde')),\n",
    "      'three':pd.Series(np.random.randint(0,10,5),index=list('abcde')),\n",
    "      'four':pd.Series(np.random.randint(0,10,5),index=list('abcde')),}\n",
    "df1 = pd.DataFrame(dic1)\n",
    "print(df)\n",
    "\n",
    "# 方法二：由字典形成的列表, 一维key为columns，二维key为index\n",
    "dic2 = {'one':{'a':2,'b':3,'c':3,'d':5,'e':4},\n",
    "       'two':{'a':2,'b':3,'c':3,'d':5,'e':4},\n",
    "       'three':{'a':2,'b':3,'c':3,'d':5,'e':4},\n",
    "       'four':{'a':2,'b':3,'c':3,'d':5,'e':4},\n",
    "    }\n",
    "df2 = pd.DataFrame(dic2)\n",
    "print(df2)\n",
    "\n",
    "# 方法三：由数组/list 组成的字典\n",
    "dic3 = {'one':np.random.randint(0,10,5),\n",
    "       'two':np.random.randint(0,10,5),\n",
    "       'three':np.random.randint(0,10,5),\n",
    "       'four':np.random.randint(0,10,5)}\n",
    "df3 = pd.DataFrame(dic3,index=list('abcde'))\n",
    "print(df3)\n",
    "\n",
    "#方法四：由字典生成的列表\n",
    "lst = [{'one':1,'two':2,'three':3,'four':4},\n",
    "      {'one':1,'two':2,'three':3,'four':4},\n",
    "      {'one':1,'two':2,'three':3,'four':4},\n",
    "      {'one':1,'two':2,'three':3,'four':4},\n",
    "      {'one':1,'two':2,'three':3,'four':4}]\n",
    "df4 = pd.DataFrame(lst,index=list('abcde'))\n",
    "print(df4)"
   ]
  },
  {
   "cell_type": "code",
   "execution_count": 12,
   "metadata": {},
   "outputs": [
    {
     "data": {
      "text/plain": [
       "'\\n【课程2.6  Pandas数据结构Dataframe：索引】 课程作业\\n'"
      ]
     },
     "execution_count": 12,
     "metadata": {},
     "output_type": "execute_result"
    }
   ],
   "source": [
    "'''\n",
    "【课程2.6  Pandas数据结构Dataframe：索引】 课程作业\n",
    "'''"
   ]
  },
  {
   "cell_type": "code",
   "execution_count": 18,
   "metadata": {},
   "outputs": [
    {
     "name": "stdout",
     "output_type": "stream",
     "text": [
      "创建DataFrame：\n",
      "                a          b          c          d\n",
      "one    40.176125  59.126069   7.730068  86.194932\n",
      "two    88.883637  81.295160  40.782666  81.209865\n",
      "three  54.339985   4.610994  85.252441  28.829172\n",
      "four   62.922525  86.536019  50.322678  88.767360\n",
      "------------------------------------------------------------\n",
      "索引得到b、c列的所有值：\n",
      "                b          c\n",
      "one    59.126069   7.730068\n",
      "two    81.295160  40.782666\n",
      "three   4.610994  85.252441\n",
      "four   86.536019  50.322678\n",
      "------------------------------------------------------------\n",
      "索引得到第3、4行的数据：\n",
      "                a          b          c          d\n",
      "three  54.339985   4.610994  85.252441  28.829172\n",
      "four   62.922525  86.536019  50.322678  88.767360\n",
      "------------------------------------------------------------\n",
      "索引得到two、one列的所有值：\n",
      "              a          b          c          d\n",
      "two  88.883637  81.295160  40.782666  81.209865\n",
      "one  40.176125  59.126069   7.730068  86.194932\n",
      "------------------------------------------------------------\n",
      "索引得到大于50的值：\n",
      "                a          b          c          d\n",
      "one          NaN  59.126069        NaN  86.194932\n",
      "two    88.883637  81.295160        NaN  81.209865\n",
      "three  54.339985        NaN  85.252441        NaN\n",
      "four   62.922525  86.536019  50.322678  88.767360\n"
     ]
    }
   ],
   "source": [
    "'''\n",
    "作业1：如图创建Dataframe(4*4，值为0-100的随机数)，通过索引得到以下值\n",
    "① 索引得到b，c列的所有值\n",
    "② 索引得到第三第四行的数据\n",
    "③ 按顺序索引得到two，one行的值\n",
    "④ 索引得到大于50的值\n",
    "\n",
    "'''\n",
    "df = pd.DataFrame(np.random.rand(16).reshape(4,4)*100,index=['one','two','three','four'],\n",
    "                 columns=list('abcd'))\n",
    "print('创建DataFrame：\\n',df)\n",
    "print('--'*30)\n",
    "print('索引得到b、c列的所有值：\\n',df[['b','c']])\n",
    "print('--'*30)\n",
    "print('索引得到第3、4行的数据：\\n',df.iloc[2:4])\n",
    "print('--'*30)\n",
    "print('索引得到two、one列的所有值：\\n',df.loc[['two','one']])\n",
    "print('--'*30)\n",
    "print('索引得到大于50的值：\\n',df[df>50])"
   ]
  },
  {
   "cell_type": "code",
   "execution_count": null,
   "metadata": {},
   "outputs": [],
   "source": [
    "'''\n",
    "【课程2.7  Pandas数据结构Dataframe：基本技巧】 课程作业\n",
    "'''"
   ]
  },
  {
   "cell_type": "code",
   "execution_count": 22,
   "metadata": {
    "scrolled": true
   },
   "outputs": [
    {
     "name": "stdout",
     "output_type": "stream",
     "text": [
      "创建DataFrame为：\n",
      "           v1         v2         v3\n",
      "a  39.903740  13.125320  18.505953\n",
      "b   1.037182  68.316784  33.409567\n",
      "c   3.875824  23.123765  83.973178\n",
      "------------------------------------------------------------\n",
      "按照index降序排列为：\n",
      "           v1         v2         v3\n",
      "c   3.875824  23.123765  83.973178\n",
      "b   1.037182  68.316784  33.409567\n",
      "a  39.903740  13.125320  18.505953\n",
      "------------------------------------------------------------\n",
      "按照第二列值大小降序排列为：\n",
      "           v1         v2         v3\n",
      "b   1.037182  68.316784  33.409567\n",
      "c   3.875824  23.123765  83.973178\n",
      "a  39.903740  13.125320  18.505953\n"
     ]
    }
   ],
   "source": [
    "# 作业1：创建一个3*3，值在0-100区间随机值的Dataframe（如图），分别按照index和第二列值大小，降序排序\n",
    "df = pd.DataFrame(np.random.rand(9).reshape(3,3)*100,\n",
    "                 index=list('abc'),\n",
    "                 columns=['v1','v2','v3'])\n",
    "print('创建DataFrame为：\\n',df)\n",
    "print('--'*30)\n",
    "print('按照index降序排列为：\\n', df.sort_index(ascending=False))\n",
    "print('--'*30)\n",
    "print('按照第二列值大小降序排列为：\\n', df.sort_values(['v2'],ascending=False))"
   ]
  },
  {
   "cell_type": "code",
   "execution_count": 23,
   "metadata": {},
   "outputs": [
    {
     "name": "stdout",
     "output_type": "stream",
     "text": [
      "创建DataFrame为：\n",
      "           v1         v2\n",
      "a   7.876502  35.252225\n",
      "b  88.250197  85.398263\n",
      "c  85.087415  58.241391\n",
      "d  95.673654  96.631193\n",
      "e   8.675417  82.464953\n",
      "修改后：\n",
      "             a      b          c          d          e\n",
      "v1   7.876502  100.0  85.087415  95.673654   8.675417\n",
      "v2  35.252225  100.0  58.241391  96.631193  82.464953\n"
     ]
    }
   ],
   "source": [
    "#作业2：创建一个5*2，值在0-100区间随机值的Dataframe（如图）df1，通过修改得到df2\n",
    "df = pd.DataFrame(np.random.rand(10).reshape(5,2)*100,\n",
    "                 index=list('abcde'),columns=['v1','v2'])\n",
    "print('创建DataFrame为：\\n',df)\n",
    "df.loc['b'] = 100\n",
    "print('修改后：\\n',df.T)"
   ]
  }
 ],
 "metadata": {
  "kernelspec": {
   "display_name": "Python 3",
   "language": "python",
   "name": "python3"
  },
  "language_info": {
   "codemirror_mode": {
    "name": "ipython",
    "version": 3
   },
   "file_extension": ".py",
   "mimetype": "text/x-python",
   "name": "python",
   "nbconvert_exporter": "python",
   "pygments_lexer": "ipython3",
   "version": "3.6.4"
  }
 },
 "nbformat": 4,
 "nbformat_minor": 2
}
