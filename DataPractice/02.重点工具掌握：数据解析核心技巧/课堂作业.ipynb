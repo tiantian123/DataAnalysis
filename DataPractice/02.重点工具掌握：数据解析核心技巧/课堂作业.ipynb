{
 "cells": [
  {
   "cell_type": "code",
   "execution_count": 6,
   "metadata": {},
   "outputs": [
    {
     "name": "stdout",
     "output_type": "stream",
     "text": [
      "[1 2 'a' 'hello' list([1, 2, 3]) {'two': 200, 'one': 100}] (6,)\n",
      "[['0' '1' '2' '3' '4' '5']\n",
      " ['a' 'b' 'c' 'd' 'e' 'f']\n",
      " ['True' 'False' 'True' 'False' 'True' 'True']] (3, 6)\n"
     ]
    }
   ],
   "source": [
    "# 【课程1.2】  Numpy基础数据结构 作业\n",
    "# 作业1：分别按照要求，生成一个一维数组、二维数组，并且查看其shape\n",
    "import numpy as np\n",
    "\n",
    "a1 = np.array([1,2,'a','hello',[1,2,3],{'two':200, 'one':100}])\n",
    "print(a1,a1.shape)\n",
    "a2 = np.array([list(range(6)),\n",
    "              list('abcdef'),\n",
    "              ['True','False','True','False','True','True']])\n",
    "print(a2,a2.shape)"
   ]
  },
  {
   "cell_type": "code",
   "execution_count": 9,
   "metadata": {},
   "outputs": [
    {
     "name": "stdout",
     "output_type": "stream",
     "text": [
      "[ 5  6  7  8  9 10 11 12 13 14 15]\n",
      "[ 5  6  7  8  9 10 11 12 13 14 15]\n"
     ]
    }
   ],
   "source": [
    "# 作业2：生成一个一维数组，起始值为5，终点为15，样本数为10个\n",
    "a3 = np.array(list(range(5,16)))\n",
    "print(a3)\n",
    "a3 = np.arange(5,16)\n",
    "print(a3)"
   ]
  },
  {
   "cell_type": "code",
   "execution_count": 14,
   "metadata": {},
   "outputs": [
    {
     "name": "stdout",
     "output_type": "stream",
     "text": [
      "[[0. 0. 0. 0.]\n",
      " [0. 0. 0. 0.]\n",
      " [0. 0. 0. 0.]\n",
      " [0. 0. 0. 0.]]\n",
      "[[1. 1. 1.]\n",
      " [1. 1. 1.]]\n",
      "[[1. 0. 0.]\n",
      " [0. 1. 0.]\n",
      " [0. 0. 1.]]\n"
     ]
    }
   ],
   "source": [
    "# 作业3： 按照要求创建3个数组\n",
    "a1 = np.zeros((4,4))\n",
    "print(a1)\n",
    "a2 = np.ones((2,3))\n",
    "a3 = np.eye(3)\n",
    "print(a2)\n",
    "print(a3)"
   ]
  },
  {
   "cell_type": "code",
   "execution_count": 1,
   "metadata": {},
   "outputs": [
    {
     "data": {
      "text/plain": [
       "'\\n【课程1.3 Numpy 通用函数】\\n'"
      ]
     },
     "execution_count": 1,
     "metadata": {},
     "output_type": "execute_result"
    }
   ],
   "source": [
    "'''\n",
    "【课程1.3 Numpy 通用函数】\n",
    "'''"
   ]
  },
  {
   "cell_type": "code",
   "execution_count": 8,
   "metadata": {},
   "outputs": [
    {
     "name": "stdout",
     "output_type": "stream",
     "text": [
      "[[ 0  1  2  3  4]\n",
      " [ 5  6  7  8  9]\n",
      " [10 11 12 13 14]\n",
      " [15 16 17 18 19]]\n",
      "[[ 0  1  2  3  4  5]\n",
      " [ 6  7  8  9 10 11]\n",
      " [12 13 14 15 16 17]\n",
      " [18 19  0  1  2  3]\n",
      " [ 4  5  6  7  8  9]]\n"
     ]
    }
   ],
   "source": [
    "# 作业1：创建一个20个元素的数组，分别改成两个形状：（4，5），（5，6）（提示：超出范围用resize）\n",
    "import numpy as np\n",
    "lst1 = np.arange(20).reshape((4,5))\n",
    "print(lst1)\n",
    "lst2 = np.resize(lst1,(5,6))\n",
    "print(lst2)"
   ]
  },
  {
   "cell_type": "code",
   "execution_count": 11,
   "metadata": {},
   "outputs": [
    {
     "name": "stdout",
     "output_type": "stream",
     "text": [
      "[['0' '1' '2' '3']\n",
      " ['4' '5' '6' '7']\n",
      " ['8' '9' '10' '11']\n",
      " ['12' '13' '14' '15']]\n"
     ]
    }
   ],
   "source": [
    "# 作业2：创建一个(4,4)的数组，把其元素类型改为字符型。\n",
    "ar2 = np.arange(16).reshape(4,4)\n",
    "print(ar2.astype(np.str))"
   ]
  },
  {
   "cell_type": "code",
   "execution_count": 16,
   "metadata": {},
   "outputs": [
    {
     "name": "stdout",
     "output_type": "stream",
     "text": [
      "[[100 110 120 130]\n",
      " [140 150 160 170]\n",
      " [180 190 200 210]\n",
      " [220 230 240 250]]\n",
      "175.0\n",
      "2800\n"
     ]
    }
   ],
   "source": [
    "# 作业3：根据要求创建数组，运用数组的运算方法得到结果：result = ar * 10 + 100，并求出result的均值及求和。\n",
    "# 创建数组为：\n",
    "ar1 = np.arange(16).reshape(4,4)\n",
    "result = ar1 * 10 + 100\n",
    "print(result)\n",
    "print(result.mean())\n",
    "print(result.sum())"
   ]
  },
  {
   "cell_type": "code",
   "execution_count": 17,
   "metadata": {},
   "outputs": [
    {
     "data": {
      "text/plain": [
       "'\\n【课程1.4  Numpy索引及切片】 课程作业\\n\\n'"
      ]
     },
     "execution_count": 17,
     "metadata": {},
     "output_type": "execute_result"
    }
   ],
   "source": [
    "'''\n",
    "【课程1.4  Numpy索引及切片】 课程作业\n",
    "\n",
    "'''"
   ]
  },
  {
   "cell_type": "code",
   "execution_count": 20,
   "metadata": {},
   "outputs": [
    {
     "name": "stdout",
     "output_type": "stream",
     "text": [
      "[[ 0  1  2  3  4]\n",
      " [ 5  6  7  8  9]\n",
      " [10 11 12 13 14]\n",
      " [15 16 17 18 19]\n",
      " [20 21 22 23 24]]\n",
      "[20 21 22 23 24]\n",
      "[[3 4]\n",
      " [8 9]]\n",
      "17\n",
      "17\n"
     ]
    }
   ],
   "source": [
    "# 作业1：按照要求创建数组，通过索引，其ar[4]、ar[:2,3:]、ar[3][2]分别是多少\n",
    "ar = np.arange(25).reshape(5,5)\n",
    "print(ar)\n",
    "print(ar[4])\n",
    "print(ar[:2,3:])\n",
    "print(ar[3,2])\n",
    "print(ar[3][2])"
   ]
  },
  {
   "cell_type": "code",
   "execution_count": 24,
   "metadata": {},
   "outputs": [
    {
     "name": "stdout",
     "output_type": "stream",
     "text": [
      "[[0 1 2 3 4]\n",
      " [5 6 7 8 9]]\n",
      "****************************************\n",
      "[6 7 8 9]\n"
     ]
    }
   ],
   "source": [
    "# 作业2：按照要求创建数组，筛选出元素值大于5的值并生成新的数组\n",
    "ar2 = np.arange(10).reshape(2,5)\n",
    "print(ar2)\n",
    "print('**'*20)\n",
    "print(ar2[ar2>5])"
   ]
  },
  {
   "cell_type": "code",
   "execution_count": 25,
   "metadata": {},
   "outputs": [
    {
     "data": {
      "text/plain": [
       "'\\n【1.5】 Numpy 索引及切片，课程作业\\n'"
      ]
     },
     "execution_count": 25,
     "metadata": {},
     "output_type": "execute_result"
    }
   ],
   "source": [
    "'''\n",
    "【1.5】 Numpy 索引及切片，课程作业\n",
    "'''"
   ]
  },
  {
   "cell_type": "code",
   "execution_count": 39,
   "metadata": {},
   "outputs": [
    {
     "name": "stdout",
     "output_type": "stream",
     "text": [
      "[[ 0.  1.  2.  3.  4.]\n",
      " [ 5.  6.  7.  8.  9.]\n",
      " [10. 11. 12. 13. 14.]\n",
      " [15. 16. 17. 18. 19.]\n",
      " [20. 21. 22. 23. 24.]]\n",
      "[[ 0.22895584  0.22895584  2.          3.          4.        ]\n",
      " [ 0.76084405  0.76084405  7.          8.          9.        ]\n",
      " [10.         11.         12.         13.         14.        ]\n",
      " [15.         16.         17.         18.         19.        ]\n",
      " [20.         21.         22.         23.         24.        ]]\n",
      "[[ 0.5796565   0.10639944  2.          3.          4.        ]\n",
      " [ 0.57994765  0.36962357  7.          8.          9.        ]\n",
      " [10.         11.         12.         13.         14.        ]\n",
      " [15.         16.         17.         18.         19.        ]\n",
      " [20.         21.         22.         23.         24.        ]]\n"
     ]
    }
   ],
   "source": [
    "# 作业1：请按照要求创建数组ar，再将ar[:2,:2]的值改为[0,1)的随机数\n",
    "#import random\n",
    "ar2 = np.arange(25,dtype=np.float32).reshape(5,5)\n",
    "print(ar2)\n",
    "ar2[:2,:2] = np.random.rand(2,1) #?\n",
    "print(ar2)\n",
    "ar2[:2,:2] = np.random.rand(2,2) #?\n",
    "print(ar2)"
   ]
  },
  {
   "cell_type": "code",
   "execution_count": 47,
   "metadata": {},
   "outputs": [
    {
     "name": "stdout",
     "output_type": "stream",
     "text": [
      "[[ 2.28155366  0.41239324 -0.45727655 -1.35563454  0.35068327]\n",
      " [ 0.51349297 -1.03779888 -0.22182156  0.32768768 -0.59925095]]\n",
      "----\n",
      " [[ 0.7860292   1.51612324  0.92147581  0.10001658 -1.42317992]\n",
      " [ 1.56263164  0.97596984 -1.81543456 -0.61757833 -0.06993843]]\n",
      "************************************************************\n",
      "[[[ 2.28155366  0.41239324 -0.45727655 -1.35563454  0.35068327]\n",
      "  [ 0.7860292   1.51612324  0.92147581  0.10001658 -1.42317992]]\n",
      "\n",
      " [[ 0.51349297 -1.03779888 -0.22182156  0.32768768 -0.59925095]\n",
      "  [ 1.56263164  0.97596984 -1.81543456 -0.61757833 -0.06993843]]]\n"
     ]
    }
   ],
   "source": [
    "# 作业2：创建2个包含10个元素的正太分布一维数组\n",
    "ar1 = np.random.normal(size=(2,5))\n",
    "print(ar1)\n",
    "ar2 = np.random.normal(size=(2,5))\n",
    "print('----\\n',ar2)\n",
    "print('**'*30)\n",
    "print(np.stack((ar1,ar2),axis=1))"
   ]
  },
  {
   "cell_type": "code",
   "execution_count": 48,
   "metadata": {},
   "outputs": [
    {
     "data": {
      "text/plain": [
       "'\\n【1.6】Numpy数据的输入输出 课程作业\\n'"
      ]
     },
     "execution_count": 48,
     "metadata": {},
     "output_type": "execute_result"
    }
   ],
   "source": [
    "'''\n",
    "【1.6】Numpy数据的输入输出 课程作业\n",
    "'''"
   ]
  },
  {
   "cell_type": "code",
   "execution_count": 49,
   "metadata": {},
   "outputs": [
    {
     "name": "stdout",
     "output_type": "stream",
     "text": [
      "[[38 29 76 39 92 88 77 32  4  0]\n",
      " [24 49 60 89 22 16 71 23 39  9]\n",
      " [45 56 38 56 84  8 92 43 80 49]\n",
      " [58 17  1 43  2 78 94 64 67 17]\n",
      " [66 37 34 63 45 36 51 57 31 30]\n",
      " [89 74 35  0 82 75 34 20 86 87]\n",
      " [ 9 86 76 35 13 65 50 12 76 18]\n",
      " [36 65 94 67 15 97 30 97 33 53]\n",
      " [ 0 54 11 48 70 46 93 65 71 80]\n",
      " [31 72 54 40 82 46 71 90 82 48]]\n"
     ]
    }
   ],
   "source": [
    "#作业1：创建一个10*10的整数随机数组，取值范围为0-100，并存为txt文件，用逗号分开\n",
    "lst = np.random.randint(100,size=(10,10))\n",
    "print(lst)\n",
    "f = open(r'D:\\python_note\\DataPractice\\02.重点工具掌握：数据解析核心技巧\\array.txt','w')"
   ]
  }
 ],
 "metadata": {
  "kernelspec": {
   "display_name": "Python 3",
   "language": "python",
   "name": "python3"
  },
  "language_info": {
   "codemirror_mode": {
    "name": "ipython",
    "version": 3
   },
   "file_extension": ".py",
   "mimetype": "text/x-python",
   "name": "python",
   "nbconvert_exporter": "python",
   "pygments_lexer": "ipython3",
   "version": "3.6.4"
  }
 },
 "nbformat": 4,
 "nbformat_minor": 2
}
