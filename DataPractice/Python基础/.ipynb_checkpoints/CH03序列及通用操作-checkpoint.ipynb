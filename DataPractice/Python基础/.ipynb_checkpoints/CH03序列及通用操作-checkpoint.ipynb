{
 "cells": [
  {
   "cell_type": "code",
   "execution_count": 1,
   "metadata": {},
   "outputs": [
    {
     "data": {
      "text/plain": [
       "'\\n【课程3.2】  序列通用操作\\n\\n序列分类：可变序列list，不可变序列tuple、str\\n\\n'"
      ]
     },
     "execution_count": 1,
     "metadata": {},
     "output_type": "execute_result"
    }
   ],
   "source": [
    "'''\n",
    "【课程3.2】  序列通用操作\n",
    "\n",
    "序列分类：可变序列list，不可变序列tuple、str\n",
    "\n",
    "'''"
   ]
  },
  {
   "cell_type": "code",
   "execution_count": 2,
   "metadata": {},
   "outputs": [
    {
     "name": "stdout",
     "output_type": "stream",
     "text": [
      "True\n",
      "True\n"
     ]
    }
   ],
   "source": [
    "# 判断值是否属于序列\n",
    "\n",
    "lst = [1,2,3,4,5,6]\n",
    "a,b = 1,10\n",
    "print(a in lst)  # a 在 lst 序列中 , 如果 x 在 y 序列中返回 True。\n",
    "print(b not in lst)  # b 不在 lst 序列中 , 如果 x 不在 y 序列中返回 True。"
   ]
  },
  {
   "cell_type": "code",
   "execution_count": 3,
   "metadata": {},
   "outputs": [
    {
     "name": "stdout",
     "output_type": "stream",
     "text": [
      "[1, 2, 3, 'a', 'b', 'c']\n",
      "[1, 2, 3, 1, 2, 3, 1, 2, 3] ['a', 'b', 'c', 'a', 'b', 'c']\n"
     ]
    }
   ],
   "source": [
    "# 序列链接与重复\n",
    "\n",
    "lst1 = [1,2,3]\n",
    "lst2 = ['a','b','c']\n",
    "print(lst1+lst2)  # \"+\"：序列的链接\n",
    "print(lst1*3,lst2*2)  # \"*\"：序列重复"
   ]
  },
  {
   "cell_type": "code",
   "execution_count": 4,
   "metadata": {},
   "outputs": [
    {
     "name": "stdout",
     "output_type": "stream",
     "text": [
      "1 3 0\n",
      "0\n"
     ]
    }
   ],
   "source": [
    "# 下标索引\n",
    "\n",
    "lst = [1,2,3,4,5,6,7,8,9,0]\n",
    "print(lst[0],lst[2],lst[9])  # 索引从0开始，eg lst[2]中，下标索引是2，指向lst的第3个值\n",
    "print(lst[-1])  # 索引-1代表最后一个值\n",
    "#print(lst[10])  # 这里一共有10个值，所以最大索引是9"
   ]
  },
  {
   "cell_type": "code",
   "execution_count": 6,
   "metadata": {},
   "outputs": [
    {
     "name": "stdout",
     "output_type": "stream",
     "text": [
      "[3, 4, 5]\n",
      "[1, 2, 3, 4, 5]\n",
      "[5, 6, 7, 8, 9, 0]\n",
      "[6, 7, 8, 9]\n"
     ]
    }
   ],
   "source": [
    "# 切片\n",
    "\n",
    "lst = [1,2,3,4,5,6,7,8,9,0]\n",
    "print(lst[2:5])  # 切片可以理解成列表的值区间，且是一个左闭右开区间，这里lst[2:5]代表的区间是：索引2的值 - 索引4的值\n",
    "print(lst[:5])  # 左边无索引，代表从索引0开始\n",
    "print(lst[4:])  # 右边无索引，代表以最后一个值结束\n",
    "print(lst[5:-1])  # 索引5的值 - 倒数第二个值 （切片是右闭区间，注意了）"
   ]
  },
  {
   "cell_type": "code",
   "execution_count": 7,
   "metadata": {},
   "outputs": [
    {
     "name": "stdout",
     "output_type": "stream",
     "text": [
      "[1, 3, 5]\n",
      "[1, 3, 5, 7, 9]\n",
      "[2, 4, 6, 8, 0]\n"
     ]
    }
   ],
   "source": [
    "# 步长\n",
    "\n",
    "lst = [1,2,3,4,5,6,7,8,9,0]\n",
    "print(lst[0:5:2])  # List[i:j:n]代表：索引i - 索引j，以n为步长\n",
    "print(lst[::2])  # 按照2为步长，从第一个值开始截取lst数据\n",
    "print(lst[1::2])  # 按照2为步长，从第二个值开始截取lst数据"
   ]
  },
  {
   "cell_type": "code",
   "execution_count": 8,
   "metadata": {},
   "outputs": [
    {
     "name": "stdout",
     "output_type": "stream",
     "text": [
      "10\n",
      "9 0 45\n",
      "2\n",
      "4\n"
     ]
    }
   ],
   "source": [
    "# 序列的基本内置全局函数\n",
    "\n",
    "lst = [1,2,3,4,5,6,7,8,9,0]\n",
    "print(len(lst))  # 列表元素个数\n",
    "print(max(lst),min(lst),sum(lst))  # 返回列表的最大值、最小值、求和，这三个函数都只针对数字的list\n",
    "print(lst.index(3))  # .index(obj)方法：从列表中找出某个值第一个匹配项的索引位置\n",
    "\n",
    "lst = [1,1,2,3,3,4,4,4,4,5,6]\n",
    "print(lst.count(4))  # .count(obj)方法：计算值的出现次数"
   ]
  },
  {
   "cell_type": "markdown",
   "metadata": {},
   "source": [
    "小作业\n",
    "\n",
    "① x=[1,2,3,1,[1],[1,1]]，请问x.count(1)为多少？\n",
    "\n",
    "② x=[1,2,5,1,“1”，“1”]，请问x.count(1)为多少？\n",
    "\n",
    "③ y=[45,67,89,45,34,22,1],请问y.index(45)等于多少？\n",
    "\n",
    "④ 创建一个列表，用type函数判断list[1]和list[2:5]的区别"
   ]
  },
  {
   "cell_type": "code",
   "execution_count": 23,
   "metadata": {},
   "outputs": [
    {
     "name": "stdout",
     "output_type": "stream",
     "text": [
      "小作业1： x=[1,2,3,1,[1],[1,1]]，x.count(1)为：2\n",
      "------------------------------------------------------------\n",
      "小作业2： x=[1,2,5,1,“1”，“1”]，x.count(1)为: 2\n",
      "------------------------------------------------------------\n",
      "小作业3：y=[45,67,89,45,34,22,1], y.index(45) = 0\n",
      "------------------------------------------------------------\n",
      "小作业4：list[1] 与 list[2:5]的区别：\n",
      "list[1] is  <class 'int'>\n",
      "list[2:5] is  <class 'list'>\n"
     ]
    }
   ],
   "source": [
    "# 小作业1：x=[1,2,3,1,[1],[1,1]]，请问x.count(1)为多少？\n",
    "x = [1,2,3,1,[1],[1,1]]\n",
    "n = x.count(1)\n",
    "print(\"小作业1： x=[1,2,3,1,[1],[1,1]]，x.count(1)为：%d\" % n)\n",
    "print('--'*30)\n",
    "\n",
    "# 小作业2： x=[1,2,5,1,“1”，“1”]，请问x.count(1)为多少？\n",
    "x = [1,2,5,1,\"1\",\"1\"]\n",
    "n = x.count(1)\n",
    "print(\"小作业2： x=[1,2,5,1,“1”，“1”]，x.count(1)为: %d\" % n)\n",
    "print('--'*30)\n",
    "\n",
    "# 小作业3：y=[45,67,89,45,34,22,1],请问y.index(45)等于多少？\n",
    "y=[45,67,89,45,34,22,1]\n",
    "print(\"小作业3：y=[45,67,89,45,34,22,1], y.index(45) = %d\" % y.index(45))\n",
    "print('--'*30)\n",
    "\n",
    "# 小作业4：创建一个列表，用type函数判断list[1]和list[2:5]的区别\n",
    "lst = [i for i in range(10)]\n",
    "print(\"小作业4：list[1] 与 list[2:5]的区别：\")\n",
    "print(\"list[1] is \", type(lst[1]))\n",
    "print(\"list[2:5] is \", type(lst[2:5]))\n"
   ]
  },
  {
   "cell_type": "code",
   "execution_count": 24,
   "metadata": {},
   "outputs": [
    {
     "data": {
      "text/plain": [
       "'\\n【课程3.3】  列表list常用操作\\n\\n序列是Python中最基本的数据结构，它支持字符，数字，字符串甚至可以包含列表（即嵌套）\\n列表用 [ ] 标识，是 python 最通用的复合数据类型。\\n列表中值的切片也可以用到变量 [头下标:尾下标] ，就可以截取相应的列表，从左到右索引默认 0 开始，从右到左索引默认 -1 开始，下标可以为空表示取到头或尾。\\n加号 + 是列表连接运算符，星号 * 是重复操作\\n\\n'"
      ]
     },
     "execution_count": 24,
     "metadata": {},
     "output_type": "execute_result"
    }
   ],
   "source": [
    "'''\n",
    "【课程3.3】  列表list常用操作\n",
    "\n",
    "序列是Python中最基本的数据结构，它支持字符，数字，字符串甚至可以包含列表（即嵌套）\n",
    "列表用 [ ] 标识，是 python 最通用的复合数据类型。\n",
    "列表中值的切片也可以用到变量 [头下标:尾下标] ，就可以截取相应的列表，从左到右索引默认 0 开始，从右到左索引默认 -1 开始，下标可以为空表示取到头或尾。\n",
    "加号 + 是列表连接运算符，星号 * 是重复操作\n",
    "\n",
    "'''"
   ]
  },
  {
   "cell_type": "code",
   "execution_count": 25,
   "metadata": {},
   "outputs": [
    {
     "name": "stdout",
     "output_type": "stream",
     "text": [
      "143 43 43\n",
      "[1, 2, 3, 1, 2, 3, 1, 2, 3]\n",
      "[10, 101, 102]\n"
     ]
    }
   ],
   "source": [
    "# 列表的特征\n",
    "\n",
    "lst1 = [1,2,3,'a','b','c',[1,2,3]]\n",
    "# 可包含任意类型的对象：数值、字符串、列表等\n",
    "\n",
    "lst2 = [143,56,894,67,43]\n",
    "print(lst2[0],lst2[4],lst2[-1])\n",
    "# 通过下标索引访问序列中的值 → 序列的顺序是不能改变的,通过索引来定位列表的元素\n",
    "\n",
    "lst3 = [1,2,3]\n",
    "lst3 = lst3 * 3\n",
    "print(lst3)\n",
    "# 可随意变换列表长度，相当于随意指定新的列表\n",
    "\n",
    "lst4 = [1,2,['a','b']]\n",
    "# 可嵌套\n",
    "\n",
    "lst5 = [100,101,102]\n",
    "lst5[0] = 10\n",
    "print(lst5)\n",
    "# 可原位改变"
   ]
  },
  {
   "cell_type": "markdown",
   "metadata": {},
   "source": [
    "小作业\n",
    "\n",
    "① [1,2,3]和[“1”, “2”, “3”]什么区别\n",
    "\n",
    "② 创建一个列表，包括3个人的数学成绩100，89,78\n",
    "\n",
    "③ 创建一个列表，包括5个中国城市名称\n",
    "\n",
    "④ 现有一个列表name = ['小明', '小红'] ,增加“团支书”的名字上去\n",
    "\n",
    "⑤ 现有一个列表m=[3.1,5.5,4,3,77,8]，用print分别输出第2、4个元素"
   ]
  },
  {
   "cell_type": "code",
   "execution_count": 37,
   "metadata": {},
   "outputs": [
    {
     "name": "stdout",
     "output_type": "stream",
     "text": [
      "------------------------------------------------------------\n",
      "<class 'list'> <class 'list'>\n",
      "lst1[0] is <class 'int'>, lst2[0] is <class 'str'>\n",
      "------------------------------------------------------------\n",
      "[['stu1', 100], ['stu2', 89], ['stu3', 78]]\n",
      "------------------------------------------------------------\n",
      "['上海', '北京', '广州', '深圳', '长沙']\n",
      "------------------------------------------------------------\n",
      "['小明', '小红', '团支书']\n",
      "------------------------------------------------------------\n",
      "5.5 3\n"
     ]
    }
   ],
   "source": [
    "# ① [1,2,3]和[“1”, “2”, “3”]什么区别\n",
    "print('--'*30)\n",
    "lst1 = [1,2,3]\n",
    "lst2 = [\"1\",\"2\",\"3\"]\n",
    "print(type(lst1),type(lst2))\n",
    "print(\"lst1[0] is %s, lst2[0] is %s\" % (type(lst1[0]),type(lst2[0])))\n",
    "\n",
    "print('--'*30)\n",
    "#② 创建一个列表，包括3个人的数学成绩100，89,78\n",
    "lst = []\n",
    "n = 0\n",
    "score = [100,89,78]\n",
    "\n",
    "for S in score:\n",
    "    n +=1\n",
    "    lst.append(['stu'+str(n),S])\n",
    "print(lst)\n",
    "\n",
    "print('--'*30)\n",
    "#创建一个列表，包括5个中国城市名称\n",
    "city = ['上海', '北京', '广州', '深圳', '长沙']\n",
    "print(city)\n",
    "\n",
    "print('--'*30)\n",
    "#现有一个列表name = ['小明', '小红'] ,增加“团支书”的名字上去\n",
    "name = ['小明', '小红'] \n",
    "name.append('团支书')\n",
    "print(name)\n",
    "\n",
    "print('--'*30)\n",
    "# 现有一个列表m=[3.1,5.5,4,3,77,8]，用print分别输出第2、4个元素\n",
    "m=[3.1,5.5,4,3,77,8]\n",
    "print(m[1],m[3])"
   ]
  },
  {
   "cell_type": "code",
   "execution_count": 38,
   "metadata": {},
   "outputs": [
    {
     "name": "stdout",
     "output_type": "stream",
     "text": [
      "range(0, 5) <class 'range'>\n",
      "[0, 1, 2, 3, 4]\n"
     ]
    }
   ],
   "source": [
    "# 列表与生成器\n",
    "\n",
    "print(range(5),type(range(5)))  \n",
    "# range()是生成器，指向了一个范围\n",
    "# range(5)代表指向了0,1,2,3,4这几个值\n",
    "# range(2,5)代表指向了2,3,4这几个值，注意这里不是使用:\n",
    "# range(0,10,2)代表指向了0,2,4,6,8这几个值，最后的2代表步长\n",
    "\n",
    "lst = list(range(5))\n",
    "print(lst)\n",
    "# 通过list()函数生成列表"
   ]
  },
  {
   "cell_type": "markdown",
   "metadata": {},
   "source": [
    "小作业\n",
    "\n",
    "① range()生成的是不是都是整数?\n",
    "答：是的\n",
    "\n",
    "② 创建一个range，用type()函数查看其类型\n",
    "\n",
    "③ 哪种方式书写正确：x=range(5), x=range(4:7), x=range(4,8)\n",
    "\n",
    "④ 创建一个range，用print输出其值，看一下输出结果\n",
    "\n",
    "⑤ 用list()函数，将一个range范围变为列表\n",
    "\n",
    "⑥ m=range(10),请问m[2],m[-1],m[5]是多少"
   ]
  },
  {
   "cell_type": "code",
   "execution_count": 49,
   "metadata": {},
   "outputs": [
    {
     "name": "stdout",
     "output_type": "stream",
     "text": [
      "------------------------------------------------------------\n",
      "TypeError: 'float' object cannot be interpreted as an integer\n",
      "------------------------------------------------------------\n",
      "<class 'range'>\n",
      "------------------------------------------------------------\n",
      "range(0, 5) range(4, 8)\n",
      "------------------------------------------------------------\n",
      "range(0, 10)\n",
      "------------------------------------------------------------\n",
      "[0, 1, 2, 3, 4, 5, 6, 7, 8, 9]\n",
      "------------------------------------------------------------\n",
      "2 9 5\n"
     ]
    }
   ],
   "source": [
    "# range()生成的是不是都是整数?\n",
    "#lst = [i for i in range(1,2,0.2)] \n",
    "print('--'*30)\n",
    "print(\"TypeError: 'float' object cannot be interpreted as an integer\")\n",
    "\n",
    "print('--'*30)\n",
    "# 创建一个range，用type()函数查看其类型\n",
    "print(type(range(10)))\n",
    "\n",
    "print('--'*30)\n",
    "# ③哪种方式书写正确：x=range(5), x=range(4:7), x=range(4,8)\n",
    "x1=range(5)\n",
    "#x2 = range(4:7) wrong\n",
    "x3 = range(4,8)\n",
    "print(x1,x3)\n",
    "\n",
    "print('--'*30)\n",
    "# ④ 创建一个range，用print输出其值，看一下输出结果\n",
    "n = range(10)\n",
    "print(n)\n",
    "\n",
    "print('--'*30)\n",
    "#用list()函数，将一个range范围变为列表\n",
    "lst= list(n)\n",
    "print(lst)\n",
    "\n",
    "print('--'*30)\n",
    "# m=range(10),请问m[2],m[-1],m[5]是多少\n",
    "m = range(10)\n",
    "print(m[2],m[-1],m[5])\n"
   ]
  },
  {
   "cell_type": "code",
   "execution_count": 52,
   "metadata": {},
   "outputs": [
    {
     "name": "stdout",
     "output_type": "stream",
     "text": [
      "[0, 1, 2, 3, 4, 5, 6, 7, 8, 9, 'hello']\n",
      "[0, 1, 2, 3, 4, 5, 6, 7, 8, 9, 'hello', ['a', 'b', 'c']]\n",
      "[0, 1, 2, 3, 4, 5, 6, 7, 8, 9, 'hello', ['a', 'b', 'c'], 'a', 'b', 'c']\n"
     ]
    }
   ],
   "source": [
    "# 可变列表list常用操作 - 添加元素\n",
    "\n",
    "lst = list(range(10))\n",
    "lst.append('hello')\n",
    "print(lst)\n",
    "# list.append() 添加元素\n",
    "\n",
    "lst.append(['a','b','c'])\n",
    "print(lst)\n",
    "lst.extend(['a','b','c'])\n",
    "print(lst)\n",
    "# 添加多个元素用.extend()方法：用新列表扩展原来的列表，注意和append()方法的区别"
   ]
  },
  {
   "cell_type": "code",
   "execution_count": 53,
   "metadata": {},
   "outputs": [
    {
     "name": "stdout",
     "output_type": "stream",
     "text": [
      "['Jack', 'Tom', 'Tracy', 'Alex', 'White']\n",
      "['Jack', 'Tom', 'Tracy']\n",
      "[]\n"
     ]
    }
   ],
   "source": [
    "# 可变列表list常用操作 - 删除元素\n",
    "\n",
    "lst = ['Jack','Jack','Tom','Tracy','Alex','White']\n",
    "lst.remove('Jack')\n",
    "print(lst)\n",
    "# .remove方法：移除列表中某个值的第一个匹配项\n",
    "\n",
    "del lst[3:5]\n",
    "print(lst)\n",
    "# del语句：删除list的相应索引值\n",
    "\n",
    "lst.clear()\n",
    "print(lst)\n",
    "# 移除所有值"
   ]
  },
  {
   "cell_type": "code",
   "execution_count": 55,
   "metadata": {},
   "outputs": [
    {
     "name": "stdout",
     "output_type": "stream",
     "text": [
      "[0, 1, 2, 3, 4, 5, 6, 7, 8, 9]\n",
      "[0, 1, 2, 'a', 3, 4, 5, 6, 7, 8, 9]\n",
      "[0, 1, 2, 'a', 3, [1, 2, 3], 4, 5, 6, 7, 8, 9]\n"
     ]
    }
   ],
   "source": [
    "# 可变列表list常用操作 - 插入元素\n",
    "\n",
    "lst = list(range(10))\n",
    "print(lst)\n",
    "lst.insert(3,'a')\n",
    "print(lst)\n",
    "# x.insert(i,m)方法：在索引i处插入m，这里索引3代表第四个值\n",
    "\n",
    "lst.insert(5,[1,2,3])\n",
    "print(lst)\n",
    "# 插入一个列表元素"
   ]
  },
  {
   "cell_type": "code",
   "execution_count": 57,
   "metadata": {},
   "outputs": [
    {
     "name": "stdout",
     "output_type": "stream",
     "text": [
      "[0, 1, 'hello', 3, 4, 5, 6, 7, 8, 9] [0, 1, 'hello', 3, 4, 5, 6, 7, 8, 9]\n",
      "[0, 1, 2, 3, 4, 5, 6, 7, 8, 9] [0, 1, 'hello', 3, 4, 5, 6, 7, 8, 9]\n"
     ]
    }
   ],
   "source": [
    "# 可变列表list常用操作 - 复制\n",
    "\n",
    "lst = list(range(10))\n",
    "lst1 = lst\n",
    "lst1[2] = 'hello'\n",
    "print(lst,lst1)\n",
    "# lst，lst1指向同一个列表\n",
    "\n",
    "lst = list(range(10))\n",
    "lst2 = lst.copy()\n",
    "lst2[2] = 'hello'\n",
    "print(lst,lst2)\n",
    "# list.copy()方法：复制一个新的列表，lst，lst2指向两个列表（虽然两个列表值相同）"
   ]
  },
  {
   "cell_type": "code",
   "execution_count": 59,
   "metadata": {},
   "outputs": [
    {
     "name": "stdout",
     "output_type": "stream",
     "text": [
      "[3, 12, 32, 45, 45, 66, 98] ['asd', 'cxv', 'ghv']\n",
      "[98, 66, 45, 45, 32, 12, 3] ['ghv', 'cxv', 'asd']\n",
      "[98, 66, 45, 45, 32, 12, 3] [3, 12, 32, 45, 45, 66, 98, 'hello']\n"
     ]
    }
   ],
   "source": [
    "# 可变列表list常用操作 - 排序\n",
    "\n",
    "lst1 = [12,45,32,98,45,66,3]\n",
    "lst2 = [\"asd\", \"cxv\", \"ghv\"]\n",
    "lst1.sort()\n",
    "lst2.sort()\n",
    "print(lst1,lst2)\n",
    "# 默认升序排序/字母顺序\n",
    "\n",
    "lst1.sort(reverse=True)\n",
    "lst2.sort(reverse=True)\n",
    "print(lst1,lst2)\n",
    "# 参数reverse：反向排序，针对数字\n",
    "\n",
    "lst3 = sorted(lst1)\n",
    "lst3.append('hello')\n",
    "print(lst1,lst3)\n",
    "# 函数sorted():排序并复制"
   ]
  },
  {
   "cell_type": "code",
   "execution_count": 61,
   "metadata": {},
   "outputs": [
    {
     "name": "stdout",
     "output_type": "stream",
     "text": [
      "1997 ('a', 'b')\n",
      "4\n",
      "('physics', 'chemistry', 1997, 2000, 1, 2, 3, 4, 5)\n",
      "(50, 50, 50)\n",
      "5 1\n",
      "(0, 1, 2, 3, 4, 5, 6, 7, 8, 9)\n"
     ]
    }
   ],
   "source": [
    "# 讲一讲元祖tuple ：不可变的“列表”\n",
    "\n",
    "tup1 = ('physics', 'chemistry', 1997, 2000);\n",
    "tup2 = (1, 2, 3, 4, 5 );\n",
    "tup3 = \"a\", \"b\", \"c\", \"d\"  # 可以不加括号\n",
    "tup4 = (50,)  # 元组中只包含一个元素时，需要在元素后面添加逗号\n",
    "\n",
    "print(tup1[2],tup3[:2])  # 索引、切片和list一样\n",
    "\n",
    "del tup3 # 元祖不能单独删除内部元素（不可变性），但可以del语句来删除整个元祖\n",
    "#print(tup3)\n",
    "\n",
    "print(len(tup1))\n",
    "print(tup1 + tup2)\n",
    "print(tup4 * 3)\n",
    "print(max(tup2),min(tup2))\n",
    "# 序列通用函数\n",
    "\n",
    "lst = list(range(10))\n",
    "tup5 = tuple(lst)\n",
    "print(tup5)\n",
    "# tuple()函数：将列表转换为元组"
   ]
  },
  {
   "cell_type": "markdown",
   "metadata": {},
   "source": [
    "小作业\n",
    "\n",
    "① 分别用append、extend方法，给一个序列增加一个元素1\n",
    "\n",
    "② x.append([1,2,3])和x.extend([1,2,3])的区别\n",
    "\n",
    "③ x.append('abc')和x.extend('abc')的区别\n",
    "\n",
    "④ 创建某一列表，在列表中间插入一个值\n",
    "\n",
    "⑤ 创建一个随机数值列表，按照降序排列\n",
    "\n",
    "⑥ sort()和sorted()什么区别\n",
    "\n",
    "⑦ s=[32,45,63,12,45,89,77], s.remove(45),  del s[2], s.pop(4)分别什么区别\n",
    "\n",
    "⑧ m=[4,5,6,73,4,4,4,4,2]，删除2，删除所有的4"
   ]
  },
  {
   "cell_type": "code",
   "execution_count": 97,
   "metadata": {},
   "outputs": [
    {
     "name": "stdout",
     "output_type": "stream",
     "text": [
      "--------------------------------------------------------------------------------\n",
      "1. 分别用append、extend方法，给一个序列增加一个元素1\n",
      "[1, 2, 3, [1], 1]\n",
      "--------------------------------------------------------------------------------\n",
      "2. x.append([1,2,3])和x.extend([1,2,3])的区别\n",
      "x.append([1,2,3]) 只能一次添加一个对象 [1, 2, 3, [1], 1, [1, 2, 3]]\n",
      "x.extend([1,2,3]为一次添加多个元素的操作 [1, 2, 3, [1], 1, [1, 2, 3], 1, 2, 3]\n",
      "--------------------------------------------------------------------------------\n",
      "3. x.append('abc')和x.extend('abc')的区别\n",
      "[1, 2, 'abc']\n",
      "[1, 2, 'abc', 'a', 'b', 'c']\n",
      "--------------------------------------------------------------------------------\n",
      "4. 创建某一列表，在列表中间插入一个值\n",
      "[5, 7, 9, 11, 13, 15, 17, 19, 21, 23, 25, 27, 29, 31, 33, 35, 37, 39, 41, 43, 45, 'median', 47, 49, 51, 53, 55, 57, 59, 61, 63, 65, 67, 69, 71, 73, 75, 77, 79, 81, 83, 85, 87, 89]\n",
      "--------------------------------------------------------------------------------\n",
      "5. 创建一个随机数值列表，按照降序排列\n",
      "随机序列： [76, 20, 50, 12, 73, 4, 99, 3, 13, 60]\n",
      "降序排列 [99, 76, 73, 60, 50, 20, 13, 12, 4, 3]\n",
      "--------------------------------------------------------------------------------\n",
      "6. sort()和sorted()什么区别\n",
      "sort()仅仅只是排序，不会给与返回值，而sorted带有排序和拷贝功能，该函数有返回值\n",
      "sort(): None\n",
      "sorted(): [3, 4, 12, 13, 20, 50, 60, 73, 76, 99]\n",
      "--------------------------------------------------------------------------------\n",
      "7. s=[32,45,63,12,45,89,77], s.remove(45),  del s[2], s.pop(4)分别什么区别\n",
      "初始序列 [32, 45, 63, 12, 45, 89, 77]\n",
      "s.remove(45)后: [32, 63, 12, 45, 89, 77]\n",
      "del s[2]后: [32, 63, 45, 89, 77]\n",
      "s.pop(4): [32, 63, 45, 89]\n",
      "--------------------------------------------------------------------------------\n",
      "8. m=[4,5,6,73,4,4,4,4,2]，删除2，删除所有的4\n",
      "[5, 6, 73]\n"
     ]
    }
   ],
   "source": [
    "#作业\n",
    "print('--'*40)\n",
    "print(\"1. 分别用append、extend方法，给一个序列增加一个元素1\")\n",
    "lst = [i for i in range(1,4)]\n",
    "lst.append([1])\n",
    "lst.extend([1])\n",
    "print(lst)\n",
    "\n",
    "print('--'*40)\n",
    "print(\"2. x.append([1,2,3])和x.extend([1,2,3])的区别\")\n",
    "lst.append([1,2 ,3])\n",
    "print('x.append([1,2,3]) 只能一次添加一个对象',lst )\n",
    "lst.extend([1,2 ,3])\n",
    "print(\"x.extend([1,2,3]为一次添加多个元素的操作\", lst)\n",
    "\n",
    "print('--'*40)\n",
    "print(\"3. x.append('abc')和x.extend('abc')的区别\")\n",
    "x = [1,2]\n",
    "x.append('abc')\n",
    "print(x)\n",
    "x.extend('abc')\n",
    "print(x)\n",
    "\n",
    "print('--'*40)\n",
    "print(\"4. 创建某一列表，在列表中间插入一个值\")\n",
    "lst = [i for i in range(5,90,2)]\n",
    "l = len(lst)\n",
    "lst.insert(l//2,'median')\n",
    "print(lst)\n",
    "\n",
    "print('--'*40)\n",
    "print(\"5. 创建一个随机数值列表，按照降序排列\")\n",
    "import random\n",
    "lst = random.sample(list(range(100)),10)\n",
    "print(\"随机序列：\", lst)\n",
    "lst.sort(reverse=True)\n",
    "print(\"降序排列\", lst)\n",
    "\n",
    "print('--'*40)\n",
    "print(\"6. sort()和sorted()什么区别\")\n",
    "print(\"sort()仅仅只是排序，不会给与返回值，而sorted带有排序和拷贝功能，该函数有返回值\")\n",
    "print(\"sort():\", lst.sort())\n",
    "print('sorted():', sorted(lst))\n",
    "\n",
    "print('--'*40)\n",
    "print(\"7. s=[32,45,63,12,45,89,77], s.remove(45),  del s[2], s.pop(4)分别什么区别\")\n",
    "\n",
    "s=[32,45,63,12,45,89,77]\n",
    "print('初始序列', s)\n",
    "s.remove(45)   #删除第一个值为45的元素\n",
    "print('s.remove(45)后:', s)\n",
    "del s[2]       #删除索引为2 的元素\n",
    "print('del s[2]后:', s)\n",
    "s.pop(4)       #删除索引为 4 的元素\n",
    "print('s.pop(4):', s)\n",
    "\n",
    "print('--'*40)\n",
    "print('8. m=[4,5,6,73,4,4,4,4,2]，删除2，删除所有的4')\n",
    "m=[4,5,6,73,4,4,4,4,2]\n",
    "m.remove(2)\n",
    "i = 0\n",
    "#此处容易出错，因为连续删除元素时，数组的长度，和剩余元素的所以都将变动\n",
    "while i < len(m):\n",
    "    if m[i] == 4:\n",
    "        del m[i]\n",
    "        i -=1\n",
    "    i += 1  \n",
    "print(m)"
   ]
  },
  {
   "cell_type": "code",
   "execution_count": null,
   "metadata": {},
   "outputs": [],
   "source": [
    "'''\n",
    "【课程3.4】  文本序列str常用操作\n",
    "\n",
    "字符串是 Python 中最常用的数据类型。我们可以使用引号('或\")来创建字符串\n",
    "字符串也是序列：文本序列\n",
    "\n",
    "'''"
   ]
  },
  {
   "cell_type": "code",
   "execution_count": 98,
   "metadata": {},
   "outputs": [],
   "source": [
    "# 字符串引号\n",
    "\n",
    "str1 = \"abc\"\n",
    "str2 = 'abc'\n",
    "str3 = 'my name is \"fatbird\"'\n",
    "# 双引号单引号无区别，但文本中有引号的时候要相互交替使用\n",
    "\n",
    "str4 = '''hello! how are you?\n",
    "          I`m fine, thank you.'''\n",
    "# 需要多行字符串时候用三引号 ''' ''',\"\"\" \"\"\""
   ]
  },
  {
   "cell_type": "code",
   "execution_count": 99,
   "metadata": {},
   "outputs": [
    {
     "name": "stdout",
     "output_type": "stream",
     "text": [
      "' \"\n",
      "hello\n",
      "how do you do?\n",
      "\\\n"
     ]
    }
   ],
   "source": [
    "# 转义字符：\\\n",
    "\n",
    "print('\\'', '\\\"')  # \\',\\\" ：分别输出单引号，双引号\n",
    "print('hello\\nhow do you do?')  # \\n：空行\n",
    "print('\\\\')  # 输出\\，所以文件路径用“/”或者“\\\\”"
   ]
  },
  {
   "cell_type": "code",
   "execution_count": null,
   "metadata": {},
   "outputs": [],
   "source": []
  },
  {
   "cell_type": "code",
   "execution_count": null,
   "metadata": {},
   "outputs": [],
   "source": []
  }
 ],
 "metadata": {
  "kernelspec": {
   "display_name": "Python 3",
   "language": "python",
   "name": "python3"
  },
  "language_info": {
   "codemirror_mode": {
    "name": "ipython",
    "version": 3
   },
   "file_extension": ".py",
   "mimetype": "text/x-python",
   "name": "python",
   "nbconvert_exporter": "python",
   "pygments_lexer": "ipython3",
   "version": "3.6.4"
  }
 },
 "nbformat": 4,
 "nbformat_minor": 2
}
