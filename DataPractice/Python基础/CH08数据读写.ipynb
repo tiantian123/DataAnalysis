{
 "cells": [
  {
   "cell_type": "code",
   "execution_count": 1,
   "metadata": {},
   "outputs": [
    {
     "data": {
      "text/plain": [
       "'\\n【课程8.1】  文件对象声明及基本操作\\n\\n另一种数据格式：文件/文档\\n\\n'"
      ]
     },
     "execution_count": 1,
     "metadata": {},
     "output_type": "execute_result"
    }
   ],
   "source": [
    "'''\n",
    "【课程8.1】  文件对象声明及基本操作\n",
    "\n",
    "另一种数据格式：文件/文档\n",
    "\n",
    "'''"
   ]
  },
  {
   "cell_type": "code",
   "execution_count": 2,
   "metadata": {},
   "outputs": [
    {
     "name": "stdout",
     "output_type": "stream",
     "text": [
      "C:/Users/Hjx/Desktop/text.txt\n",
      "C:\\Users\\Hjx\\Desktop\\text.txt\n",
      "C:\\Users\\Hjx\\Desktop\\text.txt\n"
     ]
    }
   ],
   "source": [
    "# 本地文件的界定：指向一个本地存储的文件，是一个链接或者一个映射\n",
    "\n",
    "path1 = 'C:/Users/Hjx/Desktop/text.txt'  # 单个反斜杠：/\n",
    "path2 = 'C:\\\\Users\\\\Hjx\\\\Desktop\\\\text.txt'  # 两个斜杠：\\\\（第一个\\是转义符）\n",
    "path3 = r'C:\\Users\\Hjx\\Desktop\\text.txt'  # r用于防止字符转义\n",
    "# 路径书写格式\n",
    "print(path1)\n",
    "print(path2)\n",
    "print(path3)"
   ]
  },
  {
   "cell_type": "code",
   "execution_count": null,
   "metadata": {},
   "outputs": [],
   "source": [
    "# 读取文件：open语句\n",
    "\n",
    "f = open(path2, 'r')\n",
    "print(type(f))\n",
    "print(f)\n",
    "print(f.read())\n",
    "print('读取完毕')\n",
    "# open('路径', '模式', enconding = '编码' )\n",
    "# 模式：r：读取文件，默认；w：写入；rw：读取+写入；a：追加\n",
    "# 简答的读取方法：.read() → 读取后，光标将会留在读取末尾\n",
    "\n",
    "print(f.read()) \n",
    "print('读取为空')\n",
    "# 运行第一次.read()之后，光标位于末尾，再次读取输出为空\n",
    "\n",
    "f.seek(0)\n",
    "print(f.read()) \n",
    "print('第二次读取')\n",
    "# 所以现在用 f.seek(0) 来移动光标\n",
    "\n",
    "f.close()\n",
    "# print(f.read())   # 关闭后无法读取\n",
    "# 关闭文件链接  f.close()，养成一个好习惯"
   ]
  },
  {
   "cell_type": "code",
   "execution_count": 3,
   "metadata": {},
   "outputs": [
    {
     "data": {
      "text/plain": [
       "'\\n【课程8.2】  系统模块下的路径操作\\n\\nos 模块：提供了非常丰富的方法用来处理文件和目录\\n\\n'"
      ]
     },
     "execution_count": 3,
     "metadata": {},
     "output_type": "execute_result"
    }
   ],
   "source": [
    "'''\n",
    "【课程8.2】  系统模块下的路径操作\n",
    "\n",
    "os 模块：提供了非常丰富的方法用来处理文件和目录\n",
    "\n",
    "'''"
   ]
  },
  {
   "cell_type": "code",
   "execution_count": 4,
   "metadata": {},
   "outputs": [
    {
     "name": "stdout",
     "output_type": "stream",
     "text": [
      "nt\n",
      "D:\\python_note\\DataPractice\\Python基础\n",
      "['.ipynb_checkpoints', 'CH02变量和数据类型.ipynb', 'CH03序列及通用操作.ipynb', 'CH04字典映射.ipynb', 'CH05条件及循环语句.ipynb', 'CH06函数.ipynb', 'CH07模块与包.ipynb', 'CH08数据读写.ipynb']\n",
      "('C:\\\\Users\\\\Hjx\\\\Desktop', 'text.txt')\n",
      "False\n",
      "False\n"
     ]
    }
   ],
   "source": [
    "# os模块：系统模块 - 常用命令\n",
    "\n",
    "import os  # 导入模块\n",
    "\n",
    "print(os.name)  # 输出字符串指示正在使用的平台。如果是window 则用'nt'表示，对Linux/Unix用户，它是'posix'。\n",
    "\n",
    "print(os.getcwd())  # 函数得到当前工作目录，即当前Python脚本工作的目录路径。\n",
    "\n",
    "print(os.listdir())  # 返回指定目录下的所有文件和目录名。\n",
    "\n",
    "#os.chdir('C:\\\\Users\\\\Hjx\\\\Desktop\\\\' )  # 切换到目标路径\n",
    "#print(os.getcwd()) \n",
    "\n",
    "#os.remove('text2.txt')  # 删除一个文件\n",
    "\n",
    "print(os.path.split('C:\\\\Users\\\\Hjx\\\\Desktop\\\\text.txt'))  # 函数返回一个路径的目录名和文件名\n",
    "\n",
    "print(os.path.exists('C:\\\\Users\\\\Hjx\\\\Desktop\\\\heheh.txt'))\n",
    "print(os.path.exists('C:\\\\Users\\\\Hjx\\\\Desktop\\\\'))\n",
    "# 用来检验给出的路径是否真地存在，这里不存在改文件故False，但路径存在故True"
   ]
  },
  {
   "cell_type": "code",
   "execution_count": null,
   "metadata": {},
   "outputs": [],
   "source": [
    "# 相对路径和绝对路径\n",
    "\n",
    "os.chdir('C:\\\\Users\\\\Hjx\\\\Desktop\\\\' )\n",
    "f2 = open('text.txt','r')\n",
    "print(f2.read())\n",
    "# 在申明了目录之后，就可以直接输出文件名了 → 相对路径"
   ]
  },
  {
   "cell_type": "code",
   "execution_count": 5,
   "metadata": {},
   "outputs": [
    {
     "data": {
      "text/plain": [
       "'\\n【课程8.3】  文件的读取与写入\\n\\nos 模块：提供了非常丰富的方法用来处理文件和目录\\n\\n'"
      ]
     },
     "execution_count": 5,
     "metadata": {},
     "output_type": "execute_result"
    }
   ],
   "source": [
    "'''\n",
    "【课程8.3】  文件的读取与写入\n",
    "\n",
    "os 模块：提供了非常丰富的方法用来处理文件和目录\n",
    "\n",
    "'''"
   ]
  },
  {
   "cell_type": "code",
   "execution_count": 6,
   "metadata": {},
   "outputs": [
    {
     "name": "stdout",
     "output_type": "stream",
     "text": [
      "secure.completegenomics.com\n",
      "vpn.genomics.cn\n",
      "\n",
      " perl /ldfssz1/MGI_ALGORITHM/assembly/tangjb/BIN/short_read_simulator/Get_Seq_region.pl\n"
     ]
    }
   ],
   "source": [
    "# 文件读取 - read\n",
    "\n",
    "f = open(r'C:\\Users\\22943\\Desktop\\address.txt', 'r')\n",
    "print(f.read())\n",
    "# 直接读取（这里光标默认会在最末尾）"
   ]
  },
  {
   "cell_type": "code",
   "execution_count": 7,
   "metadata": {},
   "outputs": [
    {
     "name": "stdout",
     "output_type": "stream",
     "text": [
      "se\n"
     ]
    }
   ],
   "source": [
    "f.seek(0)\n",
    "print(f.read(2))\n",
    "# f.read(n):n代表读取多少个字符"
   ]
  },
  {
   "cell_type": "code",
   "execution_count": 9,
   "metadata": {},
   "outputs": [
    {
     "name": "stdout",
     "output_type": "stream",
     "text": [
      "secure.completegenomics.com\n",
      "\n",
      "vpn.\n"
     ]
    }
   ],
   "source": [
    "f.seek(0)\n",
    "print(f.readline())\n",
    "#print(f.readline())\n",
    "print(f.readline(4))\n",
    "# 读取行到字符串，一次性读取一行\n",
    "# f.readline(n)：读取该行的前n个字符"
   ]
  },
  {
   "cell_type": "code",
   "execution_count": 10,
   "metadata": {},
   "outputs": [
    {
     "name": "stdout",
     "output_type": "stream",
     "text": [
      "<class 'str'> secure.completegenomics.com\n",
      "\n",
      "<class 'str'> vpn.genomics.cn\n",
      "\n",
      "<class 'str'> \n",
      "\n",
      "<class 'str'>  perl /ldfssz1/MGI_ALGORITHM/assembly/tangjb/BIN/short_read_simulator/Get_Seq_region.pl\n"
     ]
    }
   ],
   "source": [
    "f.seek(0)\n",
    "for line in f.readlines():\n",
    "    print(type(line),line)\n",
    "# 遍历一个文件：for语句+f.readlines()"
   ]
  },
  {
   "cell_type": "markdown",
   "metadata": {},
   "source": [
    "小作业\n",
    "\n",
    "利用百度POI小插件爬取一些poi数据，然后存成txt，再用python读取，编写成一个json形式（列表字典）：\n",
    "\n",
    "[{'name':'...', 'lng':..., 'lat':..., 'address':'...'},{...},...,]"
   ]
  },
  {
   "cell_type": "code",
   "execution_count": null,
   "metadata": {},
   "outputs": [],
   "source": [
    "path =  'C:\\\\Users\\\\Hjx\\\\Desktop\\\\' \n",
    "f = open(path + 'test_write2.txt', 'w', encoding = 'utf8')\n",
    "lst = ['a','b','c','d','e']\n",
    "f.writelines(lst)\n",
    "f.close()\n",
    "# f.writelines(list)：依次把列表元素写入，但这里有没有提行？\n",
    "# 如果想每一个元素提行怎么办？ → 每个元素后都有\"\\n\""
   ]
  },
  {
   "cell_type": "code",
   "execution_count": null,
   "metadata": {},
   "outputs": [],
   "source": [
    "path =  'C:\\\\Users\\\\Hjx\\\\Desktop\\\\' \n",
    "f = open(path + 'test_write2.txt', 'w', encoding = 'utf8')\n",
    "lst = ['a','b','c','d','e']\n",
    "\n",
    "for i in range(len(lst)):\n",
    "    lst[i] = lst[i] + '\\n'\n",
    "    \n",
    "f.writelines(lst)\n",
    "f.close()\n",
    "# 通过遍历给每个元素最后加上\"\\n\""
   ]
  },
  {
   "cell_type": "markdown",
   "metadata": {},
   "source": [
    "小作业\n",
    "\n",
    "两个列表[1~10],[a~j]，写入一个txt，变成以下格式\n",
    "\n",
    "1,a\n",
    "\n",
    "2,b\n",
    "\n",
    "3,c\n",
    "\n",
    "..."
   ]
  },
  {
   "cell_type": "code",
   "execution_count": null,
   "metadata": {},
   "outputs": [],
   "source": [
    "# 答案代码\n",
    "\n",
    "n = list(range(1,11))\n",
    "v = ['a','b','c','d','e','f','g','h','i','j']\n",
    "\n",
    "f = open( 'C:\\\\Users\\\\Hjx\\\\Desktop\\\\test_write3.txt', 'w', encoding = 'utf8')\n",
    "m = []\n",
    "\n",
    "for i in range(len(n)):\n",
    "    f.writelines([str(n[i]),',',v[i] + '\\n'])\n",
    "\n",
    "f.close()\n",
    "print('finished!')"
   ]
  },
  {
   "cell_type": "code",
   "execution_count": 11,
   "metadata": {},
   "outputs": [
    {
     "data": {
      "text/plain": [
       "'\\n【课程8.4】  pickle模块的运用\\n\\npickle提供了一个简单的持久化功能。可以将对象以文件的形式存放在磁盘上。\\n\\npython的pickle模块实现了基本的数据序列和反序列化\\n\\n通过pickle模块的序列化操作我们能够将程序中运行的对象信息保存到文件中去，永久存储\\n\\n通过pickle模块的反序列化操作，我们能够从文件中创建上一次程序保存的对象。\\n\\npickle.dump() / pickle.load()\\n\\n'"
      ]
     },
     "execution_count": 11,
     "metadata": {},
     "output_type": "execute_result"
    }
   ],
   "source": [
    "'''\n",
    "【课程8.4】  pickle模块的运用\n",
    "\n",
    "pickle提供了一个简单的持久化功能。可以将对象以文件的形式存放在磁盘上。\n",
    "\n",
    "python的pickle模块实现了基本的数据序列和反序列化\n",
    "\n",
    "通过pickle模块的序列化操作我们能够将程序中运行的对象信息保存到文件中去，永久存储\n",
    "\n",
    "通过pickle模块的反序列化操作，我们能够从文件中创建上一次程序保存的对象。\n",
    "\n",
    "pickle.dump() / pickle.load()\n",
    "\n",
    "'''"
   ]
  },
  {
   "cell_type": "code",
   "execution_count": 14,
   "metadata": {},
   "outputs": [
    {
     "name": "stdout",
     "output_type": "stream",
     "text": [
      "{'a': [1, 2, 3, 4], 'b': ('string', 'abc'), 'c': 'hello'}\n"
     ]
    }
   ],
   "source": [
    "# 存储：pickle.dump(obj, file, [,protocol])\n",
    "\n",
    "import pickle\n",
    "\n",
    "data = {'a':[1,2,3,4], 'b':('string','abc'), 'c':'hello'}\n",
    "print(data)\n",
    "# 创建一个字典变量data\n",
    "\n",
    "pic = open(r'C:\\Users\\22943\\Desktop\\address2.txt', 'wb')\n",
    "# 以二进制来存储：rb, wb, wrb, ab\n",
    "\n",
    "pickle.dump(data,pic)\n",
    "pic.close()\n",
    "# 将一个字典数据存成了pkl文件"
   ]
  },
  {
   "cell_type": "code",
   "execution_count": null,
   "metadata": {},
   "outputs": [],
   "source": []
  },
  {
   "cell_type": "code",
   "execution_count": null,
   "metadata": {},
   "outputs": [],
   "source": [
    "# 读取：pickle.load(file)\n",
    "\n",
    "f = open( 'C:\\\\Users\\\\Hjx\\\\Desktop\\\\data.pkl', 'rb')\n",
    "\n",
    "st = pickle.load(f)\n",
    "print(st)\n",
    "# 直接读取pkl文件内的数据，该数据为一个字典"
   ]
  }
 ],
 "metadata": {
  "kernelspec": {
   "display_name": "Python 3",
   "language": "python",
   "name": "python3"
  },
  "language_info": {
   "codemirror_mode": {
    "name": "ipython",
    "version": 3
   },
   "file_extension": ".py",
   "mimetype": "text/x-python",
   "name": "python",
   "nbconvert_exporter": "python",
   "pygments_lexer": "ipython3",
   "version": "3.6.4"
  }
 },
 "nbformat": 4,
 "nbformat_minor": 2
}
