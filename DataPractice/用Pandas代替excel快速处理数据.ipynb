{
 "cells": [
  {
   "cell_type": "markdown",
   "metadata": {},
   "source": [
    "### 1、如何用python快速处理数据\n",
    "- Python处理数据利器——Pandas\n",
    "- 数据一般格式：csv/xlsx\n",
    "- 如何用pandas读取数据\n",
    "- 案例：用pandas处理商铺数据"
   ]
  },
  {
   "cell_type": "markdown",
   "metadata": {},
   "source": [
    "1) 老方法：列表+字典"
   ]
  },
  {
   "cell_type": "code",
   "execution_count": 7,
   "metadata": {},
   "outputs": [
    {
     "name": "stdout",
     "output_type": "stream",
     "text": [
      "['\\ufeffclassify', 'name', 'comment', 'star', 'price', 'address', 'commentlist\\n']\n",
      "['美食', '望蓉城老坛酸菜鱼(合生汇店)', '我要点评', '该商户暂无星级', '人均                                        ￥125', '翔殷路1099号合生汇5F', '口味8.3                                环境8.4                                服务8.5\\n']\n",
      "['美食', '泰国街边料理', '74                    条点评', '准四星商户', '人均                                        ￥48', '黄兴路合生汇B2美食集市内', '口味7.4                                环境7.6                                服务7.4\\n']\n",
      "['美食', '壹面如故(苏宁生活广场店)', '265                    条点评', '准四星商户', '人均                                        ￥21', '邯郸路585号苏宁生活广场B1层', '口味7.0                                环境7.2                                服务7.2\\n']\n",
      "['美食', '鮨谷•Aburiya(合生汇店)', '2748                    条点评', '准五星商户', '人均                                        ￥142', '翔殷路1099号合生广场5楼23、28铺位', '口味8.9                                环境8.5                                服务8.4\\n']\n"
     ]
    }
   ],
   "source": [
    "# 数据读取\n",
    "f = open('D:\\BaiduNetdiskDownload\\资料01_商铺数据.csv','r',encoding='utf-8')\n",
    "for i in f.readlines()[:5]:\n",
    "    print(i.split(','))\n",
    "    # 查看数据"
   ]
  },
  {
   "cell_type": "code",
   "execution_count": 18,
   "metadata": {},
   "outputs": [],
   "source": [
    "# 清洗数据\n",
    "# 创建comment、price、commentlist清晰函数\n",
    "# 函数式编程\n",
    "def fcm(s):\n",
    "    if '条' in s:\n",
    "        return int(s.split(' ')[0])\n",
    "    else:\n",
    "        return '缺失数据'\n",
    "# comment清洗函数：用空格分段，选取结果list的第一个为点评数，并且转化为类型\n",
    "\n",
    "def fpr(s):\n",
    "    if '￥' in s:\n",
    "        return float(s.split('￥')[-1])\n",
    "    else:\n",
    "        return '缺失数据'\n",
    "# price清洗函数：用“￥”分段，选取结果list最后一个为人均价格，并且转化为浮点型\n",
    "\n",
    "def fcl(s):\n",
    "    if ' ' in s:\n",
    "        quality = float(s.split('                               ')[0][2:])\n",
    "        environment = float(s.split('                                ')[1][2:])\n",
    "        service = float(s.split('                                ')[2][2:])\n",
    "        return [quality,environment,service]\n",
    "    else:\n",
    "        return '缺失数据'\n",
    "# commentlist清洗函数：用空格分段，分别清洗出质量、环境、服务数据，并转化为浮点型\n"
   ]
  },
  {
   "cell_type": "code",
   "execution_count": 19,
   "metadata": {},
   "outputs": [
    {
     "name": "stdout",
     "output_type": "stream",
     "text": [
      "成功加载1条数据\n",
      "成功加载2条数据\n",
      "成功加载3条数据\n",
      "成功加载4条数据\n",
      "成功加载5条数据\n",
      "成功加载6条数据\n",
      "成功加载7条数据\n",
      "[{'classify': '美食', 'name': '泰国街边料理', 'comment_count': 74, 'star': '准四星商户', 'price': 48.0, 'address': '黄兴路合生汇B2美食集市内', 'quality': 7.4, 'environment': 7.6, 'service': 7.4}, {'classify': '美食', 'name': '壹面如故(苏宁生活广场店)', 'comment_count': 265, 'star': '准四星商户', 'price': 21.0, 'address': '邯郸路585号苏宁生活广场B1层', 'quality': 7.0, 'environment': 7.2, 'service': 7.2}, {'classify': '美食', 'name': '鮨谷•Aburiya(合生汇店)', 'comment_count': 2748, 'star': '准五星商户', 'price': 142.0, 'address': '翔殷路1099号合生广场5楼23、28铺位', 'quality': 8.9, 'environment': 8.5, 'service': 8.4}, {'classify': '美食', 'name': '麦当劳(万达店)', 'comment_count': 785, 'star': '准四星商户', 'price': 24.0, 'address': '邯郸路600号万达商业广场B1楼A05号铺', 'quality': 7.4, 'environment': 7.2, 'service': 7.2}, {'classify': '美食', 'name': '蒸年青STEAMYOUNG(百联又一城购物中心店)', 'comment_count': 3779, 'star': '准五星商户', 'price': 70.0, 'address': '淞沪路8号百联又一城购物中心7层', 'quality': 8.6, 'environment': 8.6, 'service': 8.6}, {'classify': '美食', 'name': '丸来玩趣(百联又一城购物中心店)', 'comment_count': 458, 'star': '准四星商户', 'price': 14.0, 'address': '淞沪路8号百联又一城购物中心B1层', 'quality': 7.0, 'environment': 6.5, 'service': 6.5}, {'classify': '美食', 'name': '韩国雪冰(合生汇店)', 'comment_count': 1280, 'star': '四星商户', 'price': 47.0, 'address': '翔殷路1099号合生汇4F', 'quality': 7.7, 'environment': 7.5, 'service': 7.6}]\n",
      "总共加载7条数据\n"
     ]
    }
   ],
   "source": [
    "# 数据清洗\n",
    "datalst = []\n",
    "\n",
    "f.seek(0) #将读文件的指针调到文件开头\n",
    "n = 0 # 创建计数变量\n",
    "for i in f.readlines()[1:10]:\n",
    "    data = i.split(',')\n",
    "    #print(data)\n",
    "    classify = data[0]\n",
    "    name = data[1]\n",
    "    comment_count = fcm(data[2])\n",
    "    star = data[3]\n",
    "    price = fpr(data[4])\n",
    "    addr = data[5]\n",
    "    qua,env,ser = fcl(data[6])\n",
    "    if '缺失数据' not in [comment_count, price, qua]:\n",
    "        n += 1\n",
    "        data_re = [['classify',classify],\n",
    "                  ['name',name],\n",
    "                  ['comment_count',comment_count],\n",
    "                  ['star',star],\n",
    "                  ['price',price],\n",
    "                  ['address',addr],\n",
    "                  ['quality',qua],\n",
    "                  ['environment',env],\n",
    "                  ['service',ser]]\n",
    "        datalst.append(dict(data_re)) # 生成字典，并存入列表datalst\n",
    "        print('成功加载%i条数据' % n)\n",
    "    else:\n",
    "        continue\n",
    "print(datalst)\n",
    "print('总共加载%i条数据' % n)"
   ]
  },
  {
   "cell_type": "markdown",
   "metadata": {},
   "source": [
    "2) 新方法：用Pandas处理"
   ]
  },
  {
   "cell_type": "code",
   "execution_count": 26,
   "metadata": {},
   "outputs": [
    {
     "name": "stdout",
     "output_type": "stream",
     "text": [
      "成功导入模块\n"
     ]
    }
   ],
   "source": [
    "import pandas as pd\n",
    "# 导入pandas模块\n",
    "import warnings\n",
    "warnings.filterwarnings('ignore')\n",
    "# 不发出警告\n",
    "print('成功导入模块')"
   ]
  },
  {
   "cell_type": "code",
   "execution_count": 32,
   "metadata": {},
   "outputs": [
    {
     "name": "stdout",
     "output_type": "stream",
     "text": [
      "<class 'pandas.core.frame.DataFrame'> object\n"
     ]
    },
    {
     "data": {
      "text/html": [
       "<div>\n",
       "<style scoped>\n",
       "    .dataframe tbody tr th:only-of-type {\n",
       "        vertical-align: middle;\n",
       "    }\n",
       "\n",
       "    .dataframe tbody tr th {\n",
       "        vertical-align: top;\n",
       "    }\n",
       "\n",
       "    .dataframe thead th {\n",
       "        text-align: right;\n",
       "    }\n",
       "</style>\n",
       "<table border=\"1\" class=\"dataframe\">\n",
       "  <thead>\n",
       "    <tr style=\"text-align: right;\">\n",
       "      <th></th>\n",
       "      <th>classify</th>\n",
       "      <th>name</th>\n",
       "      <th>comment</th>\n",
       "      <th>star</th>\n",
       "      <th>price</th>\n",
       "      <th>address</th>\n",
       "      <th>commentlist</th>\n",
       "    </tr>\n",
       "  </thead>\n",
       "  <tbody>\n",
       "    <tr>\n",
       "      <th>0</th>\n",
       "      <td>美食</td>\n",
       "      <td>望蓉城老坛酸菜鱼(合生汇店)</td>\n",
       "      <td>我要点评</td>\n",
       "      <td>该商户暂无星级</td>\n",
       "      <td>人均                                        ￥125</td>\n",
       "      <td>翔殷路1099号合生汇5F</td>\n",
       "      <td>口味8.3                                环境8.4    ...</td>\n",
       "    </tr>\n",
       "    <tr>\n",
       "      <th>1</th>\n",
       "      <td>美食</td>\n",
       "      <td>泰国街边料理</td>\n",
       "      <td>74                    条点评</td>\n",
       "      <td>准四星商户</td>\n",
       "      <td>人均                                        ￥48</td>\n",
       "      <td>黄兴路合生汇B2美食集市内</td>\n",
       "      <td>口味7.4                                环境7.6    ...</td>\n",
       "    </tr>\n",
       "    <tr>\n",
       "      <th>2</th>\n",
       "      <td>美食</td>\n",
       "      <td>壹面如故(苏宁生活广场店)</td>\n",
       "      <td>265                    条点评</td>\n",
       "      <td>准四星商户</td>\n",
       "      <td>人均                                        ￥21</td>\n",
       "      <td>邯郸路585号苏宁生活广场B1层</td>\n",
       "      <td>口味7.0                                环境7.2    ...</td>\n",
       "    </tr>\n",
       "    <tr>\n",
       "      <th>3</th>\n",
       "      <td>美食</td>\n",
       "      <td>鮨谷•Aburiya(合生汇店)</td>\n",
       "      <td>2748                    条点评</td>\n",
       "      <td>准五星商户</td>\n",
       "      <td>人均                                        ￥142</td>\n",
       "      <td>翔殷路1099号合生广场5楼23、28铺位</td>\n",
       "      <td>口味8.9                                环境8.5    ...</td>\n",
       "    </tr>\n",
       "    <tr>\n",
       "      <th>4</th>\n",
       "      <td>美食</td>\n",
       "      <td>我们的烤肉我们的馕</td>\n",
       "      <td>5                    条点评</td>\n",
       "      <td>准四星商户</td>\n",
       "      <td>人均                                    -</td>\n",
       "      <td>邯郸路399-D3号</td>\n",
       "      <td>口味7.5                                环境6.8    ...</td>\n",
       "    </tr>\n",
       "  </tbody>\n",
       "</table>\n",
       "</div>"
      ],
      "text/plain": [
       "  classify              name                      comment     star  \\\n",
       "0       美食    望蓉城老坛酸菜鱼(合生汇店)                         我要点评  该商户暂无星级   \n",
       "1       美食            泰国街边料理    74                    条点评    准四星商户   \n",
       "2       美食     壹面如故(苏宁生活广场店)   265                    条点评    准四星商户   \n",
       "3       美食  鮨谷•Aburiya(合生汇店)  2748                    条点评    准五星商户   \n",
       "4       美食         我们的烤肉我们的馕     5                    条点评    准四星商户   \n",
       "\n",
       "                                            price                address  \\\n",
       "0  人均                                        ￥125          翔殷路1099号合生汇5F   \n",
       "1   人均                                        ￥48          黄兴路合生汇B2美食集市内   \n",
       "2   人均                                        ￥21       邯郸路585号苏宁生活广场B1层   \n",
       "3  人均                                        ￥142  翔殷路1099号合生广场5楼23、28铺位   \n",
       "4         人均                                    -             邯郸路399-D3号   \n",
       "\n",
       "                                         commentlist  \n",
       "0  口味8.3                                环境8.4    ...  \n",
       "1  口味7.4                                环境7.6    ...  \n",
       "2  口味7.0                                环境7.2    ...  \n",
       "3  口味8.9                                环境8.5    ...  \n",
       "4  口味7.5                                环境6.8    ...  "
      ]
     },
     "execution_count": 32,
     "metadata": {},
     "output_type": "execute_result"
    }
   ],
   "source": [
    "# 如何用Pandas读取数据 -csv\n",
    "f = open('D:\\BaiduNetdiskDownload\\资料01_商铺数据.csv','r',encoding='utf-8')#pandas读入文件如果含有中文，直接读取会报错\n",
    "df = pd.read_csv(f)\n",
    "print(type(df),df['name'].dtype) # 查看df类型，查看df种一列的数值类型\n",
    "df.head()"
   ]
  },
  {
   "cell_type": "code",
   "execution_count": 42,
   "metadata": {},
   "outputs": [
    {
     "name": "stdout",
     "output_type": "stream",
     "text": [
      "object\n",
      "int32\n"
     ]
    },
    {
     "data": {
      "text/html": [
       "<div>\n",
       "<style scoped>\n",
       "    .dataframe tbody tr th:only-of-type {\n",
       "        vertical-align: middle;\n",
       "    }\n",
       "\n",
       "    .dataframe tbody tr th {\n",
       "        vertical-align: top;\n",
       "    }\n",
       "\n",
       "    .dataframe thead th {\n",
       "        text-align: right;\n",
       "    }\n",
       "</style>\n",
       "<table border=\"1\" class=\"dataframe\">\n",
       "  <thead>\n",
       "    <tr style=\"text-align: right;\">\n",
       "      <th></th>\n",
       "      <th>classify</th>\n",
       "      <th>name</th>\n",
       "      <th>comment</th>\n",
       "      <th>star</th>\n",
       "      <th>price</th>\n",
       "      <th>address</th>\n",
       "      <th>commentlist</th>\n",
       "    </tr>\n",
       "  </thead>\n",
       "  <tbody>\n",
       "    <tr>\n",
       "      <th>1</th>\n",
       "      <td>美食</td>\n",
       "      <td>泰国街边料理</td>\n",
       "      <td>74</td>\n",
       "      <td>准四星商户</td>\n",
       "      <td>人均                                        ￥48</td>\n",
       "      <td>黄兴路合生汇B2美食集市内</td>\n",
       "      <td>口味7.4                                环境7.6    ...</td>\n",
       "    </tr>\n",
       "    <tr>\n",
       "      <th>2</th>\n",
       "      <td>美食</td>\n",
       "      <td>壹面如故(苏宁生活广场店)</td>\n",
       "      <td>265</td>\n",
       "      <td>准四星商户</td>\n",
       "      <td>人均                                        ￥21</td>\n",
       "      <td>邯郸路585号苏宁生活广场B1层</td>\n",
       "      <td>口味7.0                                环境7.2    ...</td>\n",
       "    </tr>\n",
       "    <tr>\n",
       "      <th>3</th>\n",
       "      <td>美食</td>\n",
       "      <td>鮨谷•Aburiya(合生汇店)</td>\n",
       "      <td>2748</td>\n",
       "      <td>准五星商户</td>\n",
       "      <td>人均                                        ￥142</td>\n",
       "      <td>翔殷路1099号合生广场5楼23、28铺位</td>\n",
       "      <td>口味8.9                                环境8.5    ...</td>\n",
       "    </tr>\n",
       "    <tr>\n",
       "      <th>4</th>\n",
       "      <td>美食</td>\n",
       "      <td>我们的烤肉我们的馕</td>\n",
       "      <td>5</td>\n",
       "      <td>准四星商户</td>\n",
       "      <td>人均                                    -</td>\n",
       "      <td>邯郸路399-D3号</td>\n",
       "      <td>口味7.5                                环境6.8    ...</td>\n",
       "    </tr>\n",
       "    <tr>\n",
       "      <th>5</th>\n",
       "      <td>美食</td>\n",
       "      <td>麦当劳(万达店)</td>\n",
       "      <td>785</td>\n",
       "      <td>准四星商户</td>\n",
       "      <td>人均                                        ￥24</td>\n",
       "      <td>邯郸路600号万达商业广场B1楼A05号铺</td>\n",
       "      <td>口味7.4                                环境7.2    ...</td>\n",
       "    </tr>\n",
       "  </tbody>\n",
       "</table>\n",
       "</div>"
      ],
      "text/plain": [
       "  classify              name  comment   star  \\\n",
       "1       美食            泰国街边料理       74  准四星商户   \n",
       "2       美食     壹面如故(苏宁生活广场店)      265  准四星商户   \n",
       "3       美食  鮨谷•Aburiya(合生汇店)     2748  准五星商户   \n",
       "4       美食         我们的烤肉我们的馕        5  准四星商户   \n",
       "5       美食          麦当劳(万达店)      785  准四星商户   \n",
       "\n",
       "                                            price                address  \\\n",
       "1   人均                                        ￥48          黄兴路合生汇B2美食集市内   \n",
       "2   人均                                        ￥21       邯郸路585号苏宁生活广场B1层   \n",
       "3  人均                                        ￥142  翔殷路1099号合生广场5楼23、28铺位   \n",
       "4         人均                                    -             邯郸路399-D3号   \n",
       "5   人均                                        ￥24  邯郸路600号万达商业广场B1楼A05号铺   \n",
       "\n",
       "                                         commentlist  \n",
       "1  口味7.4                                环境7.6    ...  \n",
       "2  口味7.0                                环境7.2    ...  \n",
       "3  口味8.9                                环境8.5    ...  \n",
       "4  口味7.5                                环境6.8    ...  \n",
       "5  口味7.4                                环境7.2    ...  "
      ]
     },
     "execution_count": 42,
     "metadata": {},
     "output_type": "execute_result"
    }
   ],
   "source": [
    "df1 = df[df['comment'].str.contains('条')]\n",
    "df1['comment'] = df1['comment'].str.split('条').str[0]\n",
    "print(df1['comment'].dtype)\n",
    "\n",
    "#df1['comment'][:5]\n",
    "df1['comment'] = df1['comment'].astype('int')\n",
    "print(df1['comment'].dtype)\n",
    "df1.head()"
   ]
  },
  {
   "cell_type": "code",
   "execution_count": 43,
   "metadata": {},
   "outputs": [
    {
     "name": "stdout",
     "output_type": "stream",
     "text": [
      "float64\n"
     ]
    },
    {
     "data": {
      "text/html": [
       "<div>\n",
       "<style scoped>\n",
       "    .dataframe tbody tr th:only-of-type {\n",
       "        vertical-align: middle;\n",
       "    }\n",
       "\n",
       "    .dataframe tbody tr th {\n",
       "        vertical-align: top;\n",
       "    }\n",
       "\n",
       "    .dataframe thead th {\n",
       "        text-align: right;\n",
       "    }\n",
       "</style>\n",
       "<table border=\"1\" class=\"dataframe\">\n",
       "  <thead>\n",
       "    <tr style=\"text-align: right;\">\n",
       "      <th></th>\n",
       "      <th>classify</th>\n",
       "      <th>name</th>\n",
       "      <th>comment</th>\n",
       "      <th>star</th>\n",
       "      <th>price</th>\n",
       "      <th>address</th>\n",
       "      <th>commentlist</th>\n",
       "    </tr>\n",
       "  </thead>\n",
       "  <tbody>\n",
       "    <tr>\n",
       "      <th>1</th>\n",
       "      <td>美食</td>\n",
       "      <td>泰国街边料理</td>\n",
       "      <td>74</td>\n",
       "      <td>准四星商户</td>\n",
       "      <td>48.0</td>\n",
       "      <td>黄兴路合生汇B2美食集市内</td>\n",
       "      <td>口味7.4                                环境7.6    ...</td>\n",
       "    </tr>\n",
       "    <tr>\n",
       "      <th>2</th>\n",
       "      <td>美食</td>\n",
       "      <td>壹面如故(苏宁生活广场店)</td>\n",
       "      <td>265</td>\n",
       "      <td>准四星商户</td>\n",
       "      <td>21.0</td>\n",
       "      <td>邯郸路585号苏宁生活广场B1层</td>\n",
       "      <td>口味7.0                                环境7.2    ...</td>\n",
       "    </tr>\n",
       "    <tr>\n",
       "      <th>3</th>\n",
       "      <td>美食</td>\n",
       "      <td>鮨谷•Aburiya(合生汇店)</td>\n",
       "      <td>2748</td>\n",
       "      <td>准五星商户</td>\n",
       "      <td>142.0</td>\n",
       "      <td>翔殷路1099号合生广场5楼23、28铺位</td>\n",
       "      <td>口味8.9                                环境8.5    ...</td>\n",
       "    </tr>\n",
       "    <tr>\n",
       "      <th>5</th>\n",
       "      <td>美食</td>\n",
       "      <td>麦当劳(万达店)</td>\n",
       "      <td>785</td>\n",
       "      <td>准四星商户</td>\n",
       "      <td>24.0</td>\n",
       "      <td>邯郸路600号万达商业广场B1楼A05号铺</td>\n",
       "      <td>口味7.4                                环境7.2    ...</td>\n",
       "    </tr>\n",
       "    <tr>\n",
       "      <th>6</th>\n",
       "      <td>美食</td>\n",
       "      <td>蒸年青STEAMYOUNG(百联又一城购物中心店)</td>\n",
       "      <td>3779</td>\n",
       "      <td>准五星商户</td>\n",
       "      <td>70.0</td>\n",
       "      <td>淞沪路8号百联又一城购物中心7层</td>\n",
       "      <td>口味8.6                                环境8.6    ...</td>\n",
       "    </tr>\n",
       "  </tbody>\n",
       "</table>\n",
       "</div>"
      ],
      "text/plain": [
       "  classify                       name  comment   star  price  \\\n",
       "1       美食                     泰国街边料理       74  准四星商户   48.0   \n",
       "2       美食              壹面如故(苏宁生活广场店)      265  准四星商户   21.0   \n",
       "3       美食           鮨谷•Aburiya(合生汇店)     2748  准五星商户  142.0   \n",
       "5       美食                   麦当劳(万达店)      785  准四星商户   24.0   \n",
       "6       美食  蒸年青STEAMYOUNG(百联又一城购物中心店)     3779  准五星商户   70.0   \n",
       "\n",
       "                 address                                        commentlist  \n",
       "1          黄兴路合生汇B2美食集市内  口味7.4                                环境7.6    ...  \n",
       "2       邯郸路585号苏宁生活广场B1层  口味7.0                                环境7.2    ...  \n",
       "3  翔殷路1099号合生广场5楼23、28铺位  口味8.9                                环境8.5    ...  \n",
       "5  邯郸路600号万达商业广场B1楼A05号铺  口味7.4                                环境7.2    ...  \n",
       "6       淞沪路8号百联又一城购物中心7层  口味8.6                                环境8.6    ...  "
      ]
     },
     "execution_count": 43,
     "metadata": {},
     "output_type": "execute_result"
    }
   ],
   "source": [
    "df1 = df1[df1['price'].str.contains('￥')]\n",
    "df1['price'] = df1['price'].str.split('￥').str[-1]\n",
    "df1['price'] = df1['price'].astype('float')\n",
    "print(df1['price'].dtype)\n",
    "df1.head()\n"
   ]
  },
  {
   "cell_type": "code",
   "execution_count": 47,
   "metadata": {},
   "outputs": [
    {
     "data": {
      "text/html": [
       "<div>\n",
       "<style scoped>\n",
       "    .dataframe tbody tr th:only-of-type {\n",
       "        vertical-align: middle;\n",
       "    }\n",
       "\n",
       "    .dataframe tbody tr th {\n",
       "        vertical-align: top;\n",
       "    }\n",
       "\n",
       "    .dataframe thead th {\n",
       "        text-align: right;\n",
       "    }\n",
       "</style>\n",
       "<table border=\"1\" class=\"dataframe\">\n",
       "  <thead>\n",
       "    <tr style=\"text-align: right;\">\n",
       "      <th></th>\n",
       "      <th>classify</th>\n",
       "      <th>name</th>\n",
       "      <th>comment</th>\n",
       "      <th>star</th>\n",
       "      <th>price</th>\n",
       "      <th>address</th>\n",
       "      <th>quality</th>\n",
       "      <th>environment</th>\n",
       "      <th>service</th>\n",
       "    </tr>\n",
       "  </thead>\n",
       "  <tbody>\n",
       "    <tr>\n",
       "      <th>1</th>\n",
       "      <td>美食</td>\n",
       "      <td>泰国街边料理</td>\n",
       "      <td>74</td>\n",
       "      <td>准四星商户</td>\n",
       "      <td>48.0</td>\n",
       "      <td>黄兴路合生汇B2美食集市内</td>\n",
       "      <td>7.4</td>\n",
       "      <td>7.6</td>\n",
       "      <td>7.4</td>\n",
       "    </tr>\n",
       "    <tr>\n",
       "      <th>2</th>\n",
       "      <td>美食</td>\n",
       "      <td>壹面如故(苏宁生活广场店)</td>\n",
       "      <td>265</td>\n",
       "      <td>准四星商户</td>\n",
       "      <td>21.0</td>\n",
       "      <td>邯郸路585号苏宁生活广场B1层</td>\n",
       "      <td>7.0</td>\n",
       "      <td>7.2</td>\n",
       "      <td>7.2</td>\n",
       "    </tr>\n",
       "    <tr>\n",
       "      <th>3</th>\n",
       "      <td>美食</td>\n",
       "      <td>鮨谷•Aburiya(合生汇店)</td>\n",
       "      <td>2748</td>\n",
       "      <td>准五星商户</td>\n",
       "      <td>142.0</td>\n",
       "      <td>翔殷路1099号合生广场5楼23、28铺位</td>\n",
       "      <td>8.9</td>\n",
       "      <td>8.5</td>\n",
       "      <td>8.4</td>\n",
       "    </tr>\n",
       "    <tr>\n",
       "      <th>5</th>\n",
       "      <td>美食</td>\n",
       "      <td>麦当劳(万达店)</td>\n",
       "      <td>785</td>\n",
       "      <td>准四星商户</td>\n",
       "      <td>24.0</td>\n",
       "      <td>邯郸路600号万达商业广场B1楼A05号铺</td>\n",
       "      <td>7.4</td>\n",
       "      <td>7.2</td>\n",
       "      <td>7.2</td>\n",
       "    </tr>\n",
       "    <tr>\n",
       "      <th>6</th>\n",
       "      <td>美食</td>\n",
       "      <td>蒸年青STEAMYOUNG(百联又一城购物中心店)</td>\n",
       "      <td>3779</td>\n",
       "      <td>准五星商户</td>\n",
       "      <td>70.0</td>\n",
       "      <td>淞沪路8号百联又一城购物中心7层</td>\n",
       "      <td>8.6</td>\n",
       "      <td>8.6</td>\n",
       "      <td>8.6</td>\n",
       "    </tr>\n",
       "  </tbody>\n",
       "</table>\n",
       "</div>"
      ],
      "text/plain": [
       "  classify                       name  comment   star  price  \\\n",
       "1       美食                     泰国街边料理       74  准四星商户   48.0   \n",
       "2       美食              壹面如故(苏宁生活广场店)      265  准四星商户   21.0   \n",
       "3       美食           鮨谷•Aburiya(合生汇店)     2748  准五星商户  142.0   \n",
       "5       美食                   麦当劳(万达店)      785  准四星商户   24.0   \n",
       "6       美食  蒸年青STEAMYOUNG(百联又一城购物中心店)     3779  准五星商户   70.0   \n",
       "\n",
       "                 address  quality  environment  service  \n",
       "1          黄兴路合生汇B2美食集市内      7.4          7.6      7.4  \n",
       "2       邯郸路585号苏宁生活广场B1层      7.0          7.2      7.2  \n",
       "3  翔殷路1099号合生广场5楼23、28铺位      8.9          8.5      8.4  \n",
       "5  邯郸路600号万达商业广场B1楼A05号铺      7.4          7.2      7.2  \n",
       "6       淞沪路8号百联又一城购物中心7层      8.6          8.6      8.6  "
      ]
     },
     "execution_count": 47,
     "metadata": {},
     "output_type": "execute_result"
    }
   ],
   "source": [
    "df1['quality'] = df1['commentlist'].str.split('                               ').str[0].str[2:].astype('float')\n",
    "df1['environment'] = df1['commentlist'].str.split('                                ').str[1].str[2:].astype('float')\n",
    "df1['service'] = df1['commentlist'].str.split('                                ').str[2].str[2:].astype('float')\n",
    "del df1['commentlist']\n",
    "df1.head()"
   ]
  },
  {
   "cell_type": "markdown",
   "metadata": {},
   "source": [
    "### 2、初学者在数据索引的常见问题\n",
    "- 列索引/行索引问题：df[..]/iloc/.loc\n",
    "- 布尔型索引"
   ]
  },
  {
   "cell_type": "code",
   "execution_count": 49,
   "metadata": {},
   "outputs": [
    {
     "data": {
      "text/plain": [
       "1    7.4\n",
       "2    7.0\n",
       "3    8.9\n",
       "5    7.4\n",
       "6    8.6\n",
       "Name: quality, dtype: float64"
      ]
     },
     "execution_count": 49,
     "metadata": {},
     "output_type": "execute_result"
    }
   ],
   "source": [
    "# 列索引['quality']\n",
    "df1['quality'].head()"
   ]
  },
  {
   "cell_type": "code",
   "execution_count": 50,
   "metadata": {},
   "outputs": [
    {
     "data": {
      "text/html": [
       "<div>\n",
       "<style scoped>\n",
       "    .dataframe tbody tr th:only-of-type {\n",
       "        vertical-align: middle;\n",
       "    }\n",
       "\n",
       "    .dataframe tbody tr th {\n",
       "        vertical-align: top;\n",
       "    }\n",
       "\n",
       "    .dataframe thead th {\n",
       "        text-align: right;\n",
       "    }\n",
       "</style>\n",
       "<table border=\"1\" class=\"dataframe\">\n",
       "  <thead>\n",
       "    <tr style=\"text-align: right;\">\n",
       "      <th></th>\n",
       "      <th>quality</th>\n",
       "      <th>environment</th>\n",
       "    </tr>\n",
       "  </thead>\n",
       "  <tbody>\n",
       "    <tr>\n",
       "      <th>1</th>\n",
       "      <td>7.4</td>\n",
       "      <td>7.6</td>\n",
       "    </tr>\n",
       "    <tr>\n",
       "      <th>2</th>\n",
       "      <td>7.0</td>\n",
       "      <td>7.2</td>\n",
       "    </tr>\n",
       "    <tr>\n",
       "      <th>3</th>\n",
       "      <td>8.9</td>\n",
       "      <td>8.5</td>\n",
       "    </tr>\n",
       "    <tr>\n",
       "      <th>5</th>\n",
       "      <td>7.4</td>\n",
       "      <td>7.2</td>\n",
       "    </tr>\n",
       "    <tr>\n",
       "      <th>6</th>\n",
       "      <td>8.6</td>\n",
       "      <td>8.6</td>\n",
       "    </tr>\n",
       "  </tbody>\n",
       "</table>\n",
       "</div>"
      ],
      "text/plain": [
       "   quality  environment\n",
       "1      7.4          7.6\n",
       "2      7.0          7.2\n",
       "3      8.9          8.5\n",
       "5      7.4          7.2\n",
       "6      8.6          8.6"
      ]
     },
     "execution_count": 50,
     "metadata": {},
     "output_type": "execute_result"
    }
   ],
   "source": [
    "# 多列索引\n",
    "df1[['quality','environment']].head()"
   ]
  },
  {
   "cell_type": "code",
   "execution_count": 53,
   "metadata": {},
   "outputs": [
    {
     "name": "stdout",
     "output_type": "stream",
     "text": [
      "A    13.406688\n",
      "B    70.781094\n",
      "C    67.880059\n",
      "D    78.845145\n",
      "Name: one, dtype: float64 \n",
      "------ <class 'pandas.core.series.Series'>\n",
      "             A          B          C          D\n",
      "one  13.406688  70.781094  67.880059  78.845145\n",
      "two  57.204533  53.961845  21.966304   4.666978 \n",
      "------ <class 'pandas.core.frame.DataFrame'>\n"
     ]
    }
   ],
   "source": [
    "# df.loc['index'] 按照index 去索引\n",
    "\n",
    "import numpy as np\n",
    "\n",
    "df = pd.DataFrame(np.random.rand(12).reshape(3,4)*100,\n",
    "                 index = ['one','two','three'],\n",
    "                columns = ['A','B','C','D'])\n",
    "\n",
    "data1 = df.loc['one']\n",
    "data2 = df.loc[['one','two']]\n",
    "print(data1,'\\n------',type(data1))\n",
    "print(data2,'\\n------',type(data2))\n"
   ]
  },
  {
   "cell_type": "code",
   "execution_count": 56,
   "metadata": {},
   "outputs": [
    {
     "name": "stdout",
     "output_type": "stream",
     "text": [
      "A    13.406688\n",
      "B    70.781094\n",
      "C    67.880059\n",
      "D    78.845145\n",
      "Name: one, dtype: float64 \n",
      "------ <class 'pandas.core.series.Series'>\n",
      "               A          B          C          D\n",
      "three  32.748687  83.539506   9.298103  68.632795\n",
      "one    13.406688  70.781094  67.880059  78.845145 \n",
      "------ <class 'pandas.core.frame.DataFrame'>\n",
      "               A          B          C          D\n",
      "one    13.406688  70.781094  67.880059  78.845145\n",
      "two    57.204533  53.961845  21.966304   4.666978\n",
      "three  32.748687  83.539506   9.298103  68.632795 \n",
      "------ <class 'pandas.core.frame.DataFrame'>\n"
     ]
    }
   ],
   "source": [
    "# 行索引 ，iloc按照行数去选\n",
    "# 按照整数位置（从轴0到length-1）选择行\n",
    "data3 = df.iloc[0]\n",
    "data4 = df.iloc[[2,0]]\n",
    "data5 = df.iloc[0:3]\n",
    "\n",
    "print(data3,'\\n------',type(data3))\n",
    "print(data4,'\\n------',type(data4))\n",
    "print(data5,'\\n------',type(data5))\n"
   ]
  },
  {
   "cell_type": "code",
   "execution_count": 58,
   "metadata": {},
   "outputs": [
    {
     "data": {
      "text/html": [
       "<div>\n",
       "<style scoped>\n",
       "    .dataframe tbody tr th:only-of-type {\n",
       "        vertical-align: middle;\n",
       "    }\n",
       "\n",
       "    .dataframe tbody tr th {\n",
       "        vertical-align: top;\n",
       "    }\n",
       "\n",
       "    .dataframe thead th {\n",
       "        text-align: right;\n",
       "    }\n",
       "</style>\n",
       "<table border=\"1\" class=\"dataframe\">\n",
       "  <thead>\n",
       "    <tr style=\"text-align: right;\">\n",
       "      <th></th>\n",
       "      <th>classify</th>\n",
       "      <th>name</th>\n",
       "      <th>comment</th>\n",
       "      <th>star</th>\n",
       "      <th>price</th>\n",
       "      <th>address</th>\n",
       "      <th>quality</th>\n",
       "      <th>environment</th>\n",
       "      <th>service</th>\n",
       "    </tr>\n",
       "  </thead>\n",
       "  <tbody>\n",
       "    <tr>\n",
       "      <th>1</th>\n",
       "      <td>美食</td>\n",
       "      <td>泰国街边料理</td>\n",
       "      <td>74</td>\n",
       "      <td>准四星商户</td>\n",
       "      <td>48.0</td>\n",
       "      <td>黄兴路合生汇B2美食集市内</td>\n",
       "      <td>7.4</td>\n",
       "      <td>7.6</td>\n",
       "      <td>7.4</td>\n",
       "    </tr>\n",
       "    <tr>\n",
       "      <th>2</th>\n",
       "      <td>美食</td>\n",
       "      <td>壹面如故(苏宁生活广场店)</td>\n",
       "      <td>265</td>\n",
       "      <td>准四星商户</td>\n",
       "      <td>21.0</td>\n",
       "      <td>邯郸路585号苏宁生活广场B1层</td>\n",
       "      <td>7.0</td>\n",
       "      <td>7.2</td>\n",
       "      <td>7.2</td>\n",
       "    </tr>\n",
       "    <tr>\n",
       "      <th>3</th>\n",
       "      <td>美食</td>\n",
       "      <td>鮨谷•Aburiya(合生汇店)</td>\n",
       "      <td>2748</td>\n",
       "      <td>准五星商户</td>\n",
       "      <td>142.0</td>\n",
       "      <td>翔殷路1099号合生广场5楼23、28铺位</td>\n",
       "      <td>8.9</td>\n",
       "      <td>8.5</td>\n",
       "      <td>8.4</td>\n",
       "    </tr>\n",
       "    <tr>\n",
       "      <th>5</th>\n",
       "      <td>美食</td>\n",
       "      <td>麦当劳(万达店)</td>\n",
       "      <td>785</td>\n",
       "      <td>准四星商户</td>\n",
       "      <td>24.0</td>\n",
       "      <td>邯郸路600号万达商业广场B1楼A05号铺</td>\n",
       "      <td>7.4</td>\n",
       "      <td>7.2</td>\n",
       "      <td>7.2</td>\n",
       "    </tr>\n",
       "    <tr>\n",
       "      <th>6</th>\n",
       "      <td>美食</td>\n",
       "      <td>蒸年青STEAMYOUNG(百联又一城购物中心店)</td>\n",
       "      <td>3779</td>\n",
       "      <td>准五星商户</td>\n",
       "      <td>70.0</td>\n",
       "      <td>淞沪路8号百联又一城购物中心7层</td>\n",
       "      <td>8.6</td>\n",
       "      <td>8.6</td>\n",
       "      <td>8.6</td>\n",
       "    </tr>\n",
       "  </tbody>\n",
       "</table>\n",
       "</div>"
      ],
      "text/plain": [
       "  classify                       name  comment   star  price  \\\n",
       "1       美食                     泰国街边料理       74  准四星商户   48.0   \n",
       "2       美食              壹面如故(苏宁生活广场店)      265  准四星商户   21.0   \n",
       "3       美食           鮨谷•Aburiya(合生汇店)     2748  准五星商户  142.0   \n",
       "5       美食                   麦当劳(万达店)      785  准四星商户   24.0   \n",
       "6       美食  蒸年青STEAMYOUNG(百联又一城购物中心店)     3779  准五星商户   70.0   \n",
       "\n",
       "                 address  quality  environment  service  \n",
       "1          黄兴路合生汇B2美食集市内      7.4          7.6      7.4  \n",
       "2       邯郸路585号苏宁生活广场B1层      7.0          7.2      7.2  \n",
       "3  翔殷路1099号合生广场5楼23、28铺位      8.9          8.5      8.4  \n",
       "5  邯郸路600号万达商业广场B1楼A05号铺      7.4          7.2      7.2  \n",
       "6       淞沪路8号百联又一城购物中心7层      8.6          8.6      8.6  "
      ]
     },
     "execution_count": 58,
     "metadata": {},
     "output_type": "execute_result"
    }
   ],
   "source": [
    "# 布尔型的索引\n",
    "df1[df1['comment']>50].head()\n"
   ]
  },
  {
   "cell_type": "code",
   "execution_count": 59,
   "metadata": {},
   "outputs": [
    {
     "data": {
      "text/html": [
       "<div>\n",
       "<style scoped>\n",
       "    .dataframe tbody tr th:only-of-type {\n",
       "        vertical-align: middle;\n",
       "    }\n",
       "\n",
       "    .dataframe tbody tr th {\n",
       "        vertical-align: top;\n",
       "    }\n",
       "\n",
       "    .dataframe thead th {\n",
       "        text-align: right;\n",
       "    }\n",
       "</style>\n",
       "<table border=\"1\" class=\"dataframe\">\n",
       "  <thead>\n",
       "    <tr style=\"text-align: right;\">\n",
       "      <th></th>\n",
       "      <th>quality</th>\n",
       "      <th>environment</th>\n",
       "      <th>service</th>\n",
       "    </tr>\n",
       "  </thead>\n",
       "  <tbody>\n",
       "    <tr>\n",
       "      <th>1</th>\n",
       "      <td>7.4</td>\n",
       "      <td>7.6</td>\n",
       "      <td>7.4</td>\n",
       "    </tr>\n",
       "    <tr>\n",
       "      <th>2</th>\n",
       "      <td>7.0</td>\n",
       "      <td>7.2</td>\n",
       "      <td>7.2</td>\n",
       "    </tr>\n",
       "    <tr>\n",
       "      <th>3</th>\n",
       "      <td>8.9</td>\n",
       "      <td>8.5</td>\n",
       "      <td>8.4</td>\n",
       "    </tr>\n",
       "    <tr>\n",
       "      <th>5</th>\n",
       "      <td>7.4</td>\n",
       "      <td>7.2</td>\n",
       "      <td>7.2</td>\n",
       "    </tr>\n",
       "    <tr>\n",
       "      <th>6</th>\n",
       "      <td>8.6</td>\n",
       "      <td>8.6</td>\n",
       "      <td>8.6</td>\n",
       "    </tr>\n",
       "  </tbody>\n",
       "</table>\n",
       "</div>"
      ],
      "text/plain": [
       "   quality  environment  service\n",
       "1      7.4          7.6      7.4\n",
       "2      7.0          7.2      7.2\n",
       "3      8.9          8.5      8.4\n",
       "5      7.4          7.2      7.2\n",
       "6      8.6          8.6      8.6"
      ]
     },
     "execution_count": 59,
     "metadata": {},
     "output_type": "execute_result"
    }
   ],
   "source": [
    "df1[df1['price']>100]['comment'].sum()\n",
    "df1[df1['comment']>50][['quality','environment','service']].head()"
   ]
  },
  {
   "cell_type": "markdown",
   "metadata": {},
   "source": [
    "### 3、Pandas的套路\n",
    "- 数据类型问题，serices和dataframe\n",
    "- 去重\n",
    "- 替换\n",
    "- 分组\n",
    "- 合并"
   ]
  },
  {
   "cell_type": "code",
   "execution_count": null,
   "metadata": {},
   "outputs": [],
   "source": [
    "# Series，带有标签的一维数组，可以保存任何数据类型（整数、浮点、字符串、Python对象等），轴标签统称为索引\n",
    "s = pd.Series(np.random.rand(5))\n",
    "print(s)\n",
    "print(type(s))"
   ]
  },
  {
   "cell_type": "code",
   "execution_count": 63,
   "metadata": {},
   "outputs": [
    {
     "name": "stdout",
     "output_type": "stream",
     "text": [
      "  age gender   name\n",
      "0  23      m   Jack\n",
      "1  19      w    Tom\n",
      "2  18      m  Sunny\n",
      "[['23' 'm' 'Jack']\n",
      " ['19' 'w' 'Tom']\n",
      " ['18' 'm' 'Sunny']]\n"
     ]
    }
   ],
   "source": [
    "# DataFrame 数据结构\n",
    "# DataFrame是一个表格型的数据结构，“带有标签的二维数据”\n",
    "# DataFrame带有index（行标签）和columns（列标签）\n",
    "\n",
    "data = {'name':['Jack','Tom','Sunny'],\n",
    "        'age':['23','19','18'],\n",
    "        'gender':['m','w','m']\n",
    "    \n",
    "}\n",
    "frame = pd.DataFrame(data)\n",
    "print(frame)\n",
    "print(frame.values)"
   ]
  },
  {
   "cell_type": "code",
   "execution_count": 65,
   "metadata": {},
   "outputs": [
    {
     "data": {
      "text/html": [
       "<div>\n",
       "<style scoped>\n",
       "    .dataframe tbody tr th:only-of-type {\n",
       "        vertical-align: middle;\n",
       "    }\n",
       "\n",
       "    .dataframe tbody tr th {\n",
       "        vertical-align: top;\n",
       "    }\n",
       "\n",
       "    .dataframe thead th {\n",
       "        text-align: right;\n",
       "    }\n",
       "</style>\n",
       "<table border=\"1\" class=\"dataframe\">\n",
       "  <thead>\n",
       "    <tr style=\"text-align: right;\">\n",
       "      <th></th>\n",
       "      <th>value1</th>\n",
       "      <th>value2</th>\n",
       "    </tr>\n",
       "  </thead>\n",
       "  <tbody>\n",
       "    <tr>\n",
       "      <th>0</th>\n",
       "      <td>7.341088</td>\n",
       "      <td>10.586261</td>\n",
       "    </tr>\n",
       "    <tr>\n",
       "      <th>1</th>\n",
       "      <td>8.260010</td>\n",
       "      <td>36.571033</td>\n",
       "    </tr>\n",
       "    <tr>\n",
       "      <th>2</th>\n",
       "      <td>2.636710</td>\n",
       "      <td>70.976256</td>\n",
       "    </tr>\n",
       "    <tr>\n",
       "      <th>3</th>\n",
       "      <td>0.895041</td>\n",
       "      <td>78.837271</td>\n",
       "    </tr>\n",
       "    <tr>\n",
       "      <th>4</th>\n",
       "      <td>7.605441</td>\n",
       "      <td>30.755006</td>\n",
       "    </tr>\n",
       "    <tr>\n",
       "      <th>5</th>\n",
       "      <td>6.460057</td>\n",
       "      <td>84.880144</td>\n",
       "    </tr>\n",
       "    <tr>\n",
       "      <th>6</th>\n",
       "      <td>7.347838</td>\n",
       "      <td>75.239573</td>\n",
       "    </tr>\n",
       "    <tr>\n",
       "      <th>7</th>\n",
       "      <td>5.509200</td>\n",
       "      <td>89.171868</td>\n",
       "    </tr>\n",
       "    <tr>\n",
       "      <th>8</th>\n",
       "      <td>1.713098</td>\n",
       "      <td>0.909261</td>\n",
       "    </tr>\n",
       "    <tr>\n",
       "      <th>9</th>\n",
       "      <td>1.199394</td>\n",
       "      <td>46.827425</td>\n",
       "    </tr>\n",
       "  </tbody>\n",
       "</table>\n",
       "</div>"
      ],
      "text/plain": [
       "     value1     value2\n",
       "0  7.341088  10.586261\n",
       "1  8.260010  36.571033\n",
       "2  2.636710  70.976256\n",
       "3  0.895041  78.837271\n",
       "4  7.605441  30.755006\n",
       "5  6.460057  84.880144\n",
       "6  7.347838  75.239573\n",
       "7  5.509200  89.171868\n",
       "8  1.713098   0.909261\n",
       "9  1.199394  46.827425"
      ]
     },
     "execution_count": 65,
     "metadata": {},
     "output_type": "execute_result"
    }
   ],
   "source": [
    "# 常用创建方法\n",
    "# 1、直接读取数据，pd.read...\n",
    "# 2、结合numpy创建随机数，常用方法—— 字典创建dataframe / 随机数+columns参数设置\n",
    "\n",
    "df = pd.DataFrame({'value1':np.random.rand(10)*10,\n",
    "                  'value2':np.random.rand(10)*100})\n",
    "df"
   ]
  },
  {
   "cell_type": "code",
   "execution_count": 68,
   "metadata": {},
   "outputs": [
    {
     "data": {
      "text/html": [
       "<div>\n",
       "<style scoped>\n",
       "    .dataframe tbody tr th:only-of-type {\n",
       "        vertical-align: middle;\n",
       "    }\n",
       "\n",
       "    .dataframe tbody tr th {\n",
       "        vertical-align: top;\n",
       "    }\n",
       "\n",
       "    .dataframe thead th {\n",
       "        text-align: right;\n",
       "    }\n",
       "</style>\n",
       "<table border=\"1\" class=\"dataframe\">\n",
       "  <thead>\n",
       "    <tr style=\"text-align: right;\">\n",
       "      <th></th>\n",
       "      <th>value1</th>\n",
       "      <th>value2</th>\n",
       "    </tr>\n",
       "  </thead>\n",
       "  <tbody>\n",
       "    <tr>\n",
       "      <th>0</th>\n",
       "      <td>41.744144</td>\n",
       "      <td>57.675621</td>\n",
       "    </tr>\n",
       "    <tr>\n",
       "      <th>1</th>\n",
       "      <td>20.356153</td>\n",
       "      <td>16.566219</td>\n",
       "    </tr>\n",
       "    <tr>\n",
       "      <th>2</th>\n",
       "      <td>65.814937</td>\n",
       "      <td>42.967649</td>\n",
       "    </tr>\n",
       "    <tr>\n",
       "      <th>3</th>\n",
       "      <td>53.866555</td>\n",
       "      <td>89.428502</td>\n",
       "    </tr>\n",
       "    <tr>\n",
       "      <th>4</th>\n",
       "      <td>1.330446</td>\n",
       "      <td>25.392768</td>\n",
       "    </tr>\n",
       "    <tr>\n",
       "      <th>5</th>\n",
       "      <td>25.991836</td>\n",
       "      <td>18.969008</td>\n",
       "    </tr>\n",
       "    <tr>\n",
       "      <th>6</th>\n",
       "      <td>99.673146</td>\n",
       "      <td>44.180044</td>\n",
       "    </tr>\n",
       "    <tr>\n",
       "      <th>7</th>\n",
       "      <td>41.607307</td>\n",
       "      <td>59.788699</td>\n",
       "    </tr>\n",
       "    <tr>\n",
       "      <th>8</th>\n",
       "      <td>83.040954</td>\n",
       "      <td>91.949932</td>\n",
       "    </tr>\n",
       "    <tr>\n",
       "      <th>9</th>\n",
       "      <td>55.039390</td>\n",
       "      <td>55.691654</td>\n",
       "    </tr>\n",
       "  </tbody>\n",
       "</table>\n",
       "</div>"
      ],
      "text/plain": [
       "      value1     value2\n",
       "0  41.744144  57.675621\n",
       "1  20.356153  16.566219\n",
       "2  65.814937  42.967649\n",
       "3  53.866555  89.428502\n",
       "4   1.330446  25.392768\n",
       "5  25.991836  18.969008\n",
       "6  99.673146  44.180044\n",
       "7  41.607307  59.788699\n",
       "8  83.040954  91.949932\n",
       "9  55.039390  55.691654"
      ]
     },
     "execution_count": 68,
     "metadata": {},
     "output_type": "execute_result"
    }
   ],
   "source": [
    "df = pd.DataFrame(np.random.rand(10,2)*100,columns=['value1','value2'])\n",
    "df"
   ]
  },
  {
   "cell_type": "code",
   "execution_count": 71,
   "metadata": {},
   "outputs": [
    {
     "name": "stdout",
     "output_type": "stream",
     "text": [
      "0     1\n",
      "4     2\n",
      "8     3\n",
      "9     4\n",
      "10    5\n",
      "12    6\n",
      "15    7\n",
      "dtype: int64\n",
      "-------------\n",
      "0     1\n",
      "4     2\n",
      "8     3\n",
      "9     4\n",
      "10    5\n",
      "12    6\n",
      "15    7\n",
      "dtype: int64\n",
      "----------------------\n",
      "0    False\n",
      "1     True\n",
      "2    False\n",
      "3    False\n",
      "4    False\n",
      "dtype: bool\n",
      "0    False\n",
      "1     True\n",
      "2    False\n",
      "3     True\n",
      "4    False\n",
      "Name: key2, dtype: bool\n"
     ]
    }
   ],
   "source": [
    "# 去重 .duplicated\n",
    "s = pd.Series([1,1,1,1,2,2,2,2,3,4,5,5,6,6,6,7])\n",
    "#print(s.duplicated())\n",
    "print(s[s.duplicated() == False])\n",
    "print('-------------')\n",
    "# 判断是否重复\n",
    "# 通过布尔值判断，得到不重复的值\n",
    "\n",
    "s_re = s.drop_duplicates()\n",
    "print(s_re)\n",
    "print('----------------------')\n",
    "# drop_duplicates移除重复\n",
    "# inplace参数，是否替换原值，默认为False\n",
    "\n",
    "df = pd.DataFrame({'key1':['a','a',3,4,5],\n",
    "                  'key2':['a','a','b','b','c']})\n",
    "print(df.duplicated())\n",
    "print(df['key2'].duplicated())\n",
    "# dataframe中使用duplicated"
   ]
  },
  {
   "cell_type": "code",
   "execution_count": 72,
   "metadata": {},
   "outputs": [
    {
     "name": "stdout",
     "output_type": "stream",
     "text": [
      "0    NaN\n",
      "1      s\n",
      "2      c\n",
      "3    NaN\n",
      "4    NaN\n",
      "5      z\n",
      "6      s\n",
      "7      d\n",
      "dtype: object\n",
      "0    NaN\n",
      "1      s\n",
      "2    NaN\n",
      "3    NaN\n",
      "4    NaN\n",
      "5      z\n",
      "6      s\n",
      "7      d\n",
      "dtype: object\n",
      "0    hello world!\n",
      "1             123\n",
      "2               c\n",
      "3    hello world!\n",
      "4    hello world!\n",
      "5               z\n",
      "6             123\n",
      "7               d\n",
      "dtype: object\n"
     ]
    }
   ],
   "source": [
    "# 替换， replace\n",
    "s = pd.Series(list('ascaazsd'))\n",
    "print(s.replace('a',np.nan))\n",
    "print(s.replace(['a','c'],np.nan))\n",
    "print(s.replace({'a':'hello world!','s':123}))\n",
    "# 可一次性替换一个或多个值，可传入列表或字典"
   ]
  },
  {
   "cell_type": "code",
   "execution_count": 74,
   "metadata": {},
   "outputs": [
    {
     "name": "stdout",
     "output_type": "stream",
     "text": [
      "     A      B         C         D\n",
      "0  foo    one -1.791812 -0.494852\n",
      "1  bar    one  0.465086  1.302065\n",
      "2  foo    two  0.772881  0.038126\n",
      "3  bar  three  0.266120  1.411584\n",
      "4  foo    two  0.775716 -1.790776\n",
      "5  bar    two  0.760500  0.835696\n",
      "6  foo    one -0.781556  0.568104\n",
      "7  foo  three -0.100109 -1.862230\n",
      "---------------------\n",
      "<pandas.core.groupby.DataFrameGroupBy object at 0x0000019EA7692CC0> <class 'pandas.core.groupby.DataFrameGroupBy'>\n",
      "----------------------\n",
      "            C         D\n",
      "A                      \n",
      "bar  0.497235  1.183115\n",
      "foo -0.224976 -0.708325 <class 'pandas.core.frame.DataFrame'> \n",
      " Index(['C', 'D'], dtype='object')\n"
     ]
    }
   ],
   "source": [
    "# 分组\n",
    "df = pd.DataFrame({'A' : ['foo', 'bar', 'foo', 'bar','foo', 'bar', 'foo', 'foo'],\n",
    "                   'B' : ['one', 'one', 'two', 'three', 'two', 'two', 'one', 'three'],\n",
    "                   'C' : np.random.randn(8),\n",
    "                   'D' : np.random.randn(8)})\n",
    "print(df)\n",
    "print('---------------------')\n",
    "print(df.groupby('A'),type(df.groupby('A')))\n",
    "print('----------------------')\n",
    "# 直接分组得到一个groupby对象，是一个中间数据，没有进行计算\n",
    "\n",
    "a = df.groupby('A').mean()\n",
    "print(a,type(a),'\\n',a.columns)"
   ]
  },
  {
   "cell_type": "code",
   "execution_count": 76,
   "metadata": {},
   "outputs": [
    {
     "name": "stdout",
     "output_type": "stream",
     "text": [
      "    A   B key   C   D\n",
      "0  A0  B0  K0  C0  D0\n",
      "1  A1  B1  K1  C1  D1\n",
      "2  A2  B2  K2  C2  D2\n",
      "3  A3  B3  K3  C3  D3\n",
      "--------------------\n",
      "    A   B key1 key2   C   D\n",
      "0  A0  B0   K0   K0  C0  D0\n",
      "1  A2  B2   K1   K0  C1  D1\n",
      "2  A2  B2   K1   K0  C2  D2\n",
      "    A   B key1 key2   C   D\n",
      "0  A0  B0   K0   K0  C0  D0\n",
      "1  A2  B2   K1   K0  C1  D1\n",
      "2  A2  B2   K1   K0  C2  D2\n",
      "-------------\n"
     ]
    }
   ],
   "source": [
    "# merge合并 → 类似excel的vlookup\n",
    "\n",
    "df1 = pd.DataFrame({'key': ['K0', 'K1', 'K2', 'K3'],\n",
    "                     'A': ['A0', 'A1', 'A2', 'A3'],\n",
    "                     'B': ['B0', 'B1', 'B2', 'B3']})\n",
    "df2 = pd.DataFrame({'key': ['K0', 'K1', 'K2', 'K3'],\n",
    "                      'C': ['C0', 'C1', 'C2', 'C3'],\n",
    "                      'D': ['D0', 'D1', 'D2', 'D3']})\n",
    "df3 = pd.DataFrame({'key1': ['K0', 'K0', 'K1', 'K2'],\n",
    "                    'key2': ['K0', 'K1', 'K0', 'K1'],\n",
    "                    'A': ['A0', 'A1', 'A2', 'A3'],\n",
    "                    'B': ['B0', 'B1', 'B2', 'B3']})\n",
    "df4 = pd.DataFrame({'key1': ['K0', 'K1', 'K1', 'K2'],\n",
    "                    'key2': ['K0', 'K0', 'K0', 'K0'],\n",
    "                    'C': ['C0', 'C1', 'C2', 'C3'],\n",
    "                    'D': ['D0', 'D1', 'D2', 'D3']})\n",
    "print(pd.merge(df1,df2,on='key'))\n",
    "print('--------------------')\n",
    "# left:第一个df，right：第二个df\n",
    "# on：参考键\n",
    "# 参数 left_on, right_on, left_index, right_index → 当键不为一个列时，可以单独设置左键与右键\n",
    "print(pd.merge(df3,df4,on=['key1','key2']))\n",
    "#多个链接键\n",
    "\n",
    "print(pd.merge(df3,df4,on=['key1','key2'], how='inner'))\n",
    "print('-------------')\n",
    "# 参数how → 合并方式\n",
    "    # inner：默认，取交集\n",
    "    # outer：取并集，数据缺失范围NaN\n",
    "    # left：按照df3为参考合并，数据缺失范围NaN\n",
    "    # right：按照df4为参考合并，数据缺失范围NaN"
   ]
  },
  {
   "cell_type": "markdown",
   "metadata": {},
   "source": [
    "### 2、制图"
   ]
  },
  {
   "cell_type": "code",
   "execution_count": 79,
   "metadata": {},
   "outputs": [
    {
     "data": {
      "text/plain": [
       "<matplotlib.axes._subplots.AxesSubplot at 0x19ea8287780>"
      ]
     },
     "execution_count": 79,
     "metadata": {},
     "output_type": "execute_result"
    },
    {
     "data": {
      "image/png": "[encoded data removed]",
      "text/plain": [
       "<matplotlib.figure.Figure at 0x19ea82b68d0>"
      ]
     },
     "metadata": {},
     "output_type": "display_data"
    }
   ],
   "source": [
    "import matplotlib.pyplot as plt\n",
    "%matplotlib inline\n",
    "\n",
    "df = pd.DataFrame(np.random.randn(300,4),columns=list('ABCD'))\n",
    "df = df.cumsum()\n",
    "df.plot(style='--.', alpha = 0.8, colormap='GnBu', figsize=(12,5), grid=True)\n",
    "#直方图"
   ]
  },
  {
   "cell_type": "code",
   "execution_count": 81,
   "metadata": {},
   "outputs": [
    {
     "data": {
      "text/plain": [
       "<matplotlib.axes._subplots.AxesSubplot at 0x19ea945cfd0>"
      ]
     },
     "execution_count": 81,
     "metadata": {},
     "output_type": "execute_result"
    },
    {
     "data": {
      "text/plain": [
       "<matplotlib.figure.Figure at 0x19ea83a0518>"
      ]
     },
     "metadata": {},
     "output_type": "display_data"
    },
    {
     "data": {
      "image/png": "[encoded data removed]",
      "text/plain": [
       "<matplotlib.figure.Figure at 0x19ea83f9eb8>"
      ]
     },
     "metadata": {},
     "output_type": "display_data"
    }
   ],
   "source": [
    "# 堆叠直方图\n",
    "plt.figure(num=1, figsize=(12,5))\n",
    "df = pd.DataFrame({'a':np.random.randn(1000)+1,\n",
    "                  'b':np.random.randn(1000),\n",
    "                  'c':np.random.randn(1000)-1,\n",
    "                  'd':np.random.randn(1000)-2}, columns=['a','b','c','d'])\n",
    "df.plot.hist(stacked=True, #是否堆叠\n",
    "            bins = 20,\n",
    "            colormap='Greens_r',\n",
    "            alpha =0.5,\n",
    "            grid = True)\n"
   ]
  },
  {
   "cell_type": "code",
   "execution_count": 82,
   "metadata": {},
   "outputs": [
    {
     "data": {
      "text/plain": [
       "array([[<matplotlib.axes._subplots.AxesSubplot object at 0x0000019EA7EA87F0>,\n",
       "        <matplotlib.axes._subplots.AxesSubplot object at 0x0000019EA981F7B8>],\n",
       "       [<matplotlib.axes._subplots.AxesSubplot object at 0x0000019EA9857828>,\n",
       "        <matplotlib.axes._subplots.AxesSubplot object at 0x0000019EA988F908>]],\n",
       "      dtype=object)"
      ]
     },
     "execution_count": 82,
     "metadata": {},
     "output_type": "execute_result"
    },
    {
     "data": {
      "image/png": "[encoded data removed]",
      "text/plain": [
       "<matplotlib.figure.Figure at 0x19ea76c8240>"
      ]
     },
     "metadata": {},
     "output_type": "display_data"
    }
   ],
   "source": [
    "# 生成多个直方图\n",
    "df.hist(bins=50,figsize=(12,6))\n"
   ]
  },
  {
   "cell_type": "code",
   "execution_count": 85,
   "metadata": {},
   "outputs": [
    {
     "data": {
      "image/png": "[encoded data removed]",
      "text/plain": [
       "<matplotlib.figure.Figure at 0x19ea9ba6a58>"
      ]
     },
     "metadata": {},
     "output_type": "display_data"
    }
   ],
   "source": [
    "# plt.scatter() 散点图\n",
    "plt.figure(figsize=(8,6))\n",
    "x = np.random.randn(1000)\n",
    "y = np.random.randn(1000)\n",
    "plt.scatter(x,y,\n",
    "           marker='.',\n",
    "           linewidth=0.8,\n",
    "           edgecolor='k',\n",
    "           s = np.random.randn(1000)*100,\n",
    "           cmap = 'Reds',\n",
    "           c = y,\n",
    "           alpha = 0.8)\n",
    "plt.grid()\n",
    "# s: 散点的大小\n",
    "# c：散点的颜色\n",
    "# vmin, Vmax: 亮度设置，标量\n",
    "# camp: colormap"
   ]
  }
 ],
 "metadata": {
  "kernelspec": {
   "display_name": "Python 3",
   "language": "python",
   "name": "python3"
  },
  "language_info": {
   "codemirror_mode": {
    "name": "ipython",
    "version": 3
   },
   "file_extension": ".py",
   "mimetype": "text/x-python",
   "name": "python",
   "nbconvert_exporter": "python",
   "pygments_lexer": "ipython3",
   "version": "3.6.4"
  }
 },
 "nbformat": 4,
 "nbformat_minor": 2
}
